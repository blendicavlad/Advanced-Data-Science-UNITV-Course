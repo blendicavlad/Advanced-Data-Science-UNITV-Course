{
 "cells": [
  {
   "cell_type": "markdown",
   "metadata": {},
   "source": [
    "# <img style=\"float: left; padding-right: 10px; width: 150px\" src=\"../../_UNITBV_ADS_2019/unitbv2.png\"> SIIPA2020- Știința Explorării și Exploatării Datelor - ADS1  \n",
    "\n",
    "\n",
    "\n",
    "\n",
    "\n",
    "\n",
    "## <center>Laborator 2: Lucrul cu dataframe-uri. Vizualizarea datelor. Corelatii.</center>\n",
    "**Universitatea Transilvania**<br>\n",
    "**Semestrul I, 2020-2021**<br>\n",
    "**Instructor:** Conf. univ. dr. Teodor &Scedil;tefan B&icirc;ldea<br>\n",
    "**Contact:** teodor.bildea@unitbv.ro<br>\n",
    "\n",
    "### Cuprins\n",
    "0. Recapitulare laborator 1\n",
    "1. Citirea fisierelor din seturile repartizate\n",
    "2. Combinarea mai multor dataframe-uri\n",
    "3. Vizualizarea datelor: matplotlib, plotly"
   ]
  },
  {
   "cell_type": "markdown",
   "metadata": {},
   "source": [
    "# 0. Recapitulare laborator 1\n",
    "\n",
    "Importuri necesare"
   ]
  },
  {
   "cell_type": "code",
   "execution_count": 1,
   "metadata": {},
   "outputs": [],
   "source": [
    "# libraria pentru lucrul tabelar\n",
    "import pandas as pd\n",
    "\n",
    "# libraria pentru functii matematice\n",
    "import numpy as np"
   ]
  },
  {
   "cell_type": "markdown",
   "metadata": {},
   "source": [
    "## tipuri de date\n",
    "\n",
    ">1 .csv\n",
    "- se foloseste metoda pandas `read_csv` pt citirea unui fisier .csv\n",
    "- daca sunt mai multe se citesc pe rand, si din documentatie se afla cheile/id-uri pe care le putem folosi pentru a crea un singur tabel mare in urma unei secvente de instructiuni 'merge' despre care vom vorbi mai jos\n",
    "\n",
    ">2 .xlsx\n",
    "- se foloseste metoda pandas `read_excel` si se specifica cel putin worksheetul\n",
    "\n",
    ">3 Alte formate de date: sqlite\n",
    "- se foloseste libraria `sqlite3` - este un import mai special, vom vedea mai jos detalii\n"
   ]
  },
  {
   "cell_type": "markdown",
   "metadata": {},
   "source": [
    "# Niste configurari"
   ]
  },
  {
   "cell_type": "code",
   "execution_count": 12,
   "metadata": {},
   "outputs": [
    {
     "data": {
      "text/plain": [
       "'C:\\\\work\\\\UNITBV_DataMining\\\\2020-2021\\\\SEED_ADS\\\\Curs\\\\Echipe\\\\DateProiecte'"
      ]
     },
     "execution_count": 12,
     "metadata": {},
     "output_type": "execute_result"
    }
   ],
   "source": [
    "# calea catre seturile de date\n",
    "input_path = r'C:\\work\\UNITBV_DataMining\\2020-2021\\SEED_ADS\\Curs\\Echipe\\DateProiecte'\n",
    "input_path"
   ]
  },
  {
   "cell_type": "markdown",
   "metadata": {},
   "source": [
    "## Citirea pentru datele unei echipe"
   ]
  },
  {
   "cell_type": "markdown",
   "metadata": {},
   "source": [
    "Va trebui sa schimbati variabila \n",
    "\n",
    "`input_path`\n",
    "\n",
    "catre calea voastra.\n",
    "\n",
    "Definim o functie pentru cititul datelor pentru diferitele tipuri de date intalnite in proiecte."
   ]
  },
  {
   "cell_type": "markdown",
   "metadata": {},
   "source": [
    "## Date tip .csv\n",
    "\n",
    "Pentru proiectele cu mai multe fisiere cautam prima data fisierele si construim dictionare de dataframe-uri.\n",
    "\n",
    "Cele mai multe fisiere le are echipa 1:"
   ]
  },
  {
   "cell_type": "code",
   "execution_count": 25,
   "metadata": {},
   "outputs": [
    {
     "name": "stdout",
     "output_type": "stream",
     "text": [
      "audi (10668, 9)\n",
      "bmw (10781, 9)\n",
      "cclass (3899, 7)\n",
      "focus (5454, 7)\n",
      "ford (17965, 9)\n",
      "hyundi (4860, 9)\n",
      "merc (13119, 9)\n",
      "skoda (6267, 9)\n",
      "toyota (6738, 9)\n",
      "unclean cclass (4006, 11)\n",
      "unclean focus (5604, 11)\n",
      "vauxhall (13632, 9)\n",
      "vw (15157, 9)\n"
     ]
    }
   ],
   "source": [
    "import glob\n",
    "\n",
    "path = input_path +\"\\\\Echipa1\\\\*.csv\"\n",
    "\n",
    "dict_df = {}\n",
    "for fname in glob.glob(path):\n",
    "    #print(fname)\n",
    "    try:\n",
    "        # citire fisier csv si adaugare in dictionar cu cheia = nume fara cale si terminatie\n",
    "        dict_df[fname.replace(input_path +\"\\\\Echipa1\\\\\",\"\").replace(\".csv\",\"\")] = \\\n",
    "                            pd.read_csv(fname)\n",
    "    \n",
    "     except:\n",
    "        print('eroare la citire fisier {0}', fname)\n",
    "\n",
    "    \n",
    "# verificam citirea\n",
    "for key in dict_df.keys():\n",
    "    print(key, dict_df[key].shape)"
   ]
  },
  {
   "cell_type": "markdown",
   "metadata": {},
   "source": [
    "## Date tip .xlsx\n",
    "\n",
    "La echipa 5 am vazut fisier de tip xlsx. Pastrez structura de mai sus in caz ca ar putea fi mai multe fisiere input in format xlsx."
   ]
  },
  {
   "cell_type": "code",
   "execution_count": 33,
   "metadata": {},
   "outputs": [
    {
     "name": "stdout",
     "output_type": "stream",
     "text": [
      "Kaggle_Sirio_Libanes_ICU_Prediction.xlsx (1925, 231)\n"
     ]
    }
   ],
   "source": [
    "import glob\n",
    "path = input_path +\"\\\\Echipa5\\\\*.xlsx\"\n",
    "\n",
    "dict_df = {}\n",
    "for fname in glob.glob(path):\n",
    "    #print(fname)\n",
    "    try:\n",
    "        # citire fisier csv si adaugare in dictionar cu cheia = nume fara cale si terminatie\n",
    "        dict_df[fname.replace(input_path +\"\\\\Echipa5\\\\\",\"\").replace(\".csv\",\"\")] = \\\n",
    "                            pd.read_excel(fname, sheet_name = \"Sheet1\")\n",
    "    \n",
    "    except:\n",
    "        print('eroare la citire fisier {0}', fname)\n",
    "\n",
    "    \n",
    "# verificam citirea\n",
    "for key in dict_df.keys():\n",
    "    print(key, dict_df[key].shape)"
   ]
  },
  {
   "cell_type": "markdown",
   "metadata": {},
   "source": [
    "## Date tip sqlite3\n",
    "\n",
    "Echipa 6 are un statut aparte: format sqlite. In caz ca nu ati rezolvat inca citirea:"
   ]
  },
  {
   "cell_type": "code",
   "execution_count": 26,
   "metadata": {},
   "outputs": [
    {
     "data": {
      "text/html": [
       "<div>\n",
       "<style scoped>\n",
       "    .dataframe tbody tr th:only-of-type {\n",
       "        vertical-align: middle;\n",
       "    }\n",
       "\n",
       "    .dataframe tbody tr th {\n",
       "        vertical-align: top;\n",
       "    }\n",
       "\n",
       "    .dataframe thead th {\n",
       "        text-align: right;\n",
       "    }\n",
       "</style>\n",
       "<table border=\"1\" class=\"dataframe\">\n",
       "  <thead>\n",
       "    <tr style=\"text-align: right;\">\n",
       "      <th></th>\n",
       "      <th>name</th>\n",
       "    </tr>\n",
       "  </thead>\n",
       "  <tbody>\n",
       "    <tr>\n",
       "      <th>0</th>\n",
       "      <td>Country</td>\n",
       "    </tr>\n",
       "    <tr>\n",
       "      <th>1</th>\n",
       "      <td>League</td>\n",
       "    </tr>\n",
       "    <tr>\n",
       "      <th>2</th>\n",
       "      <td>Match</td>\n",
       "    </tr>\n",
       "    <tr>\n",
       "      <th>3</th>\n",
       "      <td>Player</td>\n",
       "    </tr>\n",
       "    <tr>\n",
       "      <th>4</th>\n",
       "      <td>Player_Attributes</td>\n",
       "    </tr>\n",
       "    <tr>\n",
       "      <th>5</th>\n",
       "      <td>Team</td>\n",
       "    </tr>\n",
       "    <tr>\n",
       "      <th>6</th>\n",
       "      <td>Team_Attributes</td>\n",
       "    </tr>\n",
       "    <tr>\n",
       "      <th>7</th>\n",
       "      <td>sqlite_sequence</td>\n",
       "    </tr>\n",
       "  </tbody>\n",
       "</table>\n",
       "</div>"
      ],
      "text/plain": [
       "                name\n",
       "0            Country\n",
       "1             League\n",
       "2              Match\n",
       "3             Player\n",
       "4  Player_Attributes\n",
       "5               Team\n",
       "6    Team_Attributes\n",
       "7    sqlite_sequence"
      ]
     },
     "metadata": {},
     "output_type": "display_data"
    },
    {
     "name": "stdout",
     "output_type": "stream",
     "text": [
      "extragere date tabel  Country\n",
      "extragere date tabel  League\n",
      "extragere date tabel  Match\n",
      "extragere date tabel  Player\n",
      "extragere date tabel  Player_Attributes\n",
      "extragere date tabel  Team\n",
      "extragere date tabel  Team_Attributes\n",
      "extragere date tabel  sqlite_sequence\n"
     ]
    }
   ],
   "source": [
    "import sqlite3\n",
    "\n",
    "# conectarea la db\n",
    "conn = sqlite3.connect(input_path + \"/Echipa6/database.sqlite\")\n",
    "\n",
    "# numele tabelelor\n",
    "df_tables = pd.read_sql_query(\"SELECT name FROM sqlite_master WHERE type='table' ORDER BY name;\", conn)\n",
    "display(df_tables)\n",
    "\n",
    "# lista cu dataframe-uri\n",
    "dataframes = {}\n",
    "for _,row in df_tables.iterrows():\n",
    "\n",
    "    print('extragere date tabel ', row[0])\n",
    "\n",
    "    df_temp = pd.read_sql_query(\"SELECT * FROM \" + row[0], conn)\n",
    "\n",
    "    dataframes[row[0]] = df_temp\n",
    "\n"
   ]
  },
  {
   "cell_type": "markdown",
   "metadata": {},
   "source": [
    "## Date in format .json\n",
    "\n",
    "Veti intalni adesea acest format, a devenit foarte popular. Echipa 7 are un fisier in format json, probabil identic cu cel in format csv. Din am lasat partea de cod care se uita dupa toate fisierele json pentru a limita personalizarea la datele echipei 7.\n",
    "\n"
   ]
  },
  {
   "cell_type": "code",
   "execution_count": 35,
   "metadata": {},
   "outputs": [
    {
     "name": "stdout",
     "output_type": "stream",
     "text": [
      "C:\\work\\UNITBV_DataMining\\2020-2021\\SEED_ADS\\Curs\\Echipe\\DateProiecte\\Echipa7\\winemag-data-130k-v2.json (129971, 13)\n"
     ]
    }
   ],
   "source": [
    "import json\n",
    "import glob\n",
    "\n",
    "    \n",
    "path = input_path +\"\\\\Echipa7\\\\*.json\"\n",
    "\n",
    "dict_df = {}\n",
    "for fname in glob.glob(path):\n",
    "    #print(fname)\n",
    "    try:\n",
    "        # citire fisier csv si adaugare in dictionar cu cheia = nume fara cale si terminatie\n",
    "        dict_df[fname.replace(input_path +\"\\\\Echipa5\\\\\",\"\").replace(\".csv\",\"\")] = \\\n",
    "                            pd.read_json(fname)\n",
    "    \n",
    "    except:\n",
    "        print('eroare la citire fisier {0}', fname)\n",
    "\n",
    "    \n",
    "# verificam citirea\n",
    "for key in dict_df.keys():\n",
    "    print(key, dict_df[key].shape)\n"
   ]
  },
  {
   "cell_type": "markdown",
   "metadata": {},
   "source": [
    "### Exercitiul 1:\n",
    "\n",
    "Pentru toate tabelele din proiect, listati:\n",
    "    - structura\n",
    "    - tipurile de date ale coloanelor\n",
    "    - statistica pentru coloanele numerice\n",
    "    - pentru restul coloanelor listati valorile distincte\n",
    "    - pentru toate coloanele raport cu valorile lipsa si procentul de valori bune (coverage_pct)"
   ]
  },
  {
   "cell_type": "code",
   "execution_count": null,
   "metadata": {},
   "outputs": [],
   "source": []
  },
  {
   "cell_type": "markdown",
   "metadata": {},
   "source": [
    "# Operatii cu un dataframe"
   ]
  },
  {
   "cell_type": "markdown",
   "metadata": {},
   "source": [
    "Tipul datelor"
   ]
  },
  {
   "cell_type": "markdown",
   "metadata": {},
   "source": [
    "Numar de linii si de coloane"
   ]
  },
  {
   "cell_type": "markdown",
   "metadata": {},
   "source": [
    "Date lipsa"
   ]
  },
  {
   "cell_type": "markdown",
   "metadata": {},
   "source": [
    "Statistica pentru datele numerice\n",
    "\n",
    "Puteti folosi pandas profiling, dar pentru a reusi pe date mari evitati calcularea corelatiilor ca in exemplul de mai jos:"
   ]
  },
  {
   "cell_type": "code",
   "execution_count": null,
   "metadata": {},
   "outputs": [],
   "source": [
    "import pandas_profiling as prof\n",
    "a = prof.ProfileReport(df, check_correlation=False)"
   ]
  },
  {
   "cell_type": "markdown",
   "metadata": {},
   "source": [
    "Numele coloanelor"
   ]
  },
  {
   "cell_type": "markdown",
   "metadata": {},
   "source": [
    "## Operatii cu linii"
   ]
  },
  {
   "cell_type": "markdown",
   "metadata": {},
   "source": [
    "Filtrare/Selectare conditionata"
   ]
  },
  {
   "cell_type": "markdown",
   "metadata": {},
   "source": [
    "Selectarea unei linii prin numar de referinta"
   ]
  },
  {
   "cell_type": "markdown",
   "metadata": {},
   "source": [
    "# Operatii cu coloane"
   ]
  },
  {
   "cell_type": "markdown",
   "metadata": {},
   "source": [
    "Selectarea unei coloane"
   ]
  },
  {
   "cell_type": "markdown",
   "metadata": {},
   "source": [
    "Selectarea mai multor coloane"
   ]
  },
  {
   "cell_type": "markdown",
   "metadata": {},
   "source": [
    "Redenumirea coloanelor"
   ]
  },
  {
   "cell_type": "markdown",
   "metadata": {},
   "source": [
    "Stergerea unei coloane sau a unei liste de coloane"
   ]
  },
  {
   "cell_type": "markdown",
   "metadata": {},
   "source": [
    "# Lucrul cu mai multe dataframe-uri in pandas\n",
    "\n",
    "## Metode de combinare:\n",
    "\n",
    "Concatenare\n",
    "\n",
    "Join/Merge\n",
    "- intern\n",
    "- extern\n",
    "    -extern pe stanga\n",
    "    -extern pe dreapta"
   ]
  },
  {
   "cell_type": "markdown",
   "metadata": {},
   "source": [
    "# Concatenarea unei liste de dataframe-uri\n",
    "\n",
    "Se poate face indiferent de structura, insa mare atentie:\n",
    "\n",
    "- daca toate dataframe-urile au acelasi header, adica aceleasi coloane, rezultatul este reuniunea seturilor de date\n",
    "\n",
    "- daca structura este diferita, atunci la final dataframe-ul rezultat are ca si coloane reuniunea tuturor coloanelor ce apartin dataframe-urilor din lista; acolo unde pentru un dataframe din lista lipsea o coloana din cele de la final, se va umple cu None (valoare lipsa)\n",
    "\n",
    "NOTA:\n",
    "Nu intotdeauna operatia de mai sus este dorita. "
   ]
  },
  {
   "cell_type": "markdown",
   "metadata": {},
   "source": [
    "# Exemplul 1 - concat"
   ]
  },
  {
   "cell_type": "code",
   "execution_count": 47,
   "metadata": {},
   "outputs": [
    {
     "data": {
      "text/html": [
       "<div>\n",
       "<style scoped>\n",
       "    .dataframe tbody tr th:only-of-type {\n",
       "        vertical-align: middle;\n",
       "    }\n",
       "\n",
       "    .dataframe tbody tr th {\n",
       "        vertical-align: top;\n",
       "    }\n",
       "\n",
       "    .dataframe thead th {\n",
       "        text-align: right;\n",
       "    }\n",
       "</style>\n",
       "<table border=\"1\" class=\"dataframe\">\n",
       "  <thead>\n",
       "    <tr style=\"text-align: right;\">\n",
       "      <th></th>\n",
       "      <th>c1</th>\n",
       "      <th>c2</th>\n",
       "      <th>c3</th>\n",
       "    </tr>\n",
       "  </thead>\n",
       "  <tbody>\n",
       "    <tr>\n",
       "      <th>0</th>\n",
       "      <td>0</td>\n",
       "      <td>0</td>\n",
       "      <td>1</td>\n",
       "    </tr>\n",
       "    <tr>\n",
       "      <th>1</th>\n",
       "      <td>1</td>\n",
       "      <td>10</td>\n",
       "      <td>3</td>\n",
       "    </tr>\n",
       "    <tr>\n",
       "      <th>2</th>\n",
       "      <td>2</td>\n",
       "      <td>20</td>\n",
       "      <td>5</td>\n",
       "    </tr>\n",
       "    <tr>\n",
       "      <th>3</th>\n",
       "      <td>3</td>\n",
       "      <td>30</td>\n",
       "      <td>7</td>\n",
       "    </tr>\n",
       "    <tr>\n",
       "      <th>4</th>\n",
       "      <td>4</td>\n",
       "      <td>40</td>\n",
       "      <td>9</td>\n",
       "    </tr>\n",
       "    <tr>\n",
       "      <th>0</th>\n",
       "      <td>10</td>\n",
       "      <td>1</td>\n",
       "      <td>100</td>\n",
       "    </tr>\n",
       "    <tr>\n",
       "      <th>1</th>\n",
       "      <td>11</td>\n",
       "      <td>3</td>\n",
       "      <td>110</td>\n",
       "    </tr>\n",
       "    <tr>\n",
       "      <th>2</th>\n",
       "      <td>12</td>\n",
       "      <td>5</td>\n",
       "      <td>120</td>\n",
       "    </tr>\n",
       "    <tr>\n",
       "      <th>3</th>\n",
       "      <td>13</td>\n",
       "      <td>7</td>\n",
       "      <td>130</td>\n",
       "    </tr>\n",
       "    <tr>\n",
       "      <th>4</th>\n",
       "      <td>14</td>\n",
       "      <td>9</td>\n",
       "      <td>140</td>\n",
       "    </tr>\n",
       "  </tbody>\n",
       "</table>\n",
       "</div>"
      ],
      "text/plain": [
       "   c1  c2   c3\n",
       "0   0   0    1\n",
       "1   1  10    3\n",
       "2   2  20    5\n",
       "3   3  30    7\n",
       "4   4  40    9\n",
       "0  10   1  100\n",
       "1  11   3  110\n",
       "2  12   5  120\n",
       "3  13   7  130\n",
       "4  14   9  140"
      ]
     },
     "metadata": {},
     "output_type": "display_data"
    }
   ],
   "source": [
    "# constructie de data frame din lista de dictionare cu aceeasi structura\n",
    "\n",
    "lst1 = [{'c1':i,'c2':10*i,'c3':2*i+1} for i in range(5)]\n",
    "lst2 = [{'c1':i,'c3':10*i,'c2':2*(i-10)+1} for i in range(10,15)]\n",
    "lst3 = [{'c1':i,'c2':100*i} for i in range(5)]\n",
    "lst4 = [{'c1':i,'c4':7*i} for i in range(5)]\n",
    "\n",
    "df1 = pd.DataFrame(lst1)\n",
    "df2 = pd.DataFrame(lst2)\n",
    "df3 = pd.DataFrame(lst3)\n",
    "df4 = pd.DataFrame(lst4)\n",
    "\n",
    "df_12 = pd.concat([df1,df2],sort = False)\n",
    "display(df_12)\n",
    "\n",
    "#...."
   ]
  },
  {
   "cell_type": "markdown",
   "metadata": {},
   "source": [
    "## Poll time:\n",
    "\n",
    "Ce va asteptati sa se intample la concatenarea df2,df3? dar la df3 & df4?"
   ]
  },
  {
   "cell_type": "markdown",
   "metadata": {},
   "source": [
    "## Merge - echivalentul lui \"JOIN\" din SQL \n",
    "\n",
    "Parametrii uzuali:\n",
    "\n",
    "- `on`: lista  cu numele coloanelor in cazul in care au aceleasi nume in ambele dataframerui\n",
    "- `left_on`, `right_on`: numele cheilor pe care se face operatia cand nu sunt la fel\n",
    "- `how`: tipul operatiei - inner, right, left sau outer sunt valori posibile, similare cu operatiile din SQL"
   ]
  },
  {
   "cell_type": "code",
   "execution_count": 51,
   "metadata": {},
   "outputs": [
    {
     "data": {
      "text/html": [
       "<div>\n",
       "<style scoped>\n",
       "    .dataframe tbody tr th:only-of-type {\n",
       "        vertical-align: middle;\n",
       "    }\n",
       "\n",
       "    .dataframe tbody tr th {\n",
       "        vertical-align: top;\n",
       "    }\n",
       "\n",
       "    .dataframe thead th {\n",
       "        text-align: right;\n",
       "    }\n",
       "</style>\n",
       "<table border=\"1\" class=\"dataframe\">\n",
       "  <thead>\n",
       "    <tr style=\"text-align: right;\">\n",
       "      <th></th>\n",
       "      <th>c1</th>\n",
       "      <th>c2</th>\n",
       "      <th>c4</th>\n",
       "    </tr>\n",
       "  </thead>\n",
       "  <tbody>\n",
       "    <tr>\n",
       "      <th>0</th>\n",
       "      <td>0</td>\n",
       "      <td>0</td>\n",
       "      <td>0</td>\n",
       "    </tr>\n",
       "    <tr>\n",
       "      <th>1</th>\n",
       "      <td>1</td>\n",
       "      <td>100</td>\n",
       "      <td>7</td>\n",
       "    </tr>\n",
       "    <tr>\n",
       "      <th>2</th>\n",
       "      <td>2</td>\n",
       "      <td>200</td>\n",
       "      <td>14</td>\n",
       "    </tr>\n",
       "    <tr>\n",
       "      <th>3</th>\n",
       "      <td>3</td>\n",
       "      <td>300</td>\n",
       "      <td>21</td>\n",
       "    </tr>\n",
       "    <tr>\n",
       "      <th>4</th>\n",
       "      <td>4</td>\n",
       "      <td>400</td>\n",
       "      <td>28</td>\n",
       "    </tr>\n",
       "  </tbody>\n",
       "</table>\n",
       "</div>"
      ],
      "text/plain": [
       "   c1   c2  c4\n",
       "0   0    0   0\n",
       "1   1  100   7\n",
       "2   2  200  14\n",
       "3   3  300  21\n",
       "4   4  400  28"
      ]
     },
     "metadata": {},
     "output_type": "display_data"
    }
   ],
   "source": [
    "df34_merge = df3.merge(df4, on = ['c1'], how = 'inner')\n",
    "display(df34_merge)"
   ]
  },
  {
   "cell_type": "code",
   "execution_count": null,
   "metadata": {},
   "outputs": [],
   "source": [
    "# merge df1 & df2 lefton, righton - change df2 to have results"
   ]
  },
  {
   "cell_type": "code",
   "execution_count": null,
   "metadata": {},
   "outputs": [],
   "source": []
  }
 ],
 "metadata": {
  "hide_input": false,
  "kernelspec": {
   "display_name": "Python 3",
   "language": "python",
   "name": "python3"
  },
  "language_info": {
   "codemirror_mode": {
    "name": "ipython",
    "version": 3
   },
   "file_extension": ".py",
   "mimetype": "text/x-python",
   "name": "python",
   "nbconvert_exporter": "python",
   "pygments_lexer": "ipython3",
   "version": "3.7.6"
  }
 },
 "nbformat": 4,
 "nbformat_minor": 2
}
