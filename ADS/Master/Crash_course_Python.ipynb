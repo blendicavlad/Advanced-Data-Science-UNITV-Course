{
 "cells": [
  {
   "cell_type": "markdown",
   "metadata": {},
   "source": [
    "# <img style=\"float: left; padding-right: 10px; width: 150px\" src=\"../../_UNITBV_ADS_2019/unitbv2.png\"> SIIPA2020- Știința Explorării și Exploatării Datelor - ADS1  \n",
    "\n",
    "\n",
    "\n",
    "\n",
    "\n",
    "\n",
    "## <center>Curs 2 - Partea a II-a: Introducere în Python</center>\n",
    "**Universitatea Transilvania**<br>\n",
    "**Semestrul I, 2020-2021**<br>\n",
    "**Instructor:**Conf. dr. Teodor &Scedil;tefan B&icirc;ldea<br>\n",
    "**Contact:** teodor.bildea@unitbv.ro<br>"
   ]
  },
  {
   "cell_type": "markdown",
   "metadata": {},
   "source": [
    "> Disclaimer - acest fișier este în mare parte traducerea cu ajutorul Google translate a capitolului 2 din cartea lui Joe Grus „Data Science from Scratch”. Nu am apucat să asanez toată traducerea - vă rog dacă observați ciudățenii de exprimare să mi le semnalați. \n",
    "\n",
    "> Acest fișier conține referințe de bază legate de elemente de programare uzuală: sintaxă de bază Python, cum se face o condiționare (sintaxa if-then-else), cum se face o buclă (for-loops), dar și elemente specifice Python care îl fac după părerea mea un limbaj boem și plăcut de utilizat. \n",
    "\n",
    "> În afară de ce am reușit să cuprind aici, ca și în cazul altor eforturi de programare, google it + stackoverflow.com sunt de departe cele mai simple ajutoare."
   ]
  },
  {
   "cell_type": "markdown",
   "metadata": {},
   "source": [
    "# Obținerea Python\n",
    "\n",
    "Puteți descărca Python de pe python.org. Dar dacă nu aveți deja Python, eu\n",
    "recomand în schimb să instalați distribuția Anaconda, care include deja cea mai mare parte\n",
    "din bibliotecile de care aveți nevoie pentru curs.\n",
    "În timp ce scriu acest curs, ultima versiune a Python este 3.7 Asigurați-vă că obțineți versiunea respectivă.\n",
    "\n",
    "\n",
    "Dacă nu reusiți cu Anaconda, asigurați-vă că instalați pip, care este un manager de pachete Python\n",
    "care vă permite să instalați cu ușurință pachete terțe (dintre care unele avem nevoie). De asemenea\n",
    "merită să obțineți IPython, care este o versiune Python mult mai frumoasă cu care să lucrați.\n",
    "(Dacă ați instalat Anaconda, atunci ar fi trebuit să vină cu pip și IPython.)\n",
    "Pur și simplu tastati in linia de comanda:\n",
    "pip install ipython\n",
    "apoi căutați pe internet soluții pentru orice mesaj criptic de eroare care cauzează.\n",
    "\n",
    " "
   ]
  },
  {
   "cell_type": "markdown",
   "metadata": {},
   "source": [
    "# Zenul din Python\n",
    "Python are o descriere oarecum Zen a principiilor sale de proiectare, pe care le puteți găsi de asemenea\n",
    "în interiorul interpretrului de Python însuși.\n",
    "\n",
    "Unul dintre cele mai discutate dintre acestea este:\n",
    "Ar trebui să existe unul - și, de preferință, unul singur -  mod evident de a scrie cod pentru a realiza o secventa de instructiuni dorita.\n",
    "\n",
    "Cod scris în conformitate cu acest mod „evident” (care nu poate fi deloc evident pentru a\n",
    "nou-venit) este adesea descris ca „Pythonic” (pitonic) Deși aceasta nu este un curs despre Python, noi\n",
    "vom contrasta ocazional modalități pitonice și non-pitonice de a realiza același lucru\n",
    "și, în general, vom favoriza soluțiile pitonice pentru problemele noastre."
   ]
  },
  {
   "cell_type": "markdown",
   "metadata": {},
   "source": [
    "## Data science și limbajele de programare\n",
    "\n",
    "În explorarea datelor nu există un standard acceptat de toată lumea pentru limbajul folosit. Pe tăcute s-au dezvoltat în „lumea liberă” a internetului două limbaje (R și Python) care au pus accentul pe implementarea unor algoritmi de procesare a datelor în vederea rezolvării unor probleme concrete ce nu păreau a fi de interes nici pentru statisticieni, nici pentru informaticieni - majoritatea problemelor au apărut din piață. Așa a început ceea ce îmi place să numesc democratizarea explorării datelor.\n",
    "\n",
    ">Notă istorică:  În 2005 modul uzual de lucra cu librării de funcții statistice era prin intermediul MATLAB - din experiență proprie o licență la firmă costa $10 000.\n",
    "\n",
    "Un data scientist folosește în principiu limbajul adecvat care să scoată valoare din date. Ar putea fi MS Excel, R, Python dar poate ajunge la Pyspark, Pytorch (bazate pe Python) - pentru calcule cu date masive într-o infrastructură cloud (AWS, Azure, etc.). Mai nou Microsoft depune eforturi serose\n",
    "\n",
    "Am ales Python pentru că este compromisul între lumea celor care lucreaza cu dataframe-uris și modele de învățare statistică codate în librării de funcții accesibile tuturor în mod gratuit și lumea programatorilor de profesie unde programarea orientată pe obiect și alte elemente de la sine întelese în C# de exemplu ar trebui să fie prezente.\n",
    "\n",
    "În plus mai e și <a href=\"https://www.youtube.com/watch?v=T4JkCkfvKwg\">asta</a>.\n"
   ]
  },
  {
   "cell_type": "markdown",
   "metadata": {},
   "source": [
    "## Jupyter Notebook\n",
    "\n",
    "Dacă citiți aceste rânduri ați reușit deja să instalați Anaconda și să deschideți acest Jupyter notebook. Aceste fișiere sunt foarte versatile permitând combinarea celulelor de diferite tipuri: pentru moment să diferențiem celulele de tip cod etichetate `Code` și cele de tip `Markdown` pentru text - aceasta precum si toate celulele anterioare au fost de acest tip."
   ]
  },
  {
   "cell_type": "markdown",
   "metadata": {},
   "source": [
    "# Progamare în Python - o introducere blândă\n",
    "\n",
    "Vom învăța în spiritul need-base - ce avem nevoie pentru a avansa. Este în industrie o regulă simplă pe care vă sugerez să o urmați:\n",
    "- dacă vă blocați mai mult de 20 de minute cu o chestiune de programare cereți ajutor \n",
    "\n",
    "Ajutorul poate varia (pe internet - google it + stackoverflow.com, prieteni, si nu în ultimul rând teodor.bildea@unitbv.ro). Totul e să și rămâneți cu ceva din ajutorul primit, să nu fie doar un copy/paste/fixit."
   ]
  },
  {
   "cell_type": "markdown",
   "metadata": {},
   "source": [
    "## Formatare white space/blank/spațiu (alb?)\n",
    "Multe limbi folosesc bretele cret pentru a delimita blocurile de cod. Python folosește indentarea:"
   ]
  },
  {
   "cell_type": "code",
   "execution_count": 3,
   "metadata": {
    "collapsed": true
   },
   "outputs": [
    {
     "name": "stdout",
     "output_type": "stream",
     "text": [
      "1\n",
      "1\n",
      "2\n",
      "2\n",
      "3\n",
      "3\n",
      "4\n",
      "4\n",
      "5\n",
      "5\n",
      "6\n",
      "1\n",
      "2\n",
      "1\n",
      "3\n",
      "2\n",
      "4\n",
      "3\n",
      "5\n",
      "4\n",
      "6\n",
      "5\n",
      "7\n",
      "2\n",
      "3\n",
      "1\n",
      "4\n",
      "2\n",
      "5\n",
      "3\n",
      "6\n",
      "4\n",
      "7\n",
      "5\n",
      "8\n",
      "3\n",
      "4\n",
      "1\n",
      "5\n",
      "2\n",
      "6\n",
      "3\n",
      "7\n",
      "4\n",
      "8\n",
      "5\n",
      "9\n",
      "4\n",
      "5\n",
      "1\n",
      "6\n",
      "2\n",
      "7\n",
      "3\n",
      "8\n",
      "4\n",
      "9\n",
      "5\n",
      "10\n",
      "5\n",
      "done looping\n"
     ]
    }
   ],
   "source": [
    "for i in [1, 2, 3, 4, 5]:\n",
    "    \n",
    "    print(i) # first line in \"for i\" block\n",
    "    \n",
    "    for j in [1, 2, 3, 4, 5]:\n",
    "        \n",
    "        print (j) # first line in \"for j\" block\n",
    "        print (i + j) # last line in \"for j\" block\n",
    "        \n",
    "    print (i) # last line in \"for i\" block\n",
    "    \n",
    "print (\"done looping\")\n"
   ]
  },
  {
   "cell_type": "markdown",
   "metadata": {},
   "source": [
    "Acest lucru face ca codul Python să fie foarte lizibil, dar înseamnă, de asemenea, că trebuie să fii foarte atent\n",
    "cu formatarea ta. Spațiul alb este ignorat în paranteze, ceea ce poate fi\n",
    "util pentru calcule lungi:"
   ]
  },
  {
   "cell_type": "code",
   "execution_count": null,
   "metadata": {},
   "outputs": [],
   "source": [
    "\n",
    "long_winded_computation = (1 + 2 + 3 + 4 + 5 + 6 + 7 + 8 + 9 + 10 + 11 + 12 +\n",
    "                           13 + 14 + 15 + 16 + 17 + 18 + 19 + 20)\n"
   ]
  },
  {
   "cell_type": "markdown",
   "metadata": {},
   "source": [
    "\n",
    "și pentru a facilita citirea codului:"
   ]
  },
  {
   "cell_type": "code",
   "execution_count": null,
   "metadata": {},
   "outputs": [],
   "source": [
    "\n",
    "list_of_lists = [[1, 2, 3], [4, 5, 6], [7, 8, 9]]\n",
    "\n",
    "easier_to_read_list_of_lists = [ [1, 2, 3],\n",
    "                                 [4, 5, 6],\n",
    "                                 [7, 8, 9] ]"
   ]
  },
  {
   "cell_type": "markdown",
   "metadata": {},
   "source": [
    "Puteți utiliza, de asemenea, o versiune inversă pentru a indica faptul că o declarație continuă pe linia următoare,\n",
    "deși vom face asta rar:"
   ]
  },
  {
   "cell_type": "code",
   "execution_count": 8,
   "metadata": {},
   "outputs": [],
   "source": [
    "two_plus_three = 2 + \\\n",
    "                 3"
   ]
  },
  {
   "cell_type": "markdown",
   "metadata": {},
   "source": [
    "# Module\n",
    "\n",
    "Anumite caracteristici ale Python nu sunt încărcate implicit. Acestea includ atat caracteristici incluse\n",
    "ca parte a limbii, precum și funcții terțe pe care le descărcați. Pentru a utiliza aceste funcții, \n",
    "va trebui să importați modulele care le conțin.\n",
    "\n",
    "O abordare este de a importa pur și simplu modulul în sine:"
   ]
  },
  {
   "cell_type": "code",
   "execution_count": null,
   "metadata": {},
   "outputs": [],
   "source": [
    "import re\n",
    "my_regex = re.compile(\"[0-9]+\", re.I)"
   ]
  },
  {
   "cell_type": "markdown",
   "metadata": {},
   "source": [
    "Aici este modulul care conține funcții și constante pentru lucrul cu regulat\n",
    "expresii. După acest tip de import, puteți accesa acele funcții doar prin prefixare\n",
    "ei cu re ..\n",
    "Dacă aveți deja un alt cod în cod, puteți utiliza un alias:"
   ]
  },
  {
   "cell_type": "code",
   "execution_count": null,
   "metadata": {},
   "outputs": [],
   "source": [
    "import re as regex\n",
    "my_regex = regex.compile(\"[0-9]+\", regex.I)"
   ]
  },
  {
   "cell_type": "markdown",
   "metadata": {},
   "source": [
    "Puteți face acest lucru și dacă modulul dvs. are un nume mai ciudat sau complicat sau dacă nu vreți sa\n",
    "tastati mult. De exemplu, atunci când vizualizați datele cu matplotlib, convenția la import este:"
   ]
  },
  {
   "cell_type": "code",
   "execution_count": null,
   "metadata": {},
   "outputs": [],
   "source": [
    "import matplotlib.pyplot as plt"
   ]
  },
  {
   "cell_type": "code",
   "execution_count": null,
   "metadata": {},
   "outputs": [],
   "source": [
    "\n",
    "Dacă aveți nevoie de câteva valori specifice dintr-un modul, le puteți importa explicit și utiliza\n",
    "ei fără calificare:"
   ]
  },
  {
   "cell_type": "code",
   "execution_count": null,
   "metadata": {},
   "outputs": [],
   "source": [
    "from collections import defaultdict, Counter\n",
    "\n",
    "lookup = defaultdict(int)\n",
    "my_counter = Counter()"
   ]
  },
  {
   "cell_type": "markdown",
   "metadata": {},
   "source": [
    "Dacă ați fost o persoană rea, ați putea importa întregul conținut al unui modul în dvs.\n",
    "nume de spații, care ar putea suprascrie din greșeală variabile pe care le-ați definit deja:"
   ]
  },
  {
   "cell_type": "code",
   "execution_count": null,
   "metadata": {},
   "outputs": [],
   "source": [
    "\n",
    "match = 10\n",
    "from re import * # uh oh, re has a match function\n",
    "print match # \"<function re.match>\""
   ]
  },
  {
   "cell_type": "markdown",
   "metadata": {},
   "source": [
    "\n",
    "Cu toate acestea, din moment ce nu sunteți o persoană rea, nu veți face acest lucru niciodată.\n",
    "\n",
    "# Functii\n",
    "\n",
    "\n",
    "O funcție este o regulă pentru a lua zero sau mai multe intrări și a returna o ieșire corespunzătoare. În\n",
    "Python, de obicei definim funcții folosind def:"
   ]
  },
  {
   "cell_type": "code",
   "execution_count": 10,
   "metadata": {},
   "outputs": [],
   "source": [
    "def double(x):\n",
    "    \"\"\"this is where you put an optional docstring\n",
    "    that explains what the function does.\n",
    "    for example, this function multiplies its input by 2\"\"\"\n",
    "    return x * 2"
   ]
  },
  {
   "cell_type": "markdown",
   "metadata": {},
   "source": [
    "\n",
    "Funcțiile Python sunt primare, ceea ce înseamnă că le putem atribui variabilelor și\n",
    "transmite în funcții la fel ca orice alte argumente:"
   ]
  },
  {
   "cell_type": "code",
   "execution_count": 11,
   "metadata": {},
   "outputs": [
    {
     "data": {
      "text/plain": [
       "2"
      ]
     },
     "execution_count": 11,
     "metadata": {},
     "output_type": "execute_result"
    }
   ],
   "source": [
    "def apply_to_one(f):\n",
    "    \"\"\"calls the function f with 1 as its argument\"\"\"\n",
    "    return f(1)\n",
    "my_double = double # refers to the previously defined function\n",
    "x = apply_to_one(my_double) # equals 2\n",
    "x"
   ]
  },
  {
   "cell_type": "markdown",
   "metadata": {},
   "source": [
    "De asemenea, este ușor să creezi funcții anonime scurte sau functii lambda:"
   ]
  },
  {
   "cell_type": "code",
   "execution_count": 14,
   "metadata": {},
   "outputs": [],
   "source": [
    "y = apply_to_one(lambda x: x + 4) # equals 5"
   ]
  },
  {
   "cell_type": "markdown",
   "metadata": {},
   "source": [
    "\n",
    "Puteți atribui lambdas la variabile, deși majoritatea oamenilor vă vor spune că ar trebui\n",
    "folosiți def în schimb:"
   ]
  },
  {
   "cell_type": "code",
   "execution_count": 15,
   "metadata": {},
   "outputs": [],
   "source": [
    "another_double = lambda x: 2 * x # don't do this\n",
    "def another_double(x): return 2 * x # do this instead"
   ]
  },
  {
   "cell_type": "markdown",
   "metadata": {},
   "source": [
    "Parametrii funcției pot fi, de asemenea, dați argumente implicite, care trebuie doar specificate\n",
    "când doriți o altă valoare decât cea implicită:"
   ]
  },
  {
   "cell_type": "code",
   "execution_count": 17,
   "metadata": {},
   "outputs": [
    {
     "name": "stdout",
     "output_type": "stream",
     "text": [
      "hello\n",
      "my default message\n"
     ]
    }
   ],
   "source": [
    "def my_print(message=\"my default message\"):\n",
    "    print (message)\n",
    "my_print(\"hello\") # prints 'hello'\n",
    "my_print() # prints 'my default message'"
   ]
  },
  {
   "cell_type": "markdown",
   "metadata": {},
   "source": [
    "\n",
    "Uneori este util să specificați argumente după nume:"
   ]
  },
  {
   "cell_type": "code",
   "execution_count": 19,
   "metadata": {},
   "outputs": [
    {
     "name": "stdout",
     "output_type": "stream",
     "text": [
      "5\n",
      "-5\n",
      "-5\n"
     ]
    }
   ],
   "source": [
    "def subtract(a=0, b=0):\n",
    "    return a - b\n",
    "print(subtract(10, 5) )# returns 5\n",
    "print(subtract(0, 5) )# returns -5\n",
    "print(subtract(b=5) )# same as previous"
   ]
  },
  {
   "cell_type": "markdown",
   "metadata": {},
   "source": [
    "\n",
    "Vom crea multe, multe funcții."
   ]
  },
  {
   "cell_type": "markdown",
   "metadata": {},
   "source": [
    "# Siruri de caractere\n",
    "\n",
    "Șirurile pot fi delimitate prin ghilimele simple sau duble (dar ghilimelele trebuie să fie\n",
    "Meci):"
   ]
  },
  {
   "cell_type": "code",
   "execution_count": null,
   "metadata": {},
   "outputs": [],
   "source": [
    "single_quoted_string = 'data science'\n",
    "double_quoted_string = \"data science\""
   ]
  },
  {
   "cell_type": "code",
   "execution_count": 1,
   "metadata": {},
   "outputs": [
    {
     "name": "stdout",
     "output_type": "stream",
     "text": [
      "test\n"
     ]
    }
   ],
   "source": [
    "print('test')"
   ]
  },
  {
   "cell_type": "markdown",
   "metadata": {},
   "source": [
    "\n",
    "Python folosește backslash (\\) pentru a codifica caractere speciale. De exemplu:"
   ]
  },
  {
   "cell_type": "code",
   "execution_count": null,
   "metadata": {},
   "outputs": [],
   "source": [
    "tab_string = \"\\t\" # represents the tab character\n",
    "len(tab_string) # is 1"
   ]
  },
  {
   "cell_type": "markdown",
   "metadata": {},
   "source": [
    "Dacă doriți backslashes ca backslashes (pe care le puteți găsi în numele directorului Windows sau\n",
    "în expresii obișnuite), puteți crea șiruri brute folosind r \"\":"
   ]
  },
  {
   "cell_type": "code",
   "execution_count": null,
   "metadata": {},
   "outputs": [],
   "source": [
    "not_tab_string = r\"\\t\" # represents the characters '\\' and 't'\n",
    "len(not_tab_string) # is 2"
   ]
  },
  {
   "cell_type": "code",
   "execution_count": null,
   "metadata": {},
   "outputs": [],
   "source": [
    "Puteți crea șiruri multiline folosind  ghilimele riple:"
   ]
  },
  {
   "cell_type": "code",
   "execution_count": 21,
   "metadata": {},
   "outputs": [],
   "source": [
    "multi_line_string = \"\"\"This is the first line.\n",
    "                    and this is the second line\n",
    "                    and this is the third line\"\"\""
   ]
  },
  {
   "cell_type": "markdown",
   "metadata": {},
   "source": [
    "# Excepţii\n",
    "Când ceva nu merge bine, Python ridică o excepție. Daca acestea nu vor fi manipulate\n",
    "programul tău poate să clacheze. Le puteți gestiona folosind try și except:"
   ]
  },
  {
   "cell_type": "code",
   "execution_count": 23,
   "metadata": {},
   "outputs": [
    {
     "name": "stdout",
     "output_type": "stream",
     "text": [
      "cannot divide by zero\n"
     ]
    }
   ],
   "source": [
    "try:\n",
    "    print (0 / 0)\n",
    "except ZeroDivisionError:\n",
    "    print (\"cannot divide by zero\")"
   ]
  },
  {
   "cell_type": "markdown",
   "metadata": {},
   "source": [
    "\n",
    "Deși în multe limbi, excepțiile sunt considerate rele, în Python nu există nicio rușine\n",
    "în utilizarea acestora pentru a vă face mai curat codul și vom face acest lucru ocazional."
   ]
  },
  {
   "cell_type": "markdown",
   "metadata": {},
   "source": [
    "\n",
    "# Liste\n",
    "Probabil cea mai fundamentală structură de date din Python este lista. O listă este pur și simplu o\n",
    "colectare ordonata. (Este similar cu ceea ce în alte limbi s-ar putea numi vector (array), dar\n",
    "cu unele funcționalități adăugate.)\n"
   ]
  },
  {
   "cell_type": "code",
   "execution_count": null,
   "metadata": {},
   "outputs": [],
   "source": [
    "integer_list = [1, 2, 3]\n",
    "heterogeneous_list = [\"string\", 0.1, True]\n",
    "list_of_lists = [ integer_list, heterogeneous_list, [] ]\n",
    "list_length = len(integer_list) # equals 3\n",
    "list_sum = sum(integer_list) # equals 6"
   ]
  },
  {
   "cell_type": "markdown",
   "metadata": {},
   "source": [
    "Puteți obține sau seta al șaptelea element al unei liste cu paranteze pătrate:"
   ]
  },
  {
   "cell_type": "code",
   "execution_count": null,
   "metadata": {},
   "outputs": [],
   "source": [
    "\n",
    "x = range(10) # is the list [0, 1, ..., 9]\n",
    "zero = x[0] # equals 0, lists are 0-indexed\n",
    "one = x[1] # equals 1\n",
    "nine = x[-1] # equals 9, 'Pythonic' for last element\n",
    "eight = x[-2] # equals 8, 'Pythonic' for next-to-last element\n",
    "x[0] = -1 # now x is [-1, 1, 2, 3, ..., 9]\n"
   ]
  },
  {
   "cell_type": "markdown",
   "metadata": {},
   "source": [
    "\n",
    "De asemenea, puteți utiliza paranteze pătrate pentru listele „felie”:"
   ]
  },
  {
   "cell_type": "code",
   "execution_count": null,
   "metadata": {},
   "outputs": [],
   "source": [
    "first_three = x[:3] # [-1, 1, 2]\n",
    "three_to_end = x[3:] # [3, 4, ..., 9]\n",
    "one_to_four = x[1:5] # [1, 2, 3, 4]\n",
    "last_three = x[-3:] # [7, 8, 9]\n",
    "without_first_and_last = x[1:-1] # [1, 2, ..., 8]\n",
    "copy_of_x = x[:] # [-1, 1, 2, ..., 9]"
   ]
  },
  {
   "cell_type": "code",
   "execution_count": null,
   "metadata": {},
   "outputs": [],
   "source": [
    "\n",
    "Python are un operator in care să verifice dacă este membru al listei:"
   ]
  },
  {
   "cell_type": "code",
   "execution_count": 7,
   "metadata": {},
   "outputs": [
    {
     "name": "stdout",
     "output_type": "stream",
     "text": [
      "True False\n"
     ]
    }
   ],
   "source": [
    "print(1 in [1, 2, 3], # True\n",
    "      0 in [1, 2, 3]) # False"
   ]
  },
  {
   "cell_type": "code",
   "execution_count": null,
   "metadata": {},
   "outputs": [],
   "source": [
    "\n",
    "Această verificare implică examinarea elementelor listei una câte una, ceea ce înseamnă că\n",
    "probabil că nu ar trebui să o utilizați decât dacă știți că lista . este destul de mică (sau dacă nu\n",
    "nu conteaza cât durează verificarea).\n",
    "Este ușor să concatenăm listele împreună:"
   ]
  },
  {
   "cell_type": "code",
   "execution_count": null,
   "metadata": {},
   "outputs": [],
   "source": [
    "x = [1, 2, 3]\n",
    "x.extend([4, 5, 6]) # x is now [1,2,3,4,5,6]"
   ]
  },
  {
   "cell_type": "code",
   "execution_count": null,
   "metadata": {},
   "outputs": [],
   "source": [
    "Dacă nu doriți să modificați x, puteți utiliza adăugarea listei:"
   ]
  },
  {
   "cell_type": "code",
   "execution_count": null,
   "metadata": {},
   "outputs": [],
   "source": [
    "x = [1, 2, 3]\n",
    "y = x + [4, 5, 6] # y is [1, 2, 3, 4, 5, 6]; x is unchanged"
   ]
  },
  {
   "cell_type": "code",
   "execution_count": null,
   "metadata": {},
   "outputs": [],
   "source": [
    "\n",
    "Mai des, vom adăuga la listele unui articol la un moment dat:"
   ]
  },
  {
   "cell_type": "code",
   "execution_count": null,
   "metadata": {},
   "outputs": [],
   "source": [
    "x = [1, 2, 3]\n",
    "x.append(0) # x is now [1, 2, 3, 0]\n",
    "y = x[-1] # equals 0\n",
    "z = len(x) # equals 4"
   ]
  },
  {
   "cell_type": "code",
   "execution_count": null,
   "metadata": {},
   "outputs": [],
   "source": [
    "\n",
    "Adesea este convenabil să despachetați listele dacă știți câte elemente conțin:"
   ]
  },
  {
   "cell_type": "code",
   "execution_count": null,
   "metadata": {},
   "outputs": [],
   "source": [
    "x, y = [1, 2] # now x is 1, y is 2"
   ]
  },
  {
   "cell_type": "code",
   "execution_count": null,
   "metadata": {},
   "outputs": [],
   "source": [
    "\n",
    "deși veți obține un ValueError dacă nu aveți același număr de elemente\n",
    "ambele părți.\n",
    "Este obișnuit să folosești o subliniere pentru o valoare pe care nu o utilizezi:"
   ]
  },
  {
   "cell_type": "code",
   "execution_count": null,
   "metadata": {},
   "outputs": [],
   "source": [
    "_, y = [1, 2] # now y == 2, didn't care about the first element"
   ]
  },
  {
   "cell_type": "markdown",
   "metadata": {},
   "source": [
    "\n",
    "# Tuples\n",
    "\n",
    "Tuplurile sunt rudele imuabile ai listelor. Aproape orice puteți face pentru o listă care nu implică modificarea acesteia, puteți face în mod simplu. Specificați un tuplu folosind paranteze (sau nimic) în loc de paranteze pătrate:"
   ]
  },
  {
   "cell_type": "code",
   "execution_count": null,
   "metadata": {},
   "outputs": [],
   "source": [
    "my_list = [1, 2]\n",
    "my_tuple = (1, 2)\n",
    "other_tuple = 3, 4\n",
    "my_list[1] = 3 # my_list is now [1, 3]\n",
    "try:\n",
    "    my_tuple[1] = 3\n",
    "except TypeError:\n",
    "    print (\"cannot modify a tuple\")\n",
    "\n",
    "print(other_tuple)"
   ]
  },
  {
   "cell_type": "markdown",
   "metadata": {},
   "source": [
    "\n",
    "Tuplele sunt o modalitate convenabilă de a returna mai multe valori din funcții:"
   ]
  },
  {
   "cell_type": "code",
   "execution_count": null,
   "metadata": {},
   "outputs": [],
   "source": [
    "def sum_and_product(x, y):\n",
    "    return (x + y),(x * y)\n",
    "sp = sum_and_product(2, 3) # equals (5, 6)\n",
    "s, p = sum_and_product(5, 10) # s is 15, p is 50"
   ]
  },
  {
   "cell_type": "code",
   "execution_count": null,
   "metadata": {},
   "outputs": [],
   "source": [
    "\n",
    "Tuplele (și listele) pot fi de asemenea utilizate pentru o alocare multiplă:"
   ]
  },
  {
   "cell_type": "code",
   "execution_count": null,
   "metadata": {},
   "outputs": [],
   "source": [
    "x, y = 1, 2 # now x is 1, y is 2\n",
    "x, y = y, x # Pythonic way to swap variables; now x is 2, y is 1"
   ]
  },
  {
   "cell_type": "markdown",
   "metadata": {},
   "source": [
    "# Dicţionare\n",
    "O altă structură fundamentală de date este un dicționar, care asociază valorile cu chei și\n",
    "vă permite să regăsiți rapid valoarea corespunzătoare unei chei date:"
   ]
  },
  {
   "cell_type": "code",
   "execution_count": null,
   "metadata": {},
   "outputs": [],
   "source": [
    "empty_dict = {} # Pythonic\n",
    "empty_dict2 = dict() # less Pythonic\n",
    "grades = { \"Joel\" : 80, \"Tim\" : 95 } # dictionary literal"
   ]
  },
  {
   "cell_type": "code",
   "execution_count": null,
   "metadata": {},
   "outputs": [],
   "source": [
    "\n",
    "Puteți căuta valoarea unei taste folosind paranteze pătrate:"
   ]
  },
  {
   "cell_type": "code",
   "execution_count": null,
   "metadata": {},
   "outputs": [],
   "source": [
    "joels_grade = grades[\"Joel\"] # equals 80"
   ]
  },
  {
   "cell_type": "code",
   "execution_count": null,
   "metadata": {},
   "outputs": [],
   "source": [
    "\n",
    "Dar veți primi un KeyError dacă cereți o cheie care nu este în dicționar:"
   ]
  },
  {
   "cell_type": "code",
   "execution_count": null,
   "metadata": {},
   "outputs": [],
   "source": [
    "try:\n",
    "    kates_grade = grades[\"Kate\"]\n",
    "except KeyError:\n",
    "    print \"no grade for Kate!\""
   ]
  },
  {
   "cell_type": "code",
   "execution_count": null,
   "metadata": {},
   "outputs": [],
   "source": [
    "\n",
    "Puteți verifica existența unei chei folosind:"
   ]
  },
  {
   "cell_type": "code",
   "execution_count": null,
   "metadata": {},
   "outputs": [],
   "source": [
    "joel_has_grade = \"Joel\" in grades # True\n",
    "kate_has_grade = \"Kate\" in grades # False"
   ]
  },
  {
   "cell_type": "code",
   "execution_count": null,
   "metadata": {},
   "outputs": [],
   "source": [
    "\n",
    "Dicționarele au o metodă get care returnează o valoare implicită (în loc să crească un\n",
    "excepție) când căutați o cheie care nu este în dicționar:"
   ]
  },
  {
   "cell_type": "code",
   "execution_count": null,
   "metadata": {},
   "outputs": [],
   "source": [
    "joels_grade = grades.get(\"Joel\", 0) # equals 80\n",
    "kates_grade = grades.get(\"Kate\", 0) # equals 0\n",
    "no_ones_grade = grades.get(\"No One\") # default default is None\n"
   ]
  },
  {
   "cell_type": "code",
   "execution_count": null,
   "metadata": {},
   "outputs": [],
   "source": [
    "\n",
    "Alocați perechi cheie-valoare utilizând aceleași paranteze pătrate:"
   ]
  },
  {
   "cell_type": "code",
   "execution_count": null,
   "metadata": {},
   "outputs": [],
   "source": [
    "grades[\"Tim\"] = 99 # replaces the old value\n",
    "grades[\"Kate\"] = 100 # adds a third entry\n",
    "num_students = len(grades) # equals 3"
   ]
  },
  {
   "cell_type": "markdown",
   "metadata": {},
   "source": [
    "\n",
    "Vom folosi frecvent dicționare ca o modalitate simplă de a reprezenta date structurate:"
   ]
  },
  {
   "cell_type": "code",
   "execution_count": null,
   "metadata": {},
   "outputs": [],
   "source": [
    "tweet = {\n",
    "         \"user\" : \"joelgrus\",\n",
    "         \"text\" : \"Data Science is Awesome\",\n",
    "         \"retweet_count\" : 100,\n",
    "         \"hashtags\" : [\"#data\", \"#science\", \"#datascience\", \"#awesome\", \"#yolo\"]\n",
    "        }"
   ]
  },
  {
   "cell_type": "markdown",
   "metadata": {},
   "source": [
    "\n",
    "Pe lângă căutarea unor chei specifice, le putem privi pe toate:"
   ]
  },
  {
   "cell_type": "code",
   "execution_count": null,
   "metadata": {},
   "outputs": [],
   "source": [
    "tweet_keys = tweet.keys() # list of keys\n",
    "tweet_values = tweet.values() # list of values\n",
    "tweet_items = tweet.items() # list of (key, value) tuples\n",
    "\"user\" in tweet_keys # True, but uses a slow list in\n",
    "\"user\" in tweet # more Pythonic, uses faster dict in\n",
    "\"joelgrus\" in tweet_values # True"
   ]
  },
  {
   "cell_type": "markdown",
   "metadata": {},
   "source": [
    "Cheile de dicționar trebuie să fie imuabile; în special, nu puteți utiliza liste ca chei. daca tu\n",
    "aveți nevoie de o cheie multipartă, ar trebui să utilizați un tuple sau să descoperiți o modalitate de a transforma cheia în\n",
    "şir.\n",
    "\n",
    "## defaultdict\n",
    "\n",
    "Imaginează-ți că încerci să numeri cuvintele dintr-un document. O abordare evidentă este\n",
    "creați un dicționar în care tastele sunt cuvinte și valorile sunt numărătoare. Pe măsură ce verificați\n",
    "fiecare cuvânt, puteți crește numărul său dacă este deja în dicționar și îl puteți adăuga la\n",
    "dicționar dacă nu este:\n"
   ]
  },
  {
   "cell_type": "code",
   "execution_count": null,
   "metadata": {},
   "outputs": [],
   "source": [
    "word_counts = {}\n",
    "for word in document:\n",
    "if word in word_counts:\n",
    "word_counts[word] += 1\n",
    "else:\n",
    "word_counts[word] = 1"
   ]
  },
  {
   "cell_type": "markdown",
   "metadata": {},
   "source": [
    "Puteți utiliza, de asemenea, abordarea „iertarea este mai bună decât permisiunea” și să vă ocupați doar\n",
    "excepția de la încercarea de a căuta o cheie care lipsește:"
   ]
  },
  {
   "cell_type": "code",
   "execution_count": null,
   "metadata": {},
   "outputs": [],
   "source": [
    "word_counts = {}\n",
    "for word in document:\n",
    "    try:\n",
    "        word_counts[word] += 1\n",
    "    except KeyError:\n",
    "        word_counts[word] = 1\n"
   ]
  },
  {
   "cell_type": "markdown",
   "metadata": {},
   "source": [
    "\n",
    "O a treia abordare este de a utiliza get, care se comportă cu grație pentru tastele lipsă:"
   ]
  },
  {
   "cell_type": "code",
   "execution_count": null,
   "metadata": {},
   "outputs": [],
   "source": [
    "word_counts = {}\n",
    "for word in document:\n",
    "previous_count = word_counts.get(word, 0)\n",
    "word_counts[word] = previous_count + 1"
   ]
  },
  {
   "cell_type": "markdown",
   "metadata": {},
   "source": [
    "Fiecare dintre acestea este ușor necorespunzător, motiv pentru care este util un drept de eroare. A\n",
    "defaultdict este ca un dicționar obișnuit, cu excepția cazului în care încercați să căutați o cheie\n",
    "nu conține, mai întâi adaugă o valoare folosind o funcție de argument zero pe care ai furnizat-o\n",
    "când l-ai creat. Pentru a utiliza defecte, trebuie să le importați\n",
    "colecții:"
   ]
  },
  {
   "cell_type": "code",
   "execution_count": null,
   "metadata": {},
   "outputs": [],
   "source": [
    "from collections import defaultdict\n",
    "word_counts = defaultdict(int) # int() produces 0\n",
    "for word in document:\n",
    "word_counts[word] += 1"
   ]
  },
  {
   "cell_type": "markdown",
   "metadata": {},
   "source": [
    "\n",
    "De asemenea, pot fi utile cu listă sau dict sau chiar cu propriile funcții:"
   ]
  },
  {
   "cell_type": "code",
   "execution_count": null,
   "metadata": {},
   "outputs": [],
   "source": [
    "dd_list = defaultdict(list) # list() produces an empty list\n",
    "dd_list[2].append(1) # now dd_list contains {2: [1]}\n",
    "dd_dict = defaultdict(dict) # dict() produces an empty dict\n",
    "dd_dict[\"Joel\"][\"City\"] = \"Seattle\" # { \"Joel\" : { \"City\" : Seattle\"}}\n",
    "dd_pair = defaultdict(lambda: [0, 0])\n",
    "dd_pair[2][1] = 1 # now dd_pair contains {2: [0,1]}"
   ]
  },
  {
   "cell_type": "markdown",
   "metadata": {},
   "source": [
    "\n",
    "Acestea vor fi utile atunci când folosim dicționare pentru a „colecta” rezultatele cu o cheie și\n",
    "nu doriți să verificați de fiecare dată pentru a vedea dacă cheia există încă.\n",
    "\n",
    "# Counter\n",
    "\n",
    "\n",
    "Un contor transformă o secvență de valori într-o cheie de mapare a obiectelor similare unui dictat (int)\n",
    "la socoteală. Îl vom folosi în primul rând pentru a crea histograme:"
   ]
  },
  {
   "cell_type": "code",
   "execution_count": null,
   "metadata": {},
   "outputs": [],
   "source": [
    "from collections import Counter\n",
    "c = Counter([0, 1, 2, 0]) # c is (basically) { 0 : 2, 1 : 1, 2 : 1 }"
   ]
  },
  {
   "cell_type": "markdown",
   "metadata": {},
   "source": [
    "\n",
    "Acest lucru ne oferă un mod foarte simplu de a ne rezolva problema word_counts:"
   ]
  },
  {
   "cell_type": "code",
   "execution_count": null,
   "metadata": {},
   "outputs": [],
   "source": [
    "word_counts = Counter(document)"
   ]
  },
  {
   "cell_type": "markdown",
   "metadata": {},
   "source": [
    "\n",
    "O instanță de contrare are o metodă most_common care este frecvent folosită:"
   ]
  },
  {
   "cell_type": "code",
   "execution_count": null,
   "metadata": {},
   "outputs": [],
   "source": [
    "# print the 10 most common words and their counts\n",
    "for word, count in word_counts.most_common(10):\n",
    "    print( word, count)"
   ]
  },
  {
   "cell_type": "markdown",
   "metadata": {},
   "source": [
    "# Sets\n",
    "\n",
    "O altă structură de date sunt multimile, care reprezintă o colecție de elemente distincte:"
   ]
  },
  {
   "cell_type": "code",
   "execution_count": null,
   "metadata": {},
   "outputs": [],
   "source": [
    "s = set()\n",
    "s.add(1) # s is now { 1 }\n",
    "s.add(2) # s is now { 1, 2 }\n",
    "s.add(2) # s is still { 1, 2 }\n",
    "x = len(s) # equals 2\n",
    "y = 2 in s # equals True\n",
    "z = 3 in s # equals False"
   ]
  },
  {
   "cell_type": "markdown",
   "metadata": {},
   "source": [
    "Vom folosi seturi din două motive principale. Primul este că in este o operație foarte rapidă pe seturi. Dacă\n",
    "avem o colecție mare de articole pe care vrem să le utilizăm pentru un test de membru, un set este mai mult\n",
    "adecvat decât o listă:"
   ]
  },
  {
   "cell_type": "code",
   "execution_count": null,
   "metadata": {},
   "outputs": [],
   "source": [
    "stopwords_list = [\"a\",\"an\",\"at\"] + hundreds_of_other_words + [\"yet\", \"you\"]\n",
    "\"zip\" in stopwords_list # False, but have to check every element\n",
    "stopwords_set = set(stopwords_list)\n",
    "\"zip\" in stopwords_set # very fast to check"
   ]
  },
  {
   "cell_type": "markdown",
   "metadata": {},
   "source": [
    "\n",
    "Al doilea motiv este găsirea elementelor distincte dintr-o colecție:"
   ]
  },
  {
   "cell_type": "code",
   "execution_count": null,
   "metadata": {},
   "outputs": [],
   "source": [
    "item_list = [1, 2, 3, 1, 2, 3]\n",
    "num_items = len(item_list) # 6\n",
    "item_set = set(item_list) # {1, 2, 3}\n",
    "num_distinct_items = len(item_set) # 3\n",
    "distinct_item_list = list(item_set) # [1, 2, 3]"
   ]
  },
  {
   "cell_type": "markdown",
   "metadata": {},
   "source": [
    "\n",
    "Vom folosi seturi mult mai rar decât dictionarele și listele.\n",
    "# Control Flow - Elemente de condiționare\n",
    "Ca în majoritatea limbajelor de programare, puteți efectua o acțiune folosind condiționarea dacă-atunci-altfel (if-then-else):"
   ]
  },
  {
   "cell_type": "code",
   "execution_count": null,
   "metadata": {},
   "outputs": [],
   "source": [
    "if 1 > 2:\n",
    "    message = \"if only 1 were greater than two…\"\n",
    "elif 1 > 3:\n",
    "    message = \"elif stands for 'else if'\"\n",
    "else:\n",
    "    message = \"when all else fails use else (if you want to)\"\n",
    "\n",
    "print(message)"
   ]
  },
  {
   "cell_type": "markdown",
   "metadata": {},
   "source": [
    "\n",
    "Puteți, de asemenea, să scrieți o ternara if-then-else pe o singură linie, pe care o vom face ocazional:"
   ]
  },
  {
   "cell_type": "code",
   "execution_count": null,
   "metadata": {},
   "outputs": [],
   "source": [
    "parity = \"even\" if x % 2 == 0 else \"odd\""
   ]
  },
  {
   "cell_type": "markdown",
   "metadata": {},
   "source": [
    "\n",
    "Python are o buclă while:"
   ]
  },
  {
   "cell_type": "code",
   "execution_count": null,
   "metadata": {},
   "outputs": [],
   "source": [
    "x = 0\n",
    "while x < 10:\n",
    "    print (x, \"is less than 10\")\n",
    "    x += 1"
   ]
  },
  {
   "cell_type": "markdown",
   "metadata": {},
   "source": [
    "deși mai des vom folosi  for si in:"
   ]
  },
  {
   "cell_type": "code",
   "execution_count": null,
   "metadata": {},
   "outputs": [],
   "source": [
    "for x in range(10):\n",
    "    print (x, \"is less than 10\")"
   ]
  },
  {
   "cell_type": "markdown",
   "metadata": {},
   "source": [
    "\n",
    "Dacă aveți nevoie de o logică mai complexă, puteți utiliza continue and break.\n",
    "Pentru a tipari 0, 1, 2, si 4:"
   ]
  },
  {
   "cell_type": "code",
   "execution_count": null,
   "metadata": {},
   "outputs": [],
   "source": [
    "for x in range(10):\n",
    "    if x == 3:\n",
    "        continue # go immediately to the next iteration\n",
    "    if x == 5:\n",
    "        break # quit the loop entirely\n",
    "print x"
   ]
  },
  {
   "cell_type": "markdown",
   "metadata": {},
   "source": [
    "\n",
    "# Adevăr\n",
    "Variabilele Booleene (doua valori: adevarat/fals) din Python funcționează ca în majoritatea altor limbaje, cu excepția faptului că sunt capitalizate:"
   ]
  },
  {
   "cell_type": "code",
   "execution_count": null,
   "metadata": {},
   "outputs": [],
   "source": [
    "one_is_less_than_two = 1 < 2 # equals True\n",
    "true_equals_false = True == False # equals False"
   ]
  },
  {
   "cell_type": "markdown",
   "metadata": {},
   "source": [
    "\n",
    "Python folosește valoarea None pentru a indica o valoare inexistentă. Este similar cu valoare null din alte limbaje:"
   ]
  },
  {
   "cell_type": "code",
   "execution_count": null,
   "metadata": {},
   "outputs": [],
   "source": [
    "x = None\n",
    "print x == None # prints True, but is not Pythonic\n",
    "print x is None # prints True, and is Pythonic"
   ]
  },
  {
   "cell_type": "markdown",
   "metadata": {},
   "source": [
    "Python vă permite să utilizați orice valoare acolo unde se așteaptă la un boolean. Următoarele sunt toate „Falsy”:"
   ]
  },
  {
   "cell_type": "code",
   "execution_count": null,
   "metadata": {},
   "outputs": [],
   "source": [
    "False\n",
    "None\n",
    "[] (an empty list)\n",
    "{} (an empty dict)\n",
    "\"\"\n",
    "set()\n",
    "0\n",
    "0.0"
   ]
  },
  {
   "cell_type": "markdown",
   "metadata": {},
   "source": [
    "Cam orice altceva este tratat ca Adevărat. Acest lucru vă permite să utilizați cu ușurință dacă declarații\n",
    "pentru a testa liste goale sau șiruri goale sau dicționare goale etc. De asemenea, uneori\n",
    "provoacă erori complicate dacă nu vă așteptați la acest comportament:"
   ]
  },
  {
   "cell_type": "code",
   "execution_count": null,
   "metadata": {},
   "outputs": [],
   "source": [
    "\n",
    "s = some_function_that_returns_a_string()\n",
    "if s:\n",
    "    first_char = s[0]\n",
    "else:\n",
    "    first_char = \"\""
   ]
  },
  {
   "cell_type": "markdown",
   "metadata": {},
   "source": [
    "Un mod mai simplu de a face același lucru este:"
   ]
  },
  {
   "cell_type": "code",
   "execution_count": null,
   "metadata": {},
   "outputs": [],
   "source": [
    "\n",
    "first_char = s and s[0]\n"
   ]
  },
  {
   "cell_type": "markdown",
   "metadata": {},
   "source": [
    "\n",
    "deoarece și returnează cea de-a doua valoare când prima este „adevarata”, prima valoare atunci când nu este.\n",
    "În mod similar, dacă x este fie un număr, fie potential None, si definim:"
   ]
  },
  {
   "cell_type": "code",
   "execution_count": null,
   "metadata": {},
   "outputs": [],
   "source": [
    "safe_x = x or 0"
   ]
  },
  {
   "cell_type": "markdown",
   "metadata": {},
   "source": [
    "safe_x este cu siguranță un număr.\n",
    "Python are o funcție all, care ia o listă și returnează True exact când fiecare\n",
    "element este truthy și orice funcție, care returnează True atunci când este cel puțin un element\n",
    "truthy:"
   ]
  },
  {
   "cell_type": "code",
   "execution_count": null,
   "metadata": {},
   "outputs": [],
   "source": [
    "all([True, 1, { 3 }]) # True\n",
    "all([True, 1, {}]) # False, {} is falsy\n",
    "any([True, 1, {}]) # True, True is truthy\n",
    "all([]) # True, no falsy elements in the list\n",
    "any([]) # False, no truthy elements in the list"
   ]
  },
  {
   "cell_type": "markdown",
   "metadata": {},
   "source": [
    "# The Not-So-Basics\n",
    "\n",
    "Aici vom analiza câteva funcții Python mai avansate pe care le vom găsi utile pentru a lucra\n",
    "cu date."
   ]
  },
  {
   "cell_type": "markdown",
   "metadata": {},
   "source": [
    "# Sortare\n",
    "Fiecare listă Python are o metodă de sortare care o sortează la loc. Dacă nu vrei să te încurci\n",
    "lista dvs., puteți utiliza funcția sortată, care returnează o nouă listă:"
   ]
  },
  {
   "cell_type": "code",
   "execution_count": null,
   "metadata": {},
   "outputs": [],
   "source": [
    "x = [4,1,2,3]\n",
    "y = sorted(x) # is [1,2,3,4], x is unchanged\n",
    "x.sort() # now x is [1,2,3,4]"
   ]
  },
  {
   "cell_type": "markdown",
   "metadata": {},
   "source": [
    "\n",
    "În mod implicit, sortați o listă de la cea mai mică la cea mai mare valoare,iar sortarea e bazată pe naivitate\n",
    "comparând elementele unele cu altele.\n",
    "Dacă doriți elemente sortate de la cea mai mare la cea mai mică, puteți specifica reverse = True\n",
    "parametru. Și în loc să compari elementele în sine, poți compara elementele cu\n",
    "rezultatele unei funcții pe care o specificați :"
   ]
  },
  {
   "cell_type": "code",
   "execution_count": null,
   "metadata": {},
   "outputs": [],
   "source": [
    "# sort the list by absolute value from largest to smallest\n",
    "x = sorted([-4,1,-2,3], key=abs, reverse=True) # is [-4,3,-2,1]\n",
    "# sort the words and counts from highest count to lowest\n",
    "wc = sorted(word_counts.items(),\n",
    "            key=lambda (word, count): count,\n",
    "            reverse=True)"
   ]
  },
  {
   "cell_type": "markdown",
   "metadata": {},
   "source": [
    "# List Comprehensions\n",
    "\n",
    "Frecvent, veți dori să transformați o listă într-o altă listă, alegând doar anumite\n",
    "elemente sau transformând elemente sau ambele. Modul pitonic de a face acest lucru este list\n",
    "comprehensions:"
   ]
  },
  {
   "cell_type": "code",
   "execution_count": null,
   "metadata": {},
   "outputs": [],
   "source": [
    "even_numbers = [x for x in range(5) if x % 2 == 0] # [0, 2, 4]\n",
    "squares = [x * x for x in range(5)] # [0, 1, 4, 9, 16]\n",
    "even_squares = [x * x for x in even_numbers] # [0, 4, 16]"
   ]
  },
  {
   "cell_type": "markdown",
   "metadata": {},
   "source": [
    "\n",
    "În mod similar, puteți transforma listele în dicționare sau seturi:"
   ]
  },
  {
   "cell_type": "code",
   "execution_count": null,
   "metadata": {},
   "outputs": [],
   "source": [
    "square_dict = { x : x * x for x in range(5) } # { 0:0, 1:1, 2:4, 3:9, 4:16 }\n",
    "square_set = { x * x for x in [1, -1] } # { 1 }"
   ]
  },
  {
   "cell_type": "markdown",
   "metadata": {},
   "source": [
    "\n",
    "Dacă nu aveți nevoie de valoare din listă, este convențional să folosiți un subliniu ca\n",
    "variabil:"
   ]
  },
  {
   "cell_type": "code",
   "execution_count": null,
   "metadata": {},
   "outputs": [],
   "source": [
    "zeroes = [0 for _ in even_numbers] # has the same length as even_numbers"
   ]
  },
  {
   "cell_type": "markdown",
   "metadata": {},
   "source": [
    "\n",
    "O listă de înțelegere poate include mai multe puncte:"
   ]
  },
  {
   "cell_type": "code",
   "execution_count": null,
   "metadata": {},
   "outputs": [],
   "source": [
    "pairs = [(x, y)\n",
    "         for x in range(10)\n",
    "            for y in range(10)] # 100 pairs (0,0) (0,1) ... (9,8), (9,9)"
   ]
  },
  {
   "cell_type": "markdown",
   "metadata": {},
   "source": [
    "iar buclele for ulterioare poate utiliza rezultatele celor anterioare:"
   ]
  },
  {
   "cell_type": "code",
   "execution_count": null,
   "metadata": {},
   "outputs": [],
   "source": [
    "increasing_pairs = [(x, y) # only pairs with x < y,\n",
    "                    for x in range(10) # range(lo, hi) equals\n",
    "                        for y in range(x + 1, 10)]: # [lo, lo + 1, ..., hi - 1]"
   ]
  },
  {
   "cell_type": "markdown",
   "metadata": {},
   "source": [
    "\n",
    "Vom folosi mult list comprehensions.\n",
    "\n",
    "# Generatoare și Iterators\n",
    "\n",
    "O problemă a listelor este că acestea pot crește ușor foarte mari. Intervalul (1000000) creează un\n",
    "lista de 1 milion de elemente. Dacă aveți nevoie doar să populati lista pe rând, acest lucru poate\n",
    "să fie o sursă uriașă de ineficiență (sau să rămână fără memorie). Dacă aveți nevoie doar de primele câteva valori,\n",
    "atunci să le calculăm pe toate este o risipă.\n",
    "Un generator este ceva cu care puteti itera (pentru noi, de obicei folosind pentru), dar al cărui\n",
    "valori sunt produse numai după cum este necesar (lazily /leneș).\n",
    "O modalitate de a crea generatoare este cu funcțiile și operatorul yield:"
   ]
  },
  {
   "cell_type": "code",
   "execution_count": null,
   "metadata": {},
   "outputs": [],
   "source": [
    "def lazy_range(n):\n",
    "    \"\"\"a lazy version of range\"\"\"\n",
    "    i = 0\n",
    "    while i < n:\n",
    "        yield i\n",
    "        i += 1"
   ]
  },
  {
   "cell_type": "markdown",
   "metadata": {},
   "source": [
    "\n",
    "Următoarea buclă va consuma valorile obținute pe rând, până când nu mai rămâne niciuna.\n",
    "\n",
    "# TEMA de laborator\n",
    "definiti functia din bucla pentru a verifica:"
   ]
  },
  {
   "cell_type": "code",
   "execution_count": null,
   "metadata": {},
   "outputs": [],
   "source": [
    "for i in range(10):\n",
    "    do_something_with(i)"
   ]
  },
  {
   "cell_type": "markdown",
   "metadata": {},
   "source": [
    "\n",
    "Aceasta înseamnă că puteți crea chiar și o secvență infinită:"
   ]
  },
  {
   "cell_type": "code",
   "execution_count": 4,
   "metadata": {},
   "outputs": [],
   "source": [
    "def natural_numbers():\n",
    "    \"\"\"returns 1, 2, 3, ...\"\"\"\n",
    "    n = 1\n",
    "    while True:\n",
    "        yield n\n",
    "        n += 1"
   ]
  },
  {
   "cell_type": "markdown",
   "metadata": {},
   "source": [
    "deși probabil că nu ar trebui să-l repetați fără să folosiți un fel de logică de pauză.\n",
    "\n",
    "## SFAT\n",
    "Partea mai neplacuta a generatorului lazy este că puteți itera  printr-un generator o singură dată. Dacă aveți nevoie să repetați\n",
    "ceva de mai multe ori, va trebui să recreați generatorul de fiecare dată sau să folosiți o listă.\n",
    "O a doua modalitate de a crea generatoare este folosind definitiile învelite\n",
    "paranteze:"
   ]
  },
  {
   "cell_type": "code",
   "execution_count": null,
   "metadata": {},
   "outputs": [],
   "source": [
    "lazy_evens_below_20 = (i for i in lazy_range(20) if i % 2 == 0)"
   ]
  },
  {
   "cell_type": "markdown",
   "metadata": {},
   "source": [
    "Reamintim, de asemenea, că fiecare dict are o metodă de elements () care returnează o listă a perechilor de cheie-valoare.\n",
    "Mai des vom folosi metoda iteritems (), care dă lazily valoarea-cheie pe rând, în timp ce iteram.\n",
    "\n",
    "# Randomness\n",
    "Pe măsură ce inaintam cu data science, va trebui să generăm frecvent numere aleatorii, care se\n",
    "poate face cu modulul random:"
   ]
  },
  {
   "cell_type": "code",
   "execution_count": null,
   "metadata": {},
   "outputs": [],
   "source": [
    "import random\n",
    "four_uniform_randoms = [random.random() for _ in range(4)]\n",
    "# [0.8444218515250481, # random.random() produces numbers\n",
    "# 0.7579544029403025, # uniformly between 0 and 1\n",
    "# 0.420571580830845, # it's the random function we'll use\n",
    "# 0.25891675029296335] # most often"
   ]
  },
  {
   "cell_type": "code",
   "execution_count": null,
   "metadata": {},
   "outputs": [],
   "source": []
  },
  {
   "cell_type": "markdown",
   "metadata": {},
   "source": [
    "Modulul random produce de fapt numere pseudorandom (adică deterministe)\n",
    "pe baza unei stări interne pe care o puteți seta cu random.seed dacă doriți să obțineți\n",
    "rezultate reproductibile:"
   ]
  },
  {
   "cell_type": "code",
   "execution_count": null,
   "metadata": {},
   "outputs": [],
   "source": [
    "random.seed(10) # set the seed to 10\n",
    "print (random.random()) # 0.57140259469\n",
    "random.seed(10) # reset the seed to 10\n",
    "print (random.random() )# 0.57140259469 again"
   ]
  },
  {
   "cell_type": "markdown",
   "metadata": {},
   "source": [
    "\n",
    "Uneori vom folosi random.randrange, care primește 1 sau 2 argumente și returnează\n",
    "un element ales la întâmplare din intervalul range () corepsunzator:"
   ]
  },
  {
   "cell_type": "code",
   "execution_count": null,
   "metadata": {},
   "outputs": [],
   "source": [
    "random.randrange(10) # choose randomly from range(10) = [0, 1, ..., 9]\n",
    "random.randrange(3, 6) # choose randomly from range(3, 6) = [3, 4, 5]"
   ]
  },
  {
   "cell_type": "markdown",
   "metadata": {},
   "source": [
    "\n",
    "Există încă câteva metode pe care le vom găsi uneori convenabile. random.shuffle\n",
    "reordonează aleatoriu elementele unei liste:"
   ]
  },
  {
   "cell_type": "code",
   "execution_count": null,
   "metadata": {},
   "outputs": [],
   "source": [
    "up_to_ten = range(10)\n",
    "random.shuffle(up_to_ten)\n",
    "print (up_to_ten)\n",
    "# [2, 5, 1, 9, 7, 3, 8, 6, 4, 0] (your results will probably be different)"
   ]
  },
  {
   "cell_type": "markdown",
   "metadata": {},
   "source": [
    "\n",
    "Dacă trebuie să alegeți la întâmplare un element dintr-o listă, puteți utiliza random.choice:"
   ]
  },
  {
   "cell_type": "code",
   "execution_count": null,
   "metadata": {},
   "outputs": [],
   "source": [
    "\n",
    "my_best_friend = random.choice([\"Alice\", \"Bob\", \"Charlie\"]) # \"Bob\" for me\n"
   ]
  },
  {
   "cell_type": "markdown",
   "metadata": {},
   "source": [
    "Și dacă trebuie să alegeți aleatoriu un eșantion de elemente fără înlocuire (adică, cu\n",
    "fără duplicate), puteți utiliza random.sample:"
   ]
  },
  {
   "cell_type": "code",
   "execution_count": null,
   "metadata": {},
   "outputs": [],
   "source": [
    "lottery_numbers = range(60)\n",
    "winning_numbers = random.sample(lottery_numbers, 6) # [16, 36, 10, 6, 25, 9]"
   ]
  },
  {
   "cell_type": "markdown",
   "metadata": {},
   "source": [
    "\n",
    "Pentru a alege un eșantion de elemente cu înlocuire (adică, permiterea duplicatelor), puteți sa\n",
    "efectuați mai multe apeluri la random.choice:"
   ]
  },
  {
   "cell_type": "code",
   "execution_count": null,
   "metadata": {},
   "outputs": [],
   "source": [
    "four_with_replacement = [random.choice(range(10))\n",
    "for _ in range(4)]\n",
    "# [9, 4, 4, 2]"
   ]
  },
  {
   "cell_type": "markdown",
   "metadata": {},
   "source": [
    "# Regular expressions\n",
    "Regular expressions oferă o modalitate de căutare a textului. Sunt incredibil de utile, dar de asemenea\n",
    "destul de complicate, atât de mult încât există cărți întregi scrise despre ele. Noi vom\n",
    "explicați detaliile lor de câteva ori când le întâlnim; iată câteva exemple despre cum să faci\n",
    "sa le folosi în Python:"
   ]
  },
  {
   "cell_type": "code",
   "execution_count": 26,
   "metadata": {},
   "outputs": [
    {
     "name": "stdout",
     "output_type": "stream",
     "text": [
      "True\n"
     ]
    }
   ],
   "source": [
    "import re\n",
    "print (all([ # all of these are true, because\n",
    "            not re.match(\"a\", \"cat\"), # * 'cat' doesn't start with 'a'\n",
    "            re.search(\"a\", \"cat\"), # * 'cat' has an 'a' in it\n",
    "            not re.search(\"c\", \"dog\"), # * 'dog' doesn't have a 'c' in it\n",
    "            3 == len(re.split(\"[ab]\", \"carbs\")), # * split on a or b to ['c','r','s']\n",
    "            \"R-D-\" == re.sub(\"[0-9]\", \"-\", \"R2D2\") # * replace digits with dashes\n",
    "            ])) # prints True"
   ]
  },
  {
   "cell_type": "markdown",
   "metadata": {},
   "source": [
    "# Programare orientată pe obiecte\n",
    "\n",
    "Ca în multe limbi, Python vă permite să definiți clase care încapsulează date și\n",
    "funcții care operează asupra lor. Le vom folosi uneori pentru a face codul nostru mai curat și\n",
    "mai simplu. Este probabil cel mai simplu să le explici construind un material puternic adnotat\n",
    "exemplu.\n",
    "Imaginați-vă că nu am avut setul integrat Python. Atunci s-ar putea să vrem să ne creăm propria noastră\n",
    "Set de clase.\n",
    "Ce comportament ar trebui să aibă clasa noastră? Având în vedere o instanță a Setului, va trebui să fim capabili\n",
    "adăugați elemente la el, eliminați elemente din acesta și verificați dacă conține o anumită valoare. Bine\n",
    "creează toate acestea ca funcții de membru, ceea ce înseamnă că le vom accesa cu un punct după\n",
    "Set obiect:"
   ]
  },
  {
   "cell_type": "code",
   "execution_count": 28,
   "metadata": {},
   "outputs": [],
   "source": [
    "# by convention, we give classes PascalCase names\n",
    "class Set:\n",
    "\n",
    "    # these are the member functions\n",
    "    # every one takes a first parameter \"self\" (another convention)\n",
    "    # that refers to the particular Set object being used\n",
    "    \n",
    "    def __init__(self, values=None):\n",
    "        \"\"\"This is the constructor.\n",
    "        It gets called when you create a new Set.\n",
    "        You would use it like\n",
    "        s1 = Set() # empty set\n",
    "        s2 = Set([1,2,2,3]) # initialize with values\"\"\"\n",
    "        \n",
    "        self.dict = {} # each instance of Set has its own dict property\n",
    "        \n",
    "        # which is what we'll use to track memberships\n",
    "        \n",
    "        if values is not None:\n",
    "            for value in values:\n",
    "                self.add(value)\n",
    "    \n",
    "    \n",
    "    def __repr__(self):\n",
    "        \"\"\"this is the string representation of a Set object\n",
    "        if you type it at the Python prompt or pass it to str()\"\"\"\n",
    "\n",
    "        return \"Set: \" + str(self.dict.keys())\n",
    "    \n",
    "    \n",
    "    # we'll represent membership by being a key in self.dict with value True\n",
    "    def add(self, value):\n",
    "    \n",
    "        self.dict[value] = True\n",
    "    \n",
    "    \n",
    "    # value is in the Set if it's a key in the dictionary\n",
    "    def contains(self, value):\n",
    "    \n",
    "        return value in self.dict\n",
    "    \n",
    "    \n",
    "    def remove(self, value):\n",
    "        \n",
    "        del self.dict[value]"
   ]
  },
  {
   "cell_type": "markdown",
   "metadata": {},
   "source": [
    "\n",
    "Pe care am putea apoi să le folosim astfel:"
   ]
  },
  {
   "cell_type": "code",
   "execution_count": 30,
   "metadata": {},
   "outputs": [
    {
     "name": "stdout",
     "output_type": "stream",
     "text": [
      "True\n",
      "False\n"
     ]
    }
   ],
   "source": [
    "\n",
    "s = Set([1,2,3])\n",
    "s.add(4)\n",
    "print (s.contains(4)) # True\n",
    "s.remove(3)\n",
    "print (s.contains(3)) # False"
   ]
  },
  {
   "cell_type": "markdown",
   "metadata": {},
   "source": [
    "# Functional Tools\n",
    "\n",
    "Când trecem pe funcții, uneori vom dori să aplicăm parțial \n",
    "funcții pentru a crea noi funcții. Ca un exemplu simplu, imaginați-vă că avem o funcție\n",
    "a două variabile:"
   ]
  },
  {
   "cell_type": "code",
   "execution_count": 34,
   "metadata": {},
   "outputs": [],
   "source": [
    "def exp(base, power):\n",
    "    \n",
    "    return base ** power"
   ]
  },
  {
   "cell_type": "markdown",
   "metadata": {},
   "source": [
    "și vrem să-l folosim pentru a crea o funcție a unei variabile doi_la_puterea a cărei intrare este a\n",
    "putere și a cărei ieșire este rezultatul exp (2, putere).\n",
    "Putem, desigur, să facem acest lucru cu def, dar acest lucru poate deveni uneori nedemn:"
   ]
  },
  {
   "cell_type": "code",
   "execution_count": 35,
   "metadata": {},
   "outputs": [],
   "source": [
    "\n",
    "def two_to_the(power):\n",
    "    \n",
    "    return exp(2, power)"
   ]
  },
  {
   "cell_type": "markdown",
   "metadata": {},
   "source": [
    "\n",
    "\n",
    "O abordare diferită este utilizarea funcools.partial:"
   ]
  },
  {
   "cell_type": "code",
   "execution_count": 36,
   "metadata": {},
   "outputs": [
    {
     "name": "stdout",
     "output_type": "stream",
     "text": [
      "8\n"
     ]
    }
   ],
   "source": [
    "from functools import partial\n",
    "\n",
    "two_to_the = partial(exp, 2) # is now a function of one variable\n",
    "\n",
    "print (two_to_the(3)) # 8"
   ]
  },
  {
   "cell_type": "markdown",
   "metadata": {},
   "source": [
    "\n",
    "Puteți utiliza, de asemenea, parțial pentru a completa argumente ulterioare dacă specificați numele lor:"
   ]
  },
  {
   "cell_type": "code",
   "execution_count": 38,
   "metadata": {},
   "outputs": [
    {
     "name": "stdout",
     "output_type": "stream",
     "text": [
      "9\n"
     ]
    }
   ],
   "source": [
    "square_of = partial(exp, power=2)\n",
    "print( square_of(3) )# 9"
   ]
  },
  {
   "cell_type": "markdown",
   "metadata": {},
   "source": [
    "\n",
    "Începe să devină dezordonat dacă încercați argumentele la mijlocul funcției, așa că vom încerca\n",
    "evita sa facem asta.\n",
    "De asemenea, vom folosi ocazional \n",
    "#### map, reduce și filter, \n",
    "care oferă funcționalitate\n",
    "alternative la înțelegeri de listă:"
   ]
  },
  {
   "cell_type": "code",
   "execution_count": null,
   "metadata": {},
   "outputs": [],
   "source": [
    "\n",
    "def double(x):\n",
    "\n",
    "    return 2 * x\n",
    "    \n",
    "xs = [1, 2, 3, 4]\n",
    "\n",
    "twice_xs = [double(x) for x in xs] # [2, 4, 6, 8]\n",
    "\n",
    "twice_xs = map(double, xs) # same as above\n",
    "\n",
    "list_doubler = partial(map, double) # *function* that doubles a list\n",
    "\n",
    "twice_xs = list_doubler(xs) # again [2, 4, 6, 8]"
   ]
  },
  {
   "cell_type": "markdown",
   "metadata": {},
   "source": [
    "\n",
    "Puteți utiliza map cu funcții cu mai multe argumente dacă furnizați mai multe liste:"
   ]
  },
  {
   "cell_type": "code",
   "execution_count": null,
   "metadata": {},
   "outputs": [],
   "source": [
    "\n",
    "def multiply(x, y): return x * y\n",
    "products = map(multiply, [1, 2], [4, 5]) # [1 * 4, 2 * 5] = [4, 10]"
   ]
  },
  {
   "cell_type": "markdown",
   "metadata": {},
   "source": [
    "\n",
    "În mod similar, filtrul funcționează ca un list comprehension dacă:"
   ]
  },
  {
   "cell_type": "code",
   "execution_count": null,
   "metadata": {},
   "outputs": [],
   "source": [
    "def is_even(x):\n",
    "    \"\"\"True if x is even, False if x is odd\"\"\"\n",
    "    return x % 2 == 0\n",
    "\n",
    "x_evens = [x for x in xs if is_even(x)] # [2, 4]\n",
    "\n",
    "x_evens = filter(is_even, xs) # same as above\n",
    "\n",
    "list_evener = partial(filter, is_even) # *function* that filters a list\n",
    "\n",
    "x_evens = list_evener(xs) # again [2, 4]"
   ]
  },
  {
   "cell_type": "markdown",
   "metadata": {},
   "source": [
    "\n",
    "Și \n",
    "#### reduce \n",
    "combină primele două elemente ale unei liste, apoi rezultatul cu al treilea, acela\n",
    "rezultă cu al patrulea și așa mai departe, producând un singur rezultat:"
   ]
  },
  {
   "cell_type": "code",
   "execution_count": null,
   "metadata": {},
   "outputs": [],
   "source": [
    "x_product = reduce(multiply, xs) # = 1 * 2 * 3 * 4 = 24\n",
    "list_product = partial(reduce, multiply) # *function* that reduces a list\n",
    "x_product = list_product(xs) # again = 24"
   ]
  },
  {
   "cell_type": "markdown",
   "metadata": {},
   "source": [
    "\n",
    "# enumerație\n",
    "Nu rareori, veți dori să iterați o listă și să folosiți atât elementele sale, cât și elementele lor\n",
    "indici:"
   ]
  },
  {
   "cell_type": "code",
   "execution_count": null,
   "metadata": {},
   "outputs": [],
   "source": [
    "# not Pythonic\n",
    "for i in range(len(documents)):\n",
    "    document = documents[i]\n",
    "    do_something(i, document)\n",
    "# also not Pythonic\n",
    "i = 0\n",
    "for document in documents:\n",
    "    do_something(i, document)\n",
    "    i += 1"
   ]
  },
  {
   "cell_type": "markdown",
   "metadata": {},
   "source": [
    "\n",
    "Soluția pitonică este enumerate, care produce tupluri (index, element):"
   ]
  },
  {
   "cell_type": "code",
   "execution_count": null,
   "metadata": {},
   "outputs": [],
   "source": [
    "for i, document in enumerate(documents):\n",
    "    do_something(i, document)"
   ]
  },
  {
   "cell_type": "markdown",
   "metadata": {},
   "source": [
    "În mod similar, dacă dorim doar indexurile:"
   ]
  },
  {
   "cell_type": "code",
   "execution_count": null,
   "metadata": {},
   "outputs": [],
   "source": [
    "for i in range(len(documents)): do_something(i) # not Pythonic\n",
    "for i, _ in enumerate(documents): do_something(i) # Pythonic"
   ]
  },
  {
   "cell_type": "markdown",
   "metadata": {},
   "source": [
    "\n",
    "Vom folosi acest lucru foarte mult."
   ]
  },
  {
   "cell_type": "markdown",
   "metadata": {},
   "source": [
    "# zip and Argument Unpacking\n",
    "\n",
    "\n",
    "Adesea va trebui să închidem două sau mai multe liste împreună. zip transformă mai multe liste într-o\n",
    "o listă unică de tupluri cu elemente corespunzătoare:"
   ]
  },
  {
   "cell_type": "code",
   "execution_count": null,
   "metadata": {},
   "outputs": [],
   "source": [
    "list1 = ['a', 'b', 'c']\n",
    "list2 = [1, 2, 3]\n",
    "zip(list1, list2) # is [('a', 1), ('b', 2), ('c', 3)]"
   ]
  },
  {
   "cell_type": "markdown",
   "metadata": {},
   "source": [
    "\n",
    "Dacă listele au lungimi diferite, zip se oprește imediat ce se încheie prima listă.\n",
    "De asemenea, puteți „decupla” o listă folosind un truc ciudat:"
   ]
  },
  {
   "cell_type": "code",
   "execution_count": null,
   "metadata": {},
   "outputs": [],
   "source": [
    "pairs = [('a', 1), ('b', 2), ('c', 3)]\n",
    "letters, numbers = zip(*pairs)"
   ]
  },
  {
   "cell_type": "markdown",
   "metadata": {},
   "source": [
    "\n",
    "\n",
    "Asteriscul realizează dezambalarea argumentelor, care folosește elementele perechilor ca\n",
    "argumente individuale pentru a zip. Se sfârșește la fel ca și când ai fi sunat:"
   ]
  },
  {
   "cell_type": "code",
   "execution_count": null,
   "metadata": {},
   "outputs": [],
   "source": [
    "zip(('a', 1), ('b', 2), ('c', 3))"
   ]
  },
  {
   "cell_type": "markdown",
   "metadata": {},
   "source": [
    "\n",
    "care returnează [('a', 'b', 'c'), ('1', '2', '3')].\n",
    "Puteți utiliza dezambalarea argumentelor cu orice funcție:"
   ]
  },
  {
   "cell_type": "code",
   "execution_count": null,
   "metadata": {},
   "outputs": [],
   "source": [
    "def add(a, b): return a + b\n",
    "add(1, 2) # returns 3\n",
    "add([1, 2]) # TypeError!\n",
    "add(*[1, 2]) # returns 3"
   ]
  },
  {
   "cell_type": "markdown",
   "metadata": {},
   "source": [
    "Este rar că vom găsi acest lucru util, dar atunci când facem acest lucru este un truc corect.\n",
    "# args și kwargs\n",
    "Să zicem că vrem să creăm o funcție de ordin superior care să ia ca intrare unele funcții f și\n",
    "returnează o nouă funcție care pentru orice intrare returnează de două ori valoarea f:"
   ]
  },
  {
   "cell_type": "code",
   "execution_count": null,
   "metadata": {},
   "outputs": [],
   "source": [
    "def doubler(f):\n",
    "    \n",
    "    def g(x):\n",
    "    \n",
    "    return 2 * f(x)\n",
    "    \n",
    "return g"
   ]
  },
  {
   "cell_type": "code",
   "execution_count": null,
   "metadata": {},
   "outputs": [],
   "source": [
    "\n",
    "Acest lucru funcționează în unele cazuri:"
   ]
  },
  {
   "cell_type": "code",
   "execution_count": null,
   "metadata": {},
   "outputs": [],
   "source": [
    "def f1(x):\n",
    "return x + 1\n",
    "g = doubler(f1)\n",
    "print g(3) # 8 (== ( 3 + 1) * 2)\n",
    "print g(-1) # 0 (== (-1 + 1) * 2)"
   ]
  },
  {
   "cell_type": "markdown",
   "metadata": {},
   "source": [
    "\n",
    "Cu toate acestea, nu mai merge cu funcțiile care au mai mult de un singur argument:"
   ]
  },
  {
   "cell_type": "code",
   "execution_count": 42,
   "metadata": {},
   "outputs": [
    {
     "ename": "SyntaxError",
     "evalue": "invalid syntax (<ipython-input-42-1ded8609e41d>, line 5)",
     "output_type": "error",
     "traceback": [
      "\u001b[1;36m  File \u001b[1;32m\"<ipython-input-42-1ded8609e41d>\"\u001b[1;36m, line \u001b[1;32m5\u001b[0m\n\u001b[1;33m    print g(1, 2) # TypeError: g() takes exactly 1 argument (2 given)\u001b[0m\n\u001b[1;37m          ^\u001b[0m\n\u001b[1;31mSyntaxError\u001b[0m\u001b[1;31m:\u001b[0m invalid syntax\n"
     ]
    }
   ],
   "source": [
    "\n",
    "def f2(x, y):\n",
    "    return x + y\n",
    "\n",
    "g = doubler(f2)\n",
    "print g(1, 2) # TypeError: g() takes exactly 1 argument (2 given)"
   ]
  },
  {
   "cell_type": "markdown",
   "metadata": {},
   "source": [
    "\n",
    "Ceea ce avem nevoie este un mod de a specifica o funcție care să ia argumente arbitrare. Noi putem sa facem asta\n",
    "cu dezlegarea argumentelor și un pic de magie:"
   ]
  },
  {
   "cell_type": "code",
   "execution_count": 39,
   "metadata": {},
   "outputs": [
    {
     "name": "stdout",
     "output_type": "stream",
     "text": [
      "unnamed args: (1, 2)\n",
      "keyword args: {'key': 'word', 'key2': 'word2'}\n"
     ]
    }
   ],
   "source": [
    "def magic(*args, **kwargs):\n",
    "    print (\"unnamed args:\", args)\n",
    "    print (\"keyword args:\", kwargs)\n",
    "magic(1, 2, key=\"word\", key2=\"word2\")\n",
    "# prints\n",
    "# unnamed args: (1, 2)\n",
    "# keyword args: {'key2': 'word2', 'key': 'word'}"
   ]
  },
  {
   "cell_type": "markdown",
   "metadata": {},
   "source": [
    "Adică, atunci când definim o funcție ca aceasta, args este un tuple al argumentelor sale nenumite și\n",
    "kwargs este un dict al argumentelor sale numite. Funcționează și în alt mod, dacă doriți să utilizați \n",
    "lista (sau tuple) și dict pentru a furniza argumente unei funcții:"
   ]
  },
  {
   "cell_type": "code",
   "execution_count": null,
   "metadata": {},
   "outputs": [],
   "source": [
    "def other_way_magic(x, y, z):\n",
    "    return x + y + z\n",
    "x_y_list = [1, 2]\n",
    "z_dict = { \"z\" : 3 }\n",
    "print (other_way_magic(*x_y_list, **z_dict)) # 6"
   ]
  },
  {
   "cell_type": "markdown",
   "metadata": {},
   "source": [
    "\n",
    "Ați putea face tot felul de trucuri ciudate cu asta; îl vom folosi doar pentru a produce o comandă superioară\n",
    "funcții ale căror intrări pot accepta argumente arbitrare:"
   ]
  },
  {
   "cell_type": "code",
   "execution_count": 43,
   "metadata": {},
   "outputs": [
    {
     "ename": "NameError",
     "evalue": "name 'f2' is not defined",
     "output_type": "error",
     "traceback": [
      "\u001b[1;31m---------------------------------------------------------------------------\u001b[0m",
      "\u001b[1;31mNameError\u001b[0m                                 Traceback (most recent call last)",
      "\u001b[1;32m<ipython-input-43-3ba181c98745>\u001b[0m in \u001b[0;36m<module>\u001b[1;34m\u001b[0m\n\u001b[0;32m      8\u001b[0m     \u001b[1;32mreturn\u001b[0m \u001b[0mg\u001b[0m\u001b[1;33m\u001b[0m\u001b[1;33m\u001b[0m\u001b[0m\n\u001b[0;32m      9\u001b[0m \u001b[1;33m\u001b[0m\u001b[0m\n\u001b[1;32m---> 10\u001b[1;33m \u001b[0mg\u001b[0m \u001b[1;33m=\u001b[0m \u001b[0mdoubler_correct\u001b[0m\u001b[1;33m(\u001b[0m\u001b[0mf2\u001b[0m\u001b[1;33m)\u001b[0m\u001b[1;33m\u001b[0m\u001b[1;33m\u001b[0m\u001b[0m\n\u001b[0m\u001b[0;32m     11\u001b[0m \u001b[0mprint\u001b[0m \u001b[1;33m(\u001b[0m\u001b[0mg\u001b[0m\u001b[1;33m(\u001b[0m\u001b[1;36m1\u001b[0m\u001b[1;33m,\u001b[0m \u001b[1;36m2\u001b[0m\u001b[1;33m)\u001b[0m\u001b[1;33m)\u001b[0m \u001b[1;31m# 6\u001b[0m\u001b[1;33m\u001b[0m\u001b[1;33m\u001b[0m\u001b[0m\n",
      "\u001b[1;31mNameError\u001b[0m: name 'f2' is not defined"
     ]
    }
   ],
   "source": [
    "def doubler_correct(f):\n",
    "    \n",
    "    \"\"\"works no matter what kind of inputs f expects\"\"\"\n",
    "    def g(*args, **kwargs):\n",
    "        \"\"\"whatever arguments g is supplied, pass them through to f\"\"\"\n",
    "        return 2 * f(*args, **kwargs)\n",
    "    \n",
    "    return g\n",
    "\n",
    "g = doubler_correct(f2)\n",
    "print (g(1, 2)) # 6"
   ]
  },
  {
   "cell_type": "code",
   "execution_count": null,
   "metadata": {},
   "outputs": [],
   "source": []
  }
 ],
 "metadata": {
  "hide_input": false,
  "kernelspec": {
   "display_name": "Python 3",
   "language": "python",
   "name": "python3"
  },
  "language_info": {
   "codemirror_mode": {
    "name": "ipython",
    "version": 3
   },
   "file_extension": ".py",
   "mimetype": "text/x-python",
   "name": "python",
   "nbconvert_exporter": "python",
   "pygments_lexer": "ipython3",
   "version": "3.7.2rc1"
  }
 },
 "nbformat": 4,
 "nbformat_minor": 2
}
