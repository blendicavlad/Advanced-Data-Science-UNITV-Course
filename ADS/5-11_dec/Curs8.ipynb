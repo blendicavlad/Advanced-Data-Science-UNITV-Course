{
 "cells": [
  {
   "cell_type": "markdown",
   "metadata": {},
   "source": [
    "# <img style=\"float: left; padding-right: 10px; width: 150px\" src=\"../../imagini/unitbv2.png\"> SIIPA2020- Știința Explorării și Exploatării Datelor - ADS1  \n",
    "\n",
    "\n",
    "\n",
    "\n",
    "\n",
    "\n",
    "## <center>Curs 8 - Regresie Liniara Multiplă: exemple</center>\n",
    "**Universitatea Transilvania**<br>\n",
    "**Semestrul I, 2020-2021**<br>\n",
    "**Instructor:** Conf. univ. dr. Teodor &Scedil;tefan B&icirc;ldea<br>\n",
    "**Contact:** teodor.bildea@unitbv.ro<br>\n"
   ]
  },
  {
   "cell_type": "markdown",
   "metadata": {},
   "source": [
    "# Cuprins notebook\n",
    "\n",
    "## Recapitulare regresie simplă\n",
    "\n",
    "- Model OLS (<b>O</b>rdinary <b>L</b>east <b>S</b>quares)\n",
    "\n",
    "- Semnificația p-values\n",
    "\n",
    "- Intervale de încredere\n",
    "\n",
    "## Regresie multiplă\n",
    "\n",
    "- Semnificația coeficienților\n",
    "\n",
    "- Standardizarea datelor\n",
    "\n",
    "- Importanța predictorilor\n",
    "\n",
    "- Regularizare - modele LASSO, RIDGE și hibrid\n",
    "\n",
    "# După parcurgerea acestui notebook:\n",
    "\n",
    "- voi știi să interpretez raportul unui model OLS\n",
    "\n",
    "- voi știi să construiesc intervale de încredere pentru un model liniar\n",
    "\n",
    "- voi știi să construiesc un model liniar de predicție cu mai mulți predictori din care să extrag și importanța fiecărui predictor\n"
   ]
  },
  {
   "cell_type": "markdown",
   "metadata": {},
   "source": [
    "# Recapitulare regresie simplă"
   ]
  },
  {
   "cell_type": "markdown",
   "metadata": {},
   "source": [
    "### Modelare cu `statsmodels` și `sklearn`\n",
    "\n",
    "Acum că am văzut ce înseamnă regresia, să cunoaștem două pachete `python` care fac treaba pentru noi:\n",
    "* [statsmodels](http://www.statsmodels.org/stable/regression.html) și \n",
    "* [scikit-learn (sklearn)](http://scikit-learn.org/stable/modules/generated/sklearn.linear_model.LinearRegression.html).\n",
    "\n",
    "Scopul nostru este să arătăm cum să implementăm regresia liniară simplă cu aceste pachete. Putem să comparăm valorile $\\beta$ de la `statsmodels` și `sklearn`.\n",
    "\n",
    "Din punct de vedere al construirii unui model de regresie, `statsmodels` și `sklearn` fac același lucru. Mai general însă, `statsmodels` tinde să fie mai ușor pentru inferență \\[găsirea valorilor pantei și termenului liber și discutarea incertitudinii în aceste valori\\], iar `sklearn` are algoritmi de învățare automată și este mai bun pentru predicție \\[prezicând y pentru o anumită valoare x\\]. (Rețineți că ambele pachete fac aceleași predicții pentru regresia liniară, este doar o întrebare pentru ce activitate oferă mai mult sprijin).\n",
    "\n",
    "**Note:** `statsmodels` sunt `sklearn` sunt două pachete diferite! "
   ]
  },
  {
   "cell_type": "markdown",
   "metadata": {},
   "source": [
    "<a class=\"anchor\" id=\"constant\"></a>\n",
    "### De ce trebuie să adăugăm o constantă în modelul nostru simplu de regresie liniară? \n",
    "\n",
    "Să presupunem că avem un set de date de două observații cu câte un predictor și o variabilă de răspuns fiecare. Apoi am avea următoarele două ecuații dacă vom executa un model de regresie liniar simplu. $$y_1 = \\beta_0 + \\beta_1 * x_1 $$ $$ y_2 = \\beta_0 + \\beta_1 * x_2 $$ <BR> Pentru simplitate și eficiență de calcul, dorim să „absorbim” constanta $\\beta_0 $ într-o matrice cu $\\beta_1 $ ca să avem doar multiplicare (de matrici, ce-i drept). Pentru a face acest lucru, introducem constanta ${x}^0=[x^0_1,x^0_2]^T=[1,1]^T$<br>$$y_1=\\beta_0*{x_1}^0 + \\beta_1*x_1$$ $$y_2=\\beta_0 * {x_2}^0 + \\beta_1*x_2$$ <BR> Obținem: \n",
    "$$y_1=\\beta_0*1 + \\beta_1*x_1$$ $$y_2=\\beta_0 * 1 + \\beta_1*x_2$$<bR> \n",
    "    \n",
    "În notație matricială: \n",
    "    \n",
    "$$\n",
    "\\left [\n",
    "\\begin{array}{c}\n",
    "y_1 \\\\ y_2 \\\\\n",
    "\\end{array}\n",
    "\\right] =\n",
    "\\left [\n",
    "\\begin{array}{cc}\n",
    "1& x_1 \\\\ 1 & x_2 \\\\\n",
    "\\end{array}\n",
    "\\right] \n",
    "\\cdot\n",
    "\\left [\n",
    "\\begin{array}{c}\n",
    "\\beta_0 \\\\ \\beta_1 \\\\\n",
    "\\end{array}\n",
    "\\right]\n",
    "$$\n",
    "<BR><BR>\n",
    "    \n",
    "`sklearn` adaugă constanta pentru noi dar în `statsmodels` trebuie explicit adăugată folosind `sm.add_constant`"
   ]
  },
  {
   "cell_type": "markdown",
   "metadata": {},
   "source": [
    "### Modelare cu `statsmodels`"
   ]
  },
  {
   "cell_type": "code",
   "execution_count": 43,
   "metadata": {},
   "outputs": [],
   "source": [
    "import numpy as np\n",
    "x_train = np.array([1 ,2, 3])\n",
    "y_train = np.array([2, 2, 4])"
   ]
  },
  {
   "cell_type": "code",
   "execution_count": 44,
   "metadata": {},
   "outputs": [],
   "source": [
    "import statsmodels.api as sm"
   ]
  },
  {
   "cell_type": "markdown",
   "metadata": {},
   "source": [
    "Spre deosebire de sklearn, la statsmodel trebuie specificat termenul liber explicit: el va conține media (care a fi $\\beta_0$) și îi corespunde o valoare dummy 1 în matricea observațiilor:"
   ]
  },
  {
   "cell_type": "code",
   "execution_count": 45,
   "metadata": {},
   "outputs": [
    {
     "name": "stdout",
     "output_type": "stream",
     "text": [
      "[[1. 1.]\n",
      " [1. 2.]\n",
      " [1. 3.]]\n",
      "Coeficienții de regresie statsmodels sunt: beta_0 = 0.666667 și beta_1 = 1.000000\n"
     ]
    }
   ],
   "source": [
    "# create the X matrix by appending a column of ones to x_train\n",
    "X = sm.add_constant(x_train)\n",
    "\n",
    "print(X)\n",
    "\n",
    "# build the OLS model (ordinary least squares) from the training data\n",
    "toyregr_sm = sm.OLS(y_train, X)\n",
    "\n",
    "# do the fit and save regression info (parameters, etc) in results_sm\n",
    "results_sm = toyregr_sm.fit()\n",
    "\n",
    "# pull the beta parameters out from results_sm\n",
    "beta0_sm = results_sm.params[0]\n",
    "beta1_sm = results_sm.params[1]\n",
    "\n",
    "print(f'Coeficienții de regresie statsmodels sunt: beta_0 = {beta0_sm:8.6f} și beta_1 = {beta1_sm:8.6f}')"
   ]
  },
  {
   "cell_type": "markdown",
   "metadata": {},
   "source": [
    "\n",
    "Pe lângă parametrii beta, `results_sm` \n",
    "conține o mulțime de alte informații potențial utile."
   ]
  },
  {
   "cell_type": "code",
   "execution_count": 46,
   "metadata": {},
   "outputs": [
    {
     "name": "stdout",
     "output_type": "stream",
     "text": [
      "                            OLS Regression Results                            \n",
      "==============================================================================\n",
      "Dep. Variable:                      y   R-squared:                       0.750\n",
      "Model:                            OLS   Adj. R-squared:                  0.500\n",
      "Method:                 Least Squares   F-statistic:                     3.000\n",
      "Date:                Tue, 08 Dec 2020   Prob (F-statistic):              0.333\n",
      "Time:                        14:14:28   Log-Likelihood:                -2.0007\n",
      "No. Observations:                   3   AIC:                             8.001\n",
      "Df Residuals:                       1   BIC:                             6.199\n",
      "Df Model:                           1                                         \n",
      "Covariance Type:            nonrobust                                         \n",
      "==============================================================================\n",
      "                 coef    std err          t      P>|t|      [0.025      0.975]\n",
      "------------------------------------------------------------------------------\n",
      "const          0.6667      1.247      0.535      0.687     -15.181      16.514\n",
      "x1             1.0000      0.577      1.732      0.333      -6.336       8.336\n",
      "==============================================================================\n",
      "Omnibus:                          nan   Durbin-Watson:                   3.000\n",
      "Prob(Omnibus):                    nan   Jarque-Bera (JB):                0.531\n",
      "Skew:                          -0.707   Prob(JB):                        0.767\n",
      "Kurtosis:                       1.500   Cond. No.                         6.79\n",
      "==============================================================================\n",
      "\n",
      "Warnings:\n",
      "[1] Standard Errors assume that the covariance matrix of the errors is correctly specified.\n"
     ]
    }
   ],
   "source": [
    "import warnings\n",
    "warnings.filterwarnings('ignore')\n",
    "print(results_sm.summary())"
   ]
  },
  {
   "cell_type": "markdown",
   "metadata": {},
   "source": [
    "### Același model super simplu cu `sklearn`."
   ]
  },
  {
   "cell_type": "code",
   "execution_count": 47,
   "metadata": {},
   "outputs": [],
   "source": [
    "from sklearn import linear_model"
   ]
  },
  {
   "cell_type": "code",
   "execution_count": 48,
   "metadata": {},
   "outputs": [],
   "source": [
    "x_train = np.array([1 ,2, 3])\n",
    "y_train = np.array([2, 2, 4])"
   ]
  },
  {
   "cell_type": "code",
   "execution_count": 49,
   "metadata": {},
   "outputs": [
    {
     "name": "stdout",
     "output_type": "stream",
     "text": [
      "Coeficienții de regresie cu sklearn sunt: beta_0 = 0.666667 and beta_1 = 1.000000\n"
     ]
    }
   ],
   "source": [
    "# build the least squares model\n",
    "toyregr = linear_model.LinearRegression()\n",
    "\n",
    "# save regression info (parameters, etc) in results_skl\n",
    "results = toyregr.fit(x_train.reshape(-1, 1), y_train)\n",
    "\n",
    "# pull the beta parameters out from results_skl\n",
    "beta0_skl = toyregr.intercept_\n",
    "beta1_skl = toyregr.coef_[0]\n",
    "\n",
    "print(\"Coeficienții de regresie cu sklearn sunt: beta_0 = {0:8.6f} and beta_1 = {1:8.6f}\".format(beta0_skl, beta1_skl))"
   ]
  },
  {
   "cell_type": "markdown",
   "metadata": {},
   "source": [
    "Înainte de a lucra cu o problemă „reală”, să discutăm mai multe detalii despre `sklearn`.\n",
    "\n",
    "`Scikit-learning` este principala bibliotecă de machine-learning din Python. Este formata din multe programe de invatare\n",
    "care pot învăța modele din date, precum și o mulțime de funcții utilitare, cum ar fi `train_test_split ()`.\n",
    "\n",
    "Utilizați următoarele pentru a adăuga librarua în codul dvs.:\n",
    "\n",
    "import sklearn\n",
    "\n",
    "În `scikit-learning`, un ** estimator ** este un obiect Python care implementează metodele` fit (X, y) `și` predict (T) `\n",
    "\n",
    "Haideți să vedem structura „scikit-learning” necesară pentru a 'potrivi' un model. `fit ()` ia întotdeauna două argumente:\n",
    "`estimator.fit (Xtrain, ytrain)`\n",
    "Vom lua în considerare doi estimatori în acest laborator: `LinearRegression` și` KNeighborsRegressor`.\n",
    "\n",
    "Este foarte important să înțelegem că „Xtrain” trebuie să fie sub forma unui dataframe cu fiecare rând corespunzător unui eșantion și fiecare coloană corespunzătoare valorilor caracteristice pentru acel eșantion.\n",
    "\n",
    "pe de altă parte, „ytrain` este o serie simplă de răspunsuri. Acestea sunt continue pentru problemele de regresie."
   ]
  },
  {
   "cell_type": "markdown",
   "metadata": {},
   "source": [
    "![](../../2019-CS109A/content/labs/lab03/images/featurematrix.png)\n",
    "\n",
    "<!--![](../../2019-CS109A/content/labs/lab03/images/sklearn2.jpg)-->"
   ]
  },
  {
   "cell_type": "code",
   "execution_count": 50,
   "metadata": {},
   "outputs": [],
   "source": [
    "import numpy as np\n",
    "import sklearn"
   ]
  },
  {
   "cell_type": "code",
   "execution_count": 51,
   "metadata": {},
   "outputs": [],
   "source": [
    "from sklearn.linear_model import LinearRegression\n",
    "from sklearn.model_selection import train_test_split\n",
    "from sklearn.metrics import mean_squared_error"
   ]
  },
  {
   "cell_type": "code",
   "execution_count": 52,
   "metadata": {},
   "outputs": [
    {
     "data": {
      "text/html": [
       "<div>\n",
       "<style scoped>\n",
       "    .dataframe tbody tr th:only-of-type {\n",
       "        vertical-align: middle;\n",
       "    }\n",
       "\n",
       "    .dataframe tbody tr th {\n",
       "        vertical-align: top;\n",
       "    }\n",
       "\n",
       "    .dataframe thead th {\n",
       "        text-align: right;\n",
       "    }\n",
       "</style>\n",
       "<table border=\"1\" class=\"dataframe\">\n",
       "  <thead>\n",
       "    <tr style=\"text-align: right;\">\n",
       "      <th></th>\n",
       "      <th>car_ID</th>\n",
       "      <th>symboling</th>\n",
       "      <th>CarName</th>\n",
       "      <th>fueltype</th>\n",
       "      <th>aspiration</th>\n",
       "      <th>doornumber</th>\n",
       "      <th>carbody</th>\n",
       "      <th>drivewheel</th>\n",
       "      <th>enginelocation</th>\n",
       "      <th>wheelbase</th>\n",
       "      <th>...</th>\n",
       "      <th>enginesize</th>\n",
       "      <th>fuelsystem</th>\n",
       "      <th>boreratio</th>\n",
       "      <th>stroke</th>\n",
       "      <th>compressionratio</th>\n",
       "      <th>horsepower</th>\n",
       "      <th>peakrpm</th>\n",
       "      <th>citympg</th>\n",
       "      <th>highwaympg</th>\n",
       "      <th>price</th>\n",
       "    </tr>\n",
       "  </thead>\n",
       "  <tbody>\n",
       "    <tr>\n",
       "      <th>0</th>\n",
       "      <td>1</td>\n",
       "      <td>3</td>\n",
       "      <td>alfa-romero giulia</td>\n",
       "      <td>gas</td>\n",
       "      <td>std</td>\n",
       "      <td>two</td>\n",
       "      <td>convertible</td>\n",
       "      <td>rwd</td>\n",
       "      <td>front</td>\n",
       "      <td>88.6</td>\n",
       "      <td>...</td>\n",
       "      <td>130</td>\n",
       "      <td>mpfi</td>\n",
       "      <td>3.47</td>\n",
       "      <td>2.68</td>\n",
       "      <td>9.0</td>\n",
       "      <td>111</td>\n",
       "      <td>5000</td>\n",
       "      <td>21</td>\n",
       "      <td>27</td>\n",
       "      <td>13495.0</td>\n",
       "    </tr>\n",
       "    <tr>\n",
       "      <th>1</th>\n",
       "      <td>2</td>\n",
       "      <td>3</td>\n",
       "      <td>alfa-romero stelvio</td>\n",
       "      <td>gas</td>\n",
       "      <td>std</td>\n",
       "      <td>two</td>\n",
       "      <td>convertible</td>\n",
       "      <td>rwd</td>\n",
       "      <td>front</td>\n",
       "      <td>88.6</td>\n",
       "      <td>...</td>\n",
       "      <td>130</td>\n",
       "      <td>mpfi</td>\n",
       "      <td>3.47</td>\n",
       "      <td>2.68</td>\n",
       "      <td>9.0</td>\n",
       "      <td>111</td>\n",
       "      <td>5000</td>\n",
       "      <td>21</td>\n",
       "      <td>27</td>\n",
       "      <td>16500.0</td>\n",
       "    </tr>\n",
       "    <tr>\n",
       "      <th>2</th>\n",
       "      <td>3</td>\n",
       "      <td>1</td>\n",
       "      <td>alfa-romero Quadrifoglio</td>\n",
       "      <td>gas</td>\n",
       "      <td>std</td>\n",
       "      <td>two</td>\n",
       "      <td>hatchback</td>\n",
       "      <td>rwd</td>\n",
       "      <td>front</td>\n",
       "      <td>94.5</td>\n",
       "      <td>...</td>\n",
       "      <td>152</td>\n",
       "      <td>mpfi</td>\n",
       "      <td>2.68</td>\n",
       "      <td>3.47</td>\n",
       "      <td>9.0</td>\n",
       "      <td>154</td>\n",
       "      <td>5000</td>\n",
       "      <td>19</td>\n",
       "      <td>26</td>\n",
       "      <td>16500.0</td>\n",
       "    </tr>\n",
       "    <tr>\n",
       "      <th>3</th>\n",
       "      <td>4</td>\n",
       "      <td>2</td>\n",
       "      <td>audi 100 ls</td>\n",
       "      <td>gas</td>\n",
       "      <td>std</td>\n",
       "      <td>four</td>\n",
       "      <td>sedan</td>\n",
       "      <td>fwd</td>\n",
       "      <td>front</td>\n",
       "      <td>99.8</td>\n",
       "      <td>...</td>\n",
       "      <td>109</td>\n",
       "      <td>mpfi</td>\n",
       "      <td>3.19</td>\n",
       "      <td>3.40</td>\n",
       "      <td>10.0</td>\n",
       "      <td>102</td>\n",
       "      <td>5500</td>\n",
       "      <td>24</td>\n",
       "      <td>30</td>\n",
       "      <td>13950.0</td>\n",
       "    </tr>\n",
       "    <tr>\n",
       "      <th>4</th>\n",
       "      <td>5</td>\n",
       "      <td>2</td>\n",
       "      <td>audi 100ls</td>\n",
       "      <td>gas</td>\n",
       "      <td>std</td>\n",
       "      <td>four</td>\n",
       "      <td>sedan</td>\n",
       "      <td>4wd</td>\n",
       "      <td>front</td>\n",
       "      <td>99.4</td>\n",
       "      <td>...</td>\n",
       "      <td>136</td>\n",
       "      <td>mpfi</td>\n",
       "      <td>3.19</td>\n",
       "      <td>3.40</td>\n",
       "      <td>8.0</td>\n",
       "      <td>115</td>\n",
       "      <td>5500</td>\n",
       "      <td>18</td>\n",
       "      <td>22</td>\n",
       "      <td>17450.0</td>\n",
       "    </tr>\n",
       "  </tbody>\n",
       "</table>\n",
       "<p>5 rows × 26 columns</p>\n",
       "</div>"
      ],
      "text/plain": [
       "   car_ID  symboling                   CarName fueltype aspiration doornumber  \\\n",
       "0       1          3        alfa-romero giulia      gas        std        two   \n",
       "1       2          3       alfa-romero stelvio      gas        std        two   \n",
       "2       3          1  alfa-romero Quadrifoglio      gas        std        two   \n",
       "3       4          2               audi 100 ls      gas        std       four   \n",
       "4       5          2                audi 100ls      gas        std       four   \n",
       "\n",
       "       carbody drivewheel enginelocation  wheelbase  ...  enginesize  \\\n",
       "0  convertible        rwd          front       88.6  ...         130   \n",
       "1  convertible        rwd          front       88.6  ...         130   \n",
       "2    hatchback        rwd          front       94.5  ...         152   \n",
       "3        sedan        fwd          front       99.8  ...         109   \n",
       "4        sedan        4wd          front       99.4  ...         136   \n",
       "\n",
       "   fuelsystem  boreratio  stroke compressionratio horsepower  peakrpm citympg  \\\n",
       "0        mpfi       3.47    2.68              9.0        111     5000      21   \n",
       "1        mpfi       3.47    2.68              9.0        111     5000      21   \n",
       "2        mpfi       2.68    3.47              9.0        154     5000      19   \n",
       "3        mpfi       3.19    3.40             10.0        102     5500      24   \n",
       "4        mpfi       3.19    3.40              8.0        115     5500      18   \n",
       "\n",
       "   highwaympg    price  \n",
       "0          27  13495.0  \n",
       "1          27  16500.0  \n",
       "2          26  16500.0  \n",
       "3          30  13950.0  \n",
       "4          22  17450.0  \n",
       "\n",
       "[5 rows x 26 columns]"
      ]
     },
     "execution_count": 52,
     "metadata": {},
     "output_type": "execute_result"
    }
   ],
   "source": [
    "import pandas as pd\n",
    "\n",
    "#incarcam setul de date cu imobiliare\n",
    "df_sample = pd.read_csv(\"CarPrice_Assignment.csv\")\n",
    "df_sample.head()"
   ]
  },
  {
   "cell_type": "markdown",
   "metadata": {},
   "source": [
    "Impartim setul de date in train/test.\n",
    "\n",
    "Vom folosi o alegere aleatorie, dar fixata odata aleasa prin specificare parametrului random_state.\n",
    "\n",
    "Specificarea acestui parametru face posibila verificarea si reproducerea ulterioara."
   ]
  },
  {
   "cell_type": "code",
   "execution_count": 53,
   "metadata": {},
   "outputs": [
    {
     "data": {
      "text/plain": [
       "array(['alfa-romero', 'audi', 'bmw', 'chevrolet', 'dodge', 'honda',\n",
       "       'isuzu', 'jaguar', 'maxda', 'mazda', 'buick', 'mercury',\n",
       "       'mitsubishi', 'Nissan', 'nissan', 'peugeot', 'plymouth', 'porsche',\n",
       "       'porcshce', 'renault', 'saab', 'subaru', 'toyota', 'toyouta',\n",
       "       'vokswagen', 'volkswagen', 'vw', 'volvo'], dtype=object)"
      ]
     },
     "execution_count": 53,
     "metadata": {},
     "output_type": "execute_result"
    }
   ],
   "source": [
    "#Splitting company name from CarName column\n",
    "CompanyName = df_sample['CarName'].apply(lambda x : x.split(' ')[0])\n",
    "df_sample.insert(3,\"CompanyName\",CompanyName)\n",
    "df_sample.drop(['CarName'],axis=1,inplace=True)\n",
    "df_sample.head()\n",
    "df_sample.CompanyName.unique()"
   ]
  },
  {
   "cell_type": "code",
   "execution_count": 54,
   "metadata": {},
   "outputs": [
    {
     "data": {
      "text/plain": [
       "array(['alfa-romeo', 'audi', 'bmw', 'chevrolet', 'dodge', 'honda',\n",
       "       'isuzu', 'jaguar', 'mazda', 'buick', 'mercury', 'mitsubishi',\n",
       "       'nissan', 'peugeot', 'plymouth', 'porsche', 'renault', 'saab',\n",
       "       'subaru', 'toyota', 'volkswagen', 'volvo'], dtype=object)"
      ]
     },
     "execution_count": 54,
     "metadata": {},
     "output_type": "execute_result"
    }
   ],
   "source": [
    "df_sample.CompanyName = df_sample.CompanyName.str.lower()\n",
    "\n",
    "def replace_name(a,b):\n",
    "    df_sample.CompanyName.replace(a,b,inplace=True)\n",
    "\n",
    "replace_name('maxda','mazda')\n",
    "replace_name('porcshce','porsche')\n",
    "replace_name('toyouta','toyota')\n",
    "replace_name('vokswagen','volkswagen')\n",
    "replace_name('vw','volkswagen')\n",
    "replace_name('alfa-romero','alfa-romeo')\n",
    "df_sample.CompanyName.unique()"
   ]
  },
  {
   "cell_type": "code",
   "execution_count": 55,
   "metadata": {},
   "outputs": [],
   "source": [
    "#Consum\n",
    "df_sample['fueleconomy'] = (0.55 * df_sample['citympg']) + (0.45 * df_sample['highwaympg'])"
   ]
  },
  {
   "cell_type": "code",
   "execution_count": 56,
   "metadata": {},
   "outputs": [
    {
     "data": {
      "text/html": [
       "<div>\n",
       "<style scoped>\n",
       "    .dataframe tbody tr th:only-of-type {\n",
       "        vertical-align: middle;\n",
       "    }\n",
       "\n",
       "    .dataframe tbody tr th {\n",
       "        vertical-align: top;\n",
       "    }\n",
       "\n",
       "    .dataframe thead th {\n",
       "        text-align: right;\n",
       "    }\n",
       "</style>\n",
       "<table border=\"1\" class=\"dataframe\">\n",
       "  <thead>\n",
       "    <tr style=\"text-align: right;\">\n",
       "      <th></th>\n",
       "      <th>car_ID</th>\n",
       "      <th>symboling</th>\n",
       "      <th>CompanyName</th>\n",
       "      <th>fueltype</th>\n",
       "      <th>aspiration</th>\n",
       "      <th>doornumber</th>\n",
       "      <th>carbody</th>\n",
       "      <th>drivewheel</th>\n",
       "      <th>enginelocation</th>\n",
       "      <th>wheelbase</th>\n",
       "      <th>...</th>\n",
       "      <th>boreratio</th>\n",
       "      <th>stroke</th>\n",
       "      <th>compressionratio</th>\n",
       "      <th>horsepower</th>\n",
       "      <th>peakrpm</th>\n",
       "      <th>citympg</th>\n",
       "      <th>highwaympg</th>\n",
       "      <th>price</th>\n",
       "      <th>fueleconomy</th>\n",
       "      <th>carsrange</th>\n",
       "    </tr>\n",
       "  </thead>\n",
       "  <tbody>\n",
       "    <tr>\n",
       "      <th>0</th>\n",
       "      <td>1</td>\n",
       "      <td>3</td>\n",
       "      <td>alfa-romeo</td>\n",
       "      <td>gas</td>\n",
       "      <td>std</td>\n",
       "      <td>two</td>\n",
       "      <td>convertible</td>\n",
       "      <td>rwd</td>\n",
       "      <td>front</td>\n",
       "      <td>88.6</td>\n",
       "      <td>...</td>\n",
       "      <td>3.47</td>\n",
       "      <td>2.68</td>\n",
       "      <td>9.0</td>\n",
       "      <td>111</td>\n",
       "      <td>5000</td>\n",
       "      <td>21</td>\n",
       "      <td>27</td>\n",
       "      <td>13495</td>\n",
       "      <td>23.70</td>\n",
       "      <td>Medium</td>\n",
       "    </tr>\n",
       "    <tr>\n",
       "      <th>1</th>\n",
       "      <td>2</td>\n",
       "      <td>3</td>\n",
       "      <td>alfa-romeo</td>\n",
       "      <td>gas</td>\n",
       "      <td>std</td>\n",
       "      <td>two</td>\n",
       "      <td>convertible</td>\n",
       "      <td>rwd</td>\n",
       "      <td>front</td>\n",
       "      <td>88.6</td>\n",
       "      <td>...</td>\n",
       "      <td>3.47</td>\n",
       "      <td>2.68</td>\n",
       "      <td>9.0</td>\n",
       "      <td>111</td>\n",
       "      <td>5000</td>\n",
       "      <td>21</td>\n",
       "      <td>27</td>\n",
       "      <td>16500</td>\n",
       "      <td>23.70</td>\n",
       "      <td>Medium</td>\n",
       "    </tr>\n",
       "    <tr>\n",
       "      <th>2</th>\n",
       "      <td>3</td>\n",
       "      <td>1</td>\n",
       "      <td>alfa-romeo</td>\n",
       "      <td>gas</td>\n",
       "      <td>std</td>\n",
       "      <td>two</td>\n",
       "      <td>hatchback</td>\n",
       "      <td>rwd</td>\n",
       "      <td>front</td>\n",
       "      <td>94.5</td>\n",
       "      <td>...</td>\n",
       "      <td>2.68</td>\n",
       "      <td>3.47</td>\n",
       "      <td>9.0</td>\n",
       "      <td>154</td>\n",
       "      <td>5000</td>\n",
       "      <td>19</td>\n",
       "      <td>26</td>\n",
       "      <td>16500</td>\n",
       "      <td>22.15</td>\n",
       "      <td>Medium</td>\n",
       "    </tr>\n",
       "    <tr>\n",
       "      <th>3</th>\n",
       "      <td>4</td>\n",
       "      <td>2</td>\n",
       "      <td>audi</td>\n",
       "      <td>gas</td>\n",
       "      <td>std</td>\n",
       "      <td>four</td>\n",
       "      <td>sedan</td>\n",
       "      <td>fwd</td>\n",
       "      <td>front</td>\n",
       "      <td>99.8</td>\n",
       "      <td>...</td>\n",
       "      <td>3.19</td>\n",
       "      <td>3.40</td>\n",
       "      <td>10.0</td>\n",
       "      <td>102</td>\n",
       "      <td>5500</td>\n",
       "      <td>24</td>\n",
       "      <td>30</td>\n",
       "      <td>13950</td>\n",
       "      <td>26.70</td>\n",
       "      <td>Medium</td>\n",
       "    </tr>\n",
       "    <tr>\n",
       "      <th>4</th>\n",
       "      <td>5</td>\n",
       "      <td>2</td>\n",
       "      <td>audi</td>\n",
       "      <td>gas</td>\n",
       "      <td>std</td>\n",
       "      <td>four</td>\n",
       "      <td>sedan</td>\n",
       "      <td>4wd</td>\n",
       "      <td>front</td>\n",
       "      <td>99.4</td>\n",
       "      <td>...</td>\n",
       "      <td>3.19</td>\n",
       "      <td>3.40</td>\n",
       "      <td>8.0</td>\n",
       "      <td>115</td>\n",
       "      <td>5500</td>\n",
       "      <td>18</td>\n",
       "      <td>22</td>\n",
       "      <td>17450</td>\n",
       "      <td>19.80</td>\n",
       "      <td>Medium</td>\n",
       "    </tr>\n",
       "  </tbody>\n",
       "</table>\n",
       "<p>5 rows × 28 columns</p>\n",
       "</div>"
      ],
      "text/plain": [
       "   car_ID  symboling CompanyName fueltype aspiration doornumber      carbody  \\\n",
       "0       1          3  alfa-romeo      gas        std        two  convertible   \n",
       "1       2          3  alfa-romeo      gas        std        two  convertible   \n",
       "2       3          1  alfa-romeo      gas        std        two    hatchback   \n",
       "3       4          2        audi      gas        std       four        sedan   \n",
       "4       5          2        audi      gas        std       four        sedan   \n",
       "\n",
       "  drivewheel enginelocation  wheelbase  ...  boreratio  stroke  \\\n",
       "0        rwd          front       88.6  ...       3.47    2.68   \n",
       "1        rwd          front       88.6  ...       3.47    2.68   \n",
       "2        rwd          front       94.5  ...       2.68    3.47   \n",
       "3        fwd          front       99.8  ...       3.19    3.40   \n",
       "4        4wd          front       99.4  ...       3.19    3.40   \n",
       "\n",
       "   compressionratio  horsepower peakrpm citympg  highwaympg  price  \\\n",
       "0               9.0         111    5000      21          27  13495   \n",
       "1               9.0         111    5000      21          27  16500   \n",
       "2               9.0         154    5000      19          26  16500   \n",
       "3              10.0         102    5500      24          30  13950   \n",
       "4               8.0         115    5500      18          22  17450   \n",
       "\n",
       "   fueleconomy  carsrange  \n",
       "0        23.70     Medium  \n",
       "1        23.70     Medium  \n",
       "2        22.15     Medium  \n",
       "3        26.70     Medium  \n",
       "4        19.80     Medium  \n",
       "\n",
       "[5 rows x 28 columns]"
      ]
     },
     "execution_count": 56,
     "metadata": {},
     "output_type": "execute_result"
    }
   ],
   "source": [
    "#discretizarea companiilor bazata pe pret mediu.\n",
    "df_sample['price'] = df_sample['price'].astype('int')\n",
    "temp = df_sample.copy()\n",
    "table = temp.groupby(['CompanyName'])['price'].mean()\n",
    "temp = temp.merge(table.reset_index(), how='left',on='CompanyName')\n",
    "bins = [0,10000,20000,40000]\n",
    "cars_bin=['Budget','Medium','Highend']\n",
    "df_sample['carsrange'] = pd.cut(temp['price_y'],bins,right=False,labels=cars_bin)\n",
    "df_sample.head()"
   ]
  },
  {
   "cell_type": "code",
   "execution_count": 57,
   "metadata": {},
   "outputs": [
    {
     "data": {
      "text/html": [
       "<div>\n",
       "<style scoped>\n",
       "    .dataframe tbody tr th:only-of-type {\n",
       "        vertical-align: middle;\n",
       "    }\n",
       "\n",
       "    .dataframe tbody tr th {\n",
       "        vertical-align: top;\n",
       "    }\n",
       "\n",
       "    .dataframe thead th {\n",
       "        text-align: right;\n",
       "    }\n",
       "</style>\n",
       "<table border=\"1\" class=\"dataframe\">\n",
       "  <thead>\n",
       "    <tr style=\"text-align: right;\">\n",
       "      <th></th>\n",
       "      <th>max</th>\n",
       "      <th>min</th>\n",
       "    </tr>\n",
       "    <tr>\n",
       "      <th>carsrange</th>\n",
       "      <th></th>\n",
       "      <th></th>\n",
       "    </tr>\n",
       "  </thead>\n",
       "  <tbody>\n",
       "    <tr>\n",
       "      <th>Budget</th>\n",
       "      <td>17669</td>\n",
       "      <td>5118</td>\n",
       "    </tr>\n",
       "    <tr>\n",
       "      <th>Medium</th>\n",
       "      <td>23875</td>\n",
       "      <td>5195</td>\n",
       "    </tr>\n",
       "    <tr>\n",
       "      <th>Highend</th>\n",
       "      <td>45400</td>\n",
       "      <td>16430</td>\n",
       "    </tr>\n",
       "  </tbody>\n",
       "</table>\n",
       "</div>"
      ],
      "text/plain": [
       "             max    min\n",
       "carsrange              \n",
       "Budget     17669   5118\n",
       "Medium     23875   5195\n",
       "Highend    45400  16430"
      ]
     },
     "execution_count": 57,
     "metadata": {},
     "output_type": "execute_result"
    }
   ],
   "source": [
    "df_sample.groupby('carsrange')['price'].agg(['max','min'])"
   ]
  },
  {
   "cell_type": "code",
   "execution_count": 58,
   "metadata": {},
   "outputs": [
    {
     "name": "stdout",
     "output_type": "stream",
     "text": [
      "Structura set date : (205, 28)\n",
      "Pt. antrenament: (164, 28)\n",
      "Pt. test: (41, 28)\n"
     ]
    }
   ],
   "source": [
    "# split in set de date de antrenament si testare\n",
    "traindf, testdf = train_test_split(df_sample, test_size=0.2, random_state=42)\n",
    "\n",
    "# testing set is around 20% of the total data; training set is around 80%\n",
    "print(\"Structura set date : {0}\".format(df_sample.shape))\n",
    "print(\"Pt. antrenament: {0}\".format(traindf.shape))\n",
    "print(\"Pt. test: {0}\".format(testdf.shape))"
   ]
  },
  {
   "cell_type": "code",
   "execution_count": 59,
   "metadata": {},
   "outputs": [
    {
     "data": {
      "text/plain": [
       "car_ID                 int64\n",
       "symboling              int64\n",
       "CompanyName           object\n",
       "fueltype              object\n",
       "aspiration            object\n",
       "doornumber            object\n",
       "carbody               object\n",
       "drivewheel            object\n",
       "enginelocation        object\n",
       "wheelbase            float64\n",
       "carlength            float64\n",
       "carwidth             float64\n",
       "carheight            float64\n",
       "curbweight             int64\n",
       "enginetype            object\n",
       "cylindernumber        object\n",
       "enginesize             int64\n",
       "fuelsystem            object\n",
       "boreratio            float64\n",
       "stroke               float64\n",
       "compressionratio     float64\n",
       "horsepower             int64\n",
       "peakrpm                int64\n",
       "citympg                int64\n",
       "highwaympg             int64\n",
       "price                  int32\n",
       "fueleconomy          float64\n",
       "carsrange           category\n",
       "dtype: object"
      ]
     },
     "execution_count": 59,
     "metadata": {},
     "output_type": "execute_result"
    }
   ],
   "source": [
    "df_sample.dtypes"
   ]
  },
  {
   "cell_type": "code",
   "execution_count": 60,
   "metadata": {},
   "outputs": [],
   "source": [
    "y_train = np.array(traindf.price)\n",
    "X_train = np.array(traindf.horsepower )\n",
    "# pentru regresia liniară simplă facem acest artificiu\n",
    "X_train = X_train.reshape(X_train.shape[0], 1)"
   ]
  },
  {
   "cell_type": "code",
   "execution_count": 61,
   "metadata": {},
   "outputs": [],
   "source": [
    "y_test = np.array(testdf.price)\n",
    "X_test = np.array(testdf.horsepower)\n",
    "\n",
    "# pentru regresia liniară simplă facem acest artificiu\n",
    "X_test = X_test.reshape(X_test.shape[0], 1)"
   ]
  },
  {
   "cell_type": "markdown",
   "metadata": {},
   "source": [
    "Sa revedem forma pt datele initiale, train si test:"
   ]
  },
  {
   "cell_type": "code",
   "execution_count": 62,
   "metadata": {},
   "outputs": [
    {
     "data": {
      "text/plain": [
       "(205, 28)"
      ]
     },
     "execution_count": 62,
     "metadata": {},
     "output_type": "execute_result"
    }
   ],
   "source": [
    "df_sample.shape"
   ]
  },
  {
   "cell_type": "code",
   "execution_count": 63,
   "metadata": {},
   "outputs": [
    {
     "data": {
      "text/plain": [
       "((164,), (164, 1))"
      ]
     },
     "execution_count": 63,
     "metadata": {},
     "output_type": "execute_result"
    }
   ],
   "source": [
    "y_train.shape, X_train.shape"
   ]
  },
  {
   "cell_type": "code",
   "execution_count": 64,
   "metadata": {},
   "outputs": [
    {
     "data": {
      "text/plain": [
       "((41,), (41, 1))"
      ]
     },
     "execution_count": 64,
     "metadata": {},
     "output_type": "execute_result"
    }
   ],
   "source": [
    "y_test.shape, X_test.shape"
   ]
  },
  {
   "cell_type": "markdown",
   "metadata": {},
   "source": [
    "#### Putere de predictie individuala cu validare incrucisata\n",
    "\n",
    "Vom folos in functia de mai jos de mai multe ori regresia liniara simpla pentru a compara puterea predictie a fiecarui atribut in parte in prezicerea pretului.\n"
   ]
  },
  {
   "cell_type": "code",
   "execution_count": 65,
   "metadata": {},
   "outputs": [],
   "source": [
    "cars_lr = traindf[['price', 'fueltype', 'aspiration','carbody', 'drivewheel','wheelbase',\n",
    "                  'curbweight', 'enginetype', 'cylindernumber', 'enginesize', 'boreratio','horsepower', \n",
    "                    'fueleconomy', 'carlength','carwidth', 'carsrange']]"
   ]
  },
  {
   "cell_type": "code",
   "execution_count": 66,
   "metadata": {},
   "outputs": [
    {
     "data": {
      "text/plain": [
       "price                int32\n",
       "fueltype            object\n",
       "aspiration          object\n",
       "carbody             object\n",
       "drivewheel          object\n",
       "wheelbase          float64\n",
       "curbweight           int64\n",
       "enginetype          object\n",
       "cylindernumber      object\n",
       "enginesize           int64\n",
       "boreratio          float64\n",
       "horsepower           int64\n",
       "fueleconomy        float64\n",
       "carlength          float64\n",
       "carwidth           float64\n",
       "carsrange         category\n",
       "dtype: object"
      ]
     },
     "execution_count": 66,
     "metadata": {},
     "output_type": "execute_result"
    }
   ],
   "source": [
    "cars_lr.dtypes"
   ]
  },
  {
   "cell_type": "markdown",
   "metadata": {},
   "source": [
    "Construim o funcție ca să convertim variabilele calitative/categoriale în variabile numerice. Folosim pentru asta aici funcția pandas `dummies`. O alta variantă este funcția `sklearn.preprocessing.OneHotEncoder` - asupra acestei funcții vom reveni."
   ]
  },
  {
   "cell_type": "code",
   "execution_count": 67,
   "metadata": {},
   "outputs": [],
   "source": [
    "# Defining the map function\n",
    "def dummies(x,df):\n",
    "    temp = pd.get_dummies(df[x], drop_first = True)\n",
    "    df = pd.concat([df, temp], axis = 1)\n",
    "    df.drop([x], axis = 1, inplace = True)\n",
    "    return df\n"
   ]
  },
  {
   "cell_type": "code",
   "execution_count": 68,
   "metadata": {},
   "outputs": [],
   "source": [
    "cars_lr = dummies('aspiration',cars_lr)\n",
    "cars_lr = dummies('carbody',cars_lr)\n",
    "cars_lr = dummies('drivewheel',cars_lr)\n",
    "cars_lr = dummies('enginetype',cars_lr)\n",
    "cars_lr = dummies('cylindernumber',cars_lr)\n",
    "cars_lr = dummies('carsrange',cars_lr)\n",
    "cars_lr = dummies('fueltype',cars_lr)"
   ]
  },
  {
   "cell_type": "code",
   "execution_count": 69,
   "metadata": {},
   "outputs": [
    {
     "name": "stdout",
     "output_type": "stream",
     "text": [
      "<class 'pandas.core.frame.DataFrame'>\n",
      "Int64Index: 164 entries, 66 to 102\n",
      "Data columns (total 30 columns):\n",
      " #   Column       Non-Null Count  Dtype  \n",
      "---  ------       --------------  -----  \n",
      " 0   price        164 non-null    int32  \n",
      " 1   wheelbase    164 non-null    float64\n",
      " 2   curbweight   164 non-null    int64  \n",
      " 3   enginesize   164 non-null    int64  \n",
      " 4   boreratio    164 non-null    float64\n",
      " 5   horsepower   164 non-null    int64  \n",
      " 6   fueleconomy  164 non-null    float64\n",
      " 7   carlength    164 non-null    float64\n",
      " 8   carwidth     164 non-null    float64\n",
      " 9   turbo        164 non-null    uint8  \n",
      " 10  hardtop      164 non-null    uint8  \n",
      " 11  hatchback    164 non-null    uint8  \n",
      " 12  sedan        164 non-null    uint8  \n",
      " 13  wagon        164 non-null    uint8  \n",
      " 14  fwd          164 non-null    uint8  \n",
      " 15  rwd          164 non-null    uint8  \n",
      " 16  dohcv        164 non-null    uint8  \n",
      " 17  l            164 non-null    uint8  \n",
      " 18  ohc          164 non-null    uint8  \n",
      " 19  ohcf         164 non-null    uint8  \n",
      " 20  ohcv         164 non-null    uint8  \n",
      " 21  rotor        164 non-null    uint8  \n",
      " 22  five         164 non-null    uint8  \n",
      " 23  four         164 non-null    uint8  \n",
      " 24  six          164 non-null    uint8  \n",
      " 25  twelve       164 non-null    uint8  \n",
      " 26  two          164 non-null    uint8  \n",
      " 27  Medium       164 non-null    uint8  \n",
      " 28  Highend      164 non-null    uint8  \n",
      " 29  gas          164 non-null    uint8  \n",
      "dtypes: float64(5), int32(1), int64(3), uint8(21)\n",
      "memory usage: 15.5 KB\n"
     ]
    }
   ],
   "source": [
    "cars_lr.info()"
   ]
  },
  {
   "cell_type": "code",
   "execution_count": 70,
   "metadata": {},
   "outputs": [],
   "source": [
    "import numpy as np\n",
    "from sklearn.model_selection import KFold\n",
    "\n",
    "   \n",
    "def cross_validation_score(df, model,k, target, covs = None):\n",
    "    \n",
    "    # compute press score:\n",
    "    res = []\n",
    "    # split in 10 equal parts for crossvalidation\n",
    "    kf = KFold(n_splits=k)\n",
    "    \n",
    "    \n",
    "    for train_index, test_index in kf.split(df):\n",
    "           \n",
    "        \n",
    "        X_train = None\n",
    "        X_test = None\n",
    "        \n",
    "        if covs is not None:\n",
    "            \n",
    "            X_train = df[covs].iloc[train_index]\n",
    "            X_test = df[covs].iloc[test_index]\n",
    "        \n",
    "        y_train = df[[target]].iloc[train_index]\n",
    "        y_test = df[[target]].iloc[test_index]\n",
    "        \n",
    "        #print('training')\n",
    "        # train on X_temp\n",
    "        trained_model = train_model(model, X_train, y_train)\n",
    "        \n",
    "        #print(model, trained_model)\n",
    "        if model == 'base_model':\n",
    "            trained_model = [trained_model[0]] *len(y_test)\n",
    "        \n",
    "        # prognoza       \n",
    "        y_hat = forecast(model, trained_model,X_test)\n",
    "        \n",
    "        #calcul eroare si adaugare in lista\n",
    "        res.append( np.sum((y_test.values -y_hat )**2)/len(y_test))\n",
    "    \n",
    "    # returnam media erorilor MSE\n",
    "    return np.mean(res)\n",
    "\n",
    "\n",
    "# linear regression and base model \n",
    "def train_model(model, X,y):\n",
    "    \n",
    "    if model == 'base_model':\n",
    "        \n",
    "        # pentru modelul de bază folosim media variabilei țintă/răspuns\n",
    "        return sum(y.values)/len(y)\n",
    "    \n",
    "    else:\n",
    "        \n",
    "        # modelul de regresie liniară:\n",
    "        # creăm un obiect cu care să modelăm\n",
    "        reg = LinearRegression()\n",
    "        \n",
    "        # antrenăm modelul\n",
    "        reg.fit(X.values, y.values)\n",
    "    \n",
    "        return reg\n",
    "\n",
    "    \n",
    "def forecast(model,trained_model, X):\n",
    "    \n",
    "    \n",
    "    if model == 'base_model': \n",
    "        \n",
    "        # modelul de bază, returnăm media\n",
    "        return trained_model # return the average\n",
    "    \n",
    "    else: \n",
    "        \n",
    "        # multilinear regression\n",
    "        return trained_model.predict(X.values)\n",
    "    "
   ]
  },
  {
   "cell_type": "code",
   "execution_count": 71,
   "metadata": {},
   "outputs": [
    {
     "data": {
      "text/plain": [
       "Index(['price', 'wheelbase', 'curbweight', 'enginesize', 'boreratio',\n",
       "       'horsepower', 'fueleconomy', 'carlength', 'carwidth', 'turbo',\n",
       "       'hardtop', 'hatchback', 'sedan', 'wagon', 'fwd', 'rwd', 'dohcv', 'l',\n",
       "       'ohc', 'ohcf', 'ohcv', 'rotor', 'five', 'four', 'six', 'twelve', 'two',\n",
       "       'Medium', 'Highend', 'gas'],\n",
       "      dtype='object')"
      ]
     },
     "execution_count": 71,
     "metadata": {},
     "output_type": "execute_result"
    }
   ],
   "source": [
    "cars_lr.columns"
   ]
  },
  {
   "cell_type": "code",
   "execution_count": 73,
   "metadata": {},
   "outputs": [
    {
     "name": "stdout",
     "output_type": "stream",
     "text": [
      "base model:  59637752.81480517\n"
     ]
    },
    {
     "data": {
      "text/html": [
       "<div>\n",
       "<style scoped>\n",
       "    .dataframe tbody tr th:only-of-type {\n",
       "        vertical-align: middle;\n",
       "    }\n",
       "\n",
       "    .dataframe tbody tr th {\n",
       "        vertical-align: top;\n",
       "    }\n",
       "\n",
       "    .dataframe thead th {\n",
       "        text-align: right;\n",
       "    }\n",
       "</style>\n",
       "<table border=\"1\" class=\"dataframe\">\n",
       "  <thead>\n",
       "    <tr style=\"text-align: right;\">\n",
       "      <th></th>\n",
       "      <th>feature_name</th>\n",
       "      <th>RMSE_CV</th>\n",
       "      <th>base model</th>\n",
       "      <th>Prediction Power</th>\n",
       "    </tr>\n",
       "  </thead>\n",
       "  <tbody>\n",
       "    <tr>\n",
       "      <th>2</th>\n",
       "      <td>enginesize</td>\n",
       "      <td>1.571588e+07</td>\n",
       "      <td>5.963775e+07</td>\n",
       "      <td>73.6</td>\n",
       "    </tr>\n",
       "    <tr>\n",
       "      <th>1</th>\n",
       "      <td>curbweight</td>\n",
       "      <td>1.958961e+07</td>\n",
       "      <td>5.963775e+07</td>\n",
       "      <td>67.2</td>\n",
       "    </tr>\n",
       "    <tr>\n",
       "      <th>4</th>\n",
       "      <td>horsepower</td>\n",
       "      <td>2.136494e+07</td>\n",
       "      <td>5.963775e+07</td>\n",
       "      <td>64.2</td>\n",
       "    </tr>\n",
       "    <tr>\n",
       "      <th>27</th>\n",
       "      <td>Highend</td>\n",
       "      <td>2.474849e+07</td>\n",
       "      <td>5.963775e+07</td>\n",
       "      <td>58.5</td>\n",
       "    </tr>\n",
       "    <tr>\n",
       "      <th>7</th>\n",
       "      <td>carwidth</td>\n",
       "      <td>2.725161e+07</td>\n",
       "      <td>5.963775e+07</td>\n",
       "      <td>54.3</td>\n",
       "    </tr>\n",
       "    <tr>\n",
       "      <th>5</th>\n",
       "      <td>fueleconomy</td>\n",
       "      <td>3.037516e+07</td>\n",
       "      <td>5.963775e+07</td>\n",
       "      <td>49.1</td>\n",
       "    </tr>\n",
       "    <tr>\n",
       "      <th>22</th>\n",
       "      <td>four</td>\n",
       "      <td>3.099811e+07</td>\n",
       "      <td>5.963775e+07</td>\n",
       "      <td>48.0</td>\n",
       "    </tr>\n",
       "    <tr>\n",
       "      <th>6</th>\n",
       "      <td>carlength</td>\n",
       "      <td>3.589357e+07</td>\n",
       "      <td>5.963775e+07</td>\n",
       "      <td>39.8</td>\n",
       "    </tr>\n",
       "    <tr>\n",
       "      <th>14</th>\n",
       "      <td>rwd</td>\n",
       "      <td>3.689611e+07</td>\n",
       "      <td>5.963775e+07</td>\n",
       "      <td>38.1</td>\n",
       "    </tr>\n",
       "    <tr>\n",
       "      <th>13</th>\n",
       "      <td>fwd</td>\n",
       "      <td>3.954887e+07</td>\n",
       "      <td>5.963775e+07</td>\n",
       "      <td>33.7</td>\n",
       "    </tr>\n",
       "    <tr>\n",
       "      <th>3</th>\n",
       "      <td>boreratio</td>\n",
       "      <td>4.338557e+07</td>\n",
       "      <td>5.963775e+07</td>\n",
       "      <td>27.3</td>\n",
       "    </tr>\n",
       "    <tr>\n",
       "      <th>0</th>\n",
       "      <td>wheelbase</td>\n",
       "      <td>4.691851e+07</td>\n",
       "      <td>5.963775e+07</td>\n",
       "      <td>21.3</td>\n",
       "    </tr>\n",
       "    <tr>\n",
       "      <th>23</th>\n",
       "      <td>six</td>\n",
       "      <td>4.838540e+07</td>\n",
       "      <td>5.963775e+07</td>\n",
       "      <td>18.9</td>\n",
       "    </tr>\n",
       "    <tr>\n",
       "      <th>17</th>\n",
       "      <td>ohc</td>\n",
       "      <td>5.078056e+07</td>\n",
       "      <td>5.963775e+07</td>\n",
       "      <td>14.9</td>\n",
       "    </tr>\n",
       "    <tr>\n",
       "      <th>19</th>\n",
       "      <td>ohcv</td>\n",
       "      <td>5.151999e+07</td>\n",
       "      <td>5.963775e+07</td>\n",
       "      <td>13.6</td>\n",
       "    </tr>\n",
       "    <tr>\n",
       "      <th>10</th>\n",
       "      <td>hatchback</td>\n",
       "      <td>5.764127e+07</td>\n",
       "      <td>5.963775e+07</td>\n",
       "      <td>3.3</td>\n",
       "    </tr>\n",
       "    <tr>\n",
       "      <th>9</th>\n",
       "      <td>hardtop</td>\n",
       "      <td>5.873694e+07</td>\n",
       "      <td>5.963775e+07</td>\n",
       "      <td>1.5</td>\n",
       "    </tr>\n",
       "    <tr>\n",
       "      <th>21</th>\n",
       "      <td>five</td>\n",
       "      <td>5.915665e+07</td>\n",
       "      <td>5.963775e+07</td>\n",
       "      <td>0.8</td>\n",
       "    </tr>\n",
       "    <tr>\n",
       "      <th>8</th>\n",
       "      <td>turbo</td>\n",
       "      <td>5.969816e+07</td>\n",
       "      <td>5.963775e+07</td>\n",
       "      <td>-0.1</td>\n",
       "    </tr>\n",
       "    <tr>\n",
       "      <th>16</th>\n",
       "      <td>l</td>\n",
       "      <td>6.055688e+07</td>\n",
       "      <td>5.963775e+07</td>\n",
       "      <td>-1.5</td>\n",
       "    </tr>\n",
       "    <tr>\n",
       "      <th>15</th>\n",
       "      <td>dohcv</td>\n",
       "      <td>6.077584e+07</td>\n",
       "      <td>5.963775e+07</td>\n",
       "      <td>-1.9</td>\n",
       "    </tr>\n",
       "    <tr>\n",
       "      <th>11</th>\n",
       "      <td>sedan</td>\n",
       "      <td>6.080157e+07</td>\n",
       "      <td>5.963775e+07</td>\n",
       "      <td>-2.0</td>\n",
       "    </tr>\n",
       "    <tr>\n",
       "      <th>24</th>\n",
       "      <td>twelve</td>\n",
       "      <td>6.081405e+07</td>\n",
       "      <td>5.963775e+07</td>\n",
       "      <td>-2.0</td>\n",
       "    </tr>\n",
       "    <tr>\n",
       "      <th>20</th>\n",
       "      <td>rotor</td>\n",
       "      <td>6.087281e+07</td>\n",
       "      <td>5.963775e+07</td>\n",
       "      <td>-2.1</td>\n",
       "    </tr>\n",
       "    <tr>\n",
       "      <th>25</th>\n",
       "      <td>two</td>\n",
       "      <td>6.087281e+07</td>\n",
       "      <td>5.963775e+07</td>\n",
       "      <td>-2.1</td>\n",
       "    </tr>\n",
       "    <tr>\n",
       "      <th>12</th>\n",
       "      <td>wagon</td>\n",
       "      <td>6.101740e+07</td>\n",
       "      <td>5.963775e+07</td>\n",
       "      <td>-2.3</td>\n",
       "    </tr>\n",
       "    <tr>\n",
       "      <th>28</th>\n",
       "      <td>gas</td>\n",
       "      <td>6.104818e+07</td>\n",
       "      <td>5.963775e+07</td>\n",
       "      <td>-2.4</td>\n",
       "    </tr>\n",
       "    <tr>\n",
       "      <th>18</th>\n",
       "      <td>ohcf</td>\n",
       "      <td>6.115076e+07</td>\n",
       "      <td>5.963775e+07</td>\n",
       "      <td>-2.5</td>\n",
       "    </tr>\n",
       "    <tr>\n",
       "      <th>26</th>\n",
       "      <td>Medium</td>\n",
       "      <td>6.148116e+07</td>\n",
       "      <td>5.963775e+07</td>\n",
       "      <td>-3.1</td>\n",
       "    </tr>\n",
       "  </tbody>\n",
       "</table>\n",
       "</div>"
      ],
      "text/plain": [
       "   feature_name       RMSE_CV    base model  Prediction Power\n",
       "2    enginesize  1.571588e+07  5.963775e+07              73.6\n",
       "1    curbweight  1.958961e+07  5.963775e+07              67.2\n",
       "4    horsepower  2.136494e+07  5.963775e+07              64.2\n",
       "27      Highend  2.474849e+07  5.963775e+07              58.5\n",
       "7      carwidth  2.725161e+07  5.963775e+07              54.3\n",
       "5   fueleconomy  3.037516e+07  5.963775e+07              49.1\n",
       "22         four  3.099811e+07  5.963775e+07              48.0\n",
       "6     carlength  3.589357e+07  5.963775e+07              39.8\n",
       "14          rwd  3.689611e+07  5.963775e+07              38.1\n",
       "13          fwd  3.954887e+07  5.963775e+07              33.7\n",
       "3     boreratio  4.338557e+07  5.963775e+07              27.3\n",
       "0     wheelbase  4.691851e+07  5.963775e+07              21.3\n",
       "23          six  4.838540e+07  5.963775e+07              18.9\n",
       "17          ohc  5.078056e+07  5.963775e+07              14.9\n",
       "19         ohcv  5.151999e+07  5.963775e+07              13.6\n",
       "10    hatchback  5.764127e+07  5.963775e+07               3.3\n",
       "9       hardtop  5.873694e+07  5.963775e+07               1.5\n",
       "21         five  5.915665e+07  5.963775e+07               0.8\n",
       "8         turbo  5.969816e+07  5.963775e+07              -0.1\n",
       "16            l  6.055688e+07  5.963775e+07              -1.5\n",
       "15        dohcv  6.077584e+07  5.963775e+07              -1.9\n",
       "11        sedan  6.080157e+07  5.963775e+07              -2.0\n",
       "24       twelve  6.081405e+07  5.963775e+07              -2.0\n",
       "20        rotor  6.087281e+07  5.963775e+07              -2.1\n",
       "25          two  6.087281e+07  5.963775e+07              -2.1\n",
       "12        wagon  6.101740e+07  5.963775e+07              -2.3\n",
       "28          gas  6.104818e+07  5.963775e+07              -2.4\n",
       "18         ohcf  6.115076e+07  5.963775e+07              -2.5\n",
       "26       Medium  6.148116e+07  5.963775e+07              -3.1"
      ]
     },
     "execution_count": 73,
     "metadata": {},
     "output_type": "execute_result"
    }
   ],
   "source": [
    "# predictorii \n",
    "pred_vars = [ 'wheelbase', 'curbweight', 'enginesize', 'boreratio',\n",
    "       'horsepower', 'fueleconomy', 'carlength', 'carwidth', 'turbo',\n",
    "       'hardtop', 'hatchback', 'sedan', 'wagon', 'fwd', 'rwd', 'dohcv', 'l',\n",
    "       'ohc', 'ohcf', 'ohcv', 'rotor', 'five', 'four', 'six', 'twelve', 'two',\n",
    "       'Medium', 'Highend', 'gas']\n",
    "\n",
    "X = cars_lr[pred_vars]\n",
    "\n",
    "## select a metric to predict\n",
    "y = cars_lr[['price']] #df_metric[[metric_name]] \n",
    "\n",
    "# get prediction power of each columns\n",
    "\n",
    "dict_list = []\n",
    "base_model = (np.sum((y-np.mean(y))**2)/len(y)).values[0] #cross_validation_score(cars_lr,'base_model', 10, target = 'price')\n",
    "print('base model: ',base_model)\n",
    "for _,col in enumerate(pred_vars):\n",
    "    individual_press ={}\n",
    "\n",
    "    individual_press['feature_name'] = col\n",
    "    individual_press['RMSE_CV'] = cross_validation_score(cars_lr[[col, 'price'] ], \n",
    "                                                       'lin-reg', 10, \n",
    "                                                       target = 'price',\n",
    "                                                      covs = [col])#[0][0]\n",
    "    individual_press['base model'] = base_model\n",
    "    individual_press['RMSE_CV_pct_diff'] =round(100*(1-individual_press['RMSE_CV']/base_model),1)#[0]),1)\n",
    "    dict_list.append(individual_press)\n",
    "\n",
    "individual_press_final = pd.DataFrame(dict_list)\n",
    "\n",
    "\n",
    "top_features = individual_press_final.sort_values(by = [\"RMSE_CV_pct_diff\"], ascending = [False])\n",
    "top_features = top_features.rename(columns = {'RMSE_CV_pct_diff':'Prediction Power'})\n",
    "top_features"
   ]
  },
  {
   "cell_type": "markdown",
   "metadata": {},
   "source": [
    "## Regresie liniară multiplă (multi-linear regression)\n",
    "\n",
    "> model sklearn"
   ]
  },
  {
   "cell_type": "markdown",
   "metadata": {},
   "source": [
    "- Nu este nici o diferență în sintaxa de antrenare a unui model.\n",
    "\n",
    "- Date = boston housing, datele se împart mai întâi ca mai sus în date de antrenament și test. (0.8/0.2)\n",
    "\n",
    "- Pentru antrenare se poate face cross-validatiion (validare încrucișată) prin împărțirea setului de date în date de antrenament si validare, cu aceeiași proporție ca mai sus.\n",
    "\n",
    "- Vom lucra un exemplu cu același set de date cu prețuri la mașini. \n",
    "\n",
    "- La final urmează un exercițiu pe setul de date adițional."
   ]
  },
  {
   "cell_type": "code",
   "execution_count": 79,
   "metadata": {},
   "outputs": [],
   "source": [
    "# selectam predictorii cu putere > 5%:\n",
    "\n",
    "predictors =  top_features[ top_features['Prediction Power']>5 ].feature_name.to_list()"
   ]
  },
  {
   "cell_type": "markdown",
   "metadata": {},
   "source": [
    "La splitare in train, validate, test vom folosi aceeiasi functie din sklearn."
   ]
  },
  {
   "cell_type": "code",
   "execution_count": 80,
   "metadata": {},
   "outputs": [
    {
     "data": {
      "text/plain": [
       "Index(['wheelbase', 'curbweight', 'enginesize', 'boreratio', 'horsepower',\n",
       "       'fueleconomy', 'carlength', 'carwidth', 'turbo', 'hardtop', 'hatchback',\n",
       "       'sedan', 'wagon', 'fwd', 'rwd', 'dohcv', 'l', 'ohc', 'ohcf', 'ohcv',\n",
       "       'rotor', 'five', 'four', 'six', 'twelve', 'two', 'Medium', 'Highend',\n",
       "       'gas'],\n",
       "      dtype='object')"
      ]
     },
     "execution_count": 80,
     "metadata": {},
     "output_type": "execute_result"
    }
   ],
   "source": [
    "cars_lr.columns"
   ]
  },
  {
   "cell_type": "code",
   "execution_count": 81,
   "metadata": {},
   "outputs": [
    {
     "data": {
      "text/plain": [
       "Index(['wheelbase', 'curbweight', 'enginesize', 'boreratio', 'horsepower',\n",
       "       'fueleconomy', 'carlength', 'carwidth', 'turbo', 'hardtop', 'hatchback',\n",
       "       'sedan', 'wagon', 'fwd', 'rwd', 'dohcv', 'l', 'ohc', 'ohcf', 'ohcv',\n",
       "       'rotor', 'five', 'four', 'six', 'twelve', 'two', 'Medium', 'Highend',\n",
       "       'gas', 'price'],\n",
       "      dtype='object')"
      ]
     },
     "execution_count": 81,
     "metadata": {},
     "output_type": "execute_result"
    }
   ],
   "source": [
    "cars_lr = pd.concat([cars_lr,y],axis=1)\n",
    "cars_lr.columns"
   ]
  },
  {
   "cell_type": "code",
   "execution_count": 82,
   "metadata": {},
   "outputs": [],
   "source": [
    "# split in train si test; chiar si aceast splitare poate fi iterata de cateva ori daca se doreste\n",
    "\n",
    "df = cars_lr\n",
    "\n",
    "# separare target si rest\n",
    "y = df['price']\n",
    "X = df\n",
    "X_train, X_test, y_train, y_test = train_test_split(\n",
    "        X, y, test_size=0.2)\n",
    "\n"
   ]
  },
  {
   "cell_type": "markdown",
   "metadata": {},
   "source": [
    "## Antrenare, validare, și predicție cu LinearRegression"
   ]
  },
  {
   "cell_type": "code",
   "execution_count": 83,
   "metadata": {},
   "outputs": [
    {
     "name": "stdout",
     "output_type": "stream",
     "text": [
      "complex_model 1\n",
      "mean squared error(MSE) 0.0\n",
      "R squared training 1.0\n",
      "R squared test 1.0\n",
      "Intercept:  9.094947017729282e-12\n",
      "Coefficient: [ 5.01262301e-14 -1.23881188e-14  8.08522616e-15  2.21243909e-12\n",
      "  2.70187017e-14 -2.96610134e-13  1.01534373e-13 -3.59179829e-13\n",
      " -4.53118128e-13  3.24231947e-12  5.08529979e-12  4.99600106e-12\n",
      "  6.36008114e-12  1.95839714e-13  5.76147538e-13  1.79946674e-12\n",
      "  1.56272318e-12  1.73419559e-13  7.96637232e-15  2.69357183e-13\n",
      " -1.83392141e-12 -1.12359910e-12 -1.48316375e-13 -8.74117497e-13\n",
      " -1.01643954e-20 -1.83392350e-12 -1.17219810e-13 -1.29316498e-13\n",
      " -4.79410666e-13  1.00000000e+00]\n"
     ]
    }
   ],
   "source": [
    "from sklearn import metrics\n",
    "\n",
    "reg = LinearRegression()\n",
    "\n",
    "trained_model = reg.fit(X_train.values, y_train.values)\n",
    "\n",
    "pred=trained_model.predict(X_test)\n",
    "\n",
    "\n",
    "print('complex_model 1')\n",
    "mean_squared_error=metrics.mean_squared_error(y_test,pred)\n",
    "print('mean squared error(MSE)', round(np.sqrt(mean_squared_error),2))\n",
    "print('R squared training',round(reg.score(X_train,y_train),3))\n",
    "print('R squared test', round(reg.score(X_test,y_test),3))\n",
    "print('Intercept: ', reg.intercept_)\n",
    "print('Coefficient:', reg.coef_)"
   ]
  },
  {
   "cell_type": "markdown",
   "metadata": {},
   "source": [
    "## Robustețea modelului"
   ]
  },
  {
   "cell_type": "code",
   "execution_count": 87,
   "metadata": {},
   "outputs": [
    {
     "name": "stdout",
     "output_type": "stream",
     "text": [
      "complex_model 1\n",
      "mean squared error(MSE) 2413.36\n",
      "R squared training 0.922\n",
      "R squared test 0.664\n",
      "Intercept:  [-33268.38249633 -33268.38249633 -33268.38249633 -33268.38249633\n",
      " -33268.38249633]\n",
      "Coefficient: [[ 2.89728874e+01  3.12549716e+00  3.24107210e+01  8.94000755e+03\n",
      "   6.30585909e+02 -5.23204403e+01 -2.45308504e+03  5.14164163e+01\n",
      "   1.15543227e+03  4.46597302e+02 -1.09473844e+03 -1.34551447e+02\n",
      "  -1.53225930e+03 -1.84917609e+02 -2.26691089e+03]\n",
      " [ 2.89728874e+01  3.12549716e+00  3.24107210e+01  8.94000755e+03\n",
      "   6.30585909e+02 -5.23204403e+01 -2.45308504e+03  5.14164163e+01\n",
      "   1.15543227e+03  4.46597302e+02 -1.09473844e+03 -1.34551447e+02\n",
      "  -1.53225930e+03 -1.84917609e+02 -2.26691089e+03]\n",
      " [ 2.89728874e+01  3.12549716e+00  3.24107210e+01  8.94000755e+03\n",
      "   6.30585909e+02 -5.23204403e+01 -2.45308504e+03  5.14164163e+01\n",
      "   1.15543227e+03  4.46597302e+02 -1.09473844e+03 -1.34551447e+02\n",
      "  -1.53225930e+03 -1.84917609e+02 -2.26691089e+03]\n",
      " [ 2.89728874e+01  3.12549716e+00  3.24107210e+01  8.94000755e+03\n",
      "   6.30585909e+02 -5.23204403e+01 -2.45308504e+03  5.14164163e+01\n",
      "   1.15543227e+03  4.46597302e+02 -1.09473844e+03 -1.34551447e+02\n",
      "  -1.53225930e+03 -1.84917609e+02 -2.26691089e+03]\n",
      " [ 2.89728874e+01  3.12549716e+00  3.24107210e+01  8.94000755e+03\n",
      "   6.30585909e+02 -5.23204403e+01 -2.45308504e+03  5.14164163e+01\n",
      "   1.15543227e+03  4.46597302e+02 -1.09473844e+03 -1.34551447e+02\n",
      "  -1.53225930e+03 -1.84917609e+02 -2.26691089e+03]]\n",
      "complex_model 1\n",
      "mean squared error(MSE) 2941.77\n",
      "R squared training 0.921\n",
      "R squared test 0.861\n",
      "Intercept:  [-41194.46613966 -41194.46613966 -41194.46613966 -41194.46613966\n",
      " -41194.46613966]\n",
      "Coefficient: [[ 2.53913017e+01  3.81515802e+00  2.13538567e+01  9.11647715e+03\n",
      "   7.88560362e+02 -2.93869766e+01 -2.28700009e+03  1.22155227e+01\n",
      "   1.45704515e+03  2.02727615e+02 -9.04685212e+02 -1.11892355e+02\n",
      "  -1.39817328e+03  4.35932014e+02 -1.14057585e+03]\n",
      " [ 2.53913017e+01  3.81515802e+00  2.13538567e+01  9.11647715e+03\n",
      "   7.88560362e+02 -2.93869766e+01 -2.28700009e+03  1.22155227e+01\n",
      "   1.45704515e+03  2.02727615e+02 -9.04685212e+02 -1.11892355e+02\n",
      "  -1.39817328e+03  4.35932014e+02 -1.14057585e+03]\n",
      " [ 2.53913017e+01  3.81515802e+00  2.13538567e+01  9.11647715e+03\n",
      "   7.88560362e+02 -2.93869766e+01 -2.28700009e+03  1.22155227e+01\n",
      "   1.45704515e+03  2.02727615e+02 -9.04685212e+02 -1.11892355e+02\n",
      "  -1.39817328e+03  4.35932014e+02 -1.14057585e+03]\n",
      " [ 2.53913017e+01  3.81515802e+00  2.13538567e+01  9.11647715e+03\n",
      "   7.88560362e+02 -2.93869766e+01 -2.28700009e+03  1.22155227e+01\n",
      "   1.45704515e+03  2.02727615e+02 -9.04685212e+02 -1.11892355e+02\n",
      "  -1.39817328e+03  4.35932014e+02 -1.14057585e+03]\n",
      " [ 2.53913017e+01  3.81515802e+00  2.13538567e+01  9.11647715e+03\n",
      "   7.88560362e+02 -2.93869766e+01 -2.28700009e+03  1.22155227e+01\n",
      "   1.45704515e+03  2.02727615e+02 -9.04685212e+02 -1.11892355e+02\n",
      "  -1.39817328e+03  4.35932014e+02 -1.14057585e+03]]\n",
      "complex_model 1\n",
      "mean squared error(MSE) 2495.86\n",
      "R squared training 0.919\n",
      "R squared test 0.872\n",
      "Intercept:  [-34283.91881757 -34283.91881757 -34283.91881757 -34283.91881757\n",
      " -34283.91881757]\n",
      "Coefficient: [[ 3.36968986e+01  3.88279673e+00  2.09671783e+01  8.54804166e+03\n",
      "   6.58907974e+02 -2.73994919e+01 -2.68814168e+03  2.06373220e+01\n",
      "   1.42931680e+03  2.92214742e+02 -8.88640441e+02 -1.17542193e+02\n",
      "  -1.95422614e+03  2.58314085e+02 -1.92421683e+03]\n",
      " [ 3.36968986e+01  3.88279673e+00  2.09671783e+01  8.54804166e+03\n",
      "   6.58907974e+02 -2.73994919e+01 -2.68814168e+03  2.06373220e+01\n",
      "   1.42931680e+03  2.92214742e+02 -8.88640441e+02 -1.17542193e+02\n",
      "  -1.95422614e+03  2.58314085e+02 -1.92421683e+03]\n",
      " [ 3.36968986e+01  3.88279673e+00  2.09671783e+01  8.54804166e+03\n",
      "   6.58907974e+02 -2.73994919e+01 -2.68814168e+03  2.06373220e+01\n",
      "   1.42931680e+03  2.92214742e+02 -8.88640441e+02 -1.17542193e+02\n",
      "  -1.95422614e+03  2.58314085e+02 -1.92421683e+03]\n",
      " [ 3.36968986e+01  3.88279673e+00  2.09671783e+01  8.54804166e+03\n",
      "   6.58907974e+02 -2.73994919e+01 -2.68814168e+03  2.06373220e+01\n",
      "   1.42931680e+03  2.92214742e+02 -8.88640441e+02 -1.17542193e+02\n",
      "  -1.95422614e+03  2.58314085e+02 -1.92421683e+03]\n",
      " [ 3.36968986e+01  3.88279673e+00  2.09671783e+01  8.54804166e+03\n",
      "   6.58907974e+02 -2.73994919e+01 -2.68814168e+03  2.06373220e+01\n",
      "   1.42931680e+03  2.92214742e+02 -8.88640441e+02 -1.17542193e+02\n",
      "  -1.95422614e+03  2.58314085e+02 -1.92421683e+03]]\n",
      "complex_model 1\n",
      "mean squared error(MSE) 2155.03\n",
      "R squared training 0.917\n",
      "R squared test 0.892\n",
      "Intercept:  [-37947.34369637 -37947.34369637 -37947.34369637 -37947.34369637\n",
      " -37947.34369637]\n",
      "Coefficient: [[ 2.55856911e+01  3.08469794e+00  2.77086660e+01  9.43256380e+03\n",
      "   6.53124748e+02 -2.96427882e+01 -2.18450716e+03  3.78565377e+01\n",
      "   1.64725193e+03  6.78134091e+02 -1.23317960e+03 -7.45053274e+01\n",
      "  -1.67775452e+03 -4.34003963e+02 -1.49907945e+03]\n",
      " [ 2.55856911e+01  3.08469794e+00  2.77086660e+01  9.43256380e+03\n",
      "   6.53124748e+02 -2.96427882e+01 -2.18450716e+03  3.78565377e+01\n",
      "   1.64725193e+03  6.78134091e+02 -1.23317960e+03 -7.45053274e+01\n",
      "  -1.67775452e+03 -4.34003963e+02 -1.49907945e+03]\n",
      " [ 2.55856911e+01  3.08469794e+00  2.77086660e+01  9.43256380e+03\n",
      "   6.53124748e+02 -2.96427882e+01 -2.18450716e+03  3.78565377e+01\n",
      "   1.64725193e+03  6.78134091e+02 -1.23317960e+03 -7.45053274e+01\n",
      "  -1.67775452e+03 -4.34003963e+02 -1.49907945e+03]\n",
      " [ 2.55856911e+01  3.08469794e+00  2.77086660e+01  9.43256380e+03\n",
      "   6.53124748e+02 -2.96427882e+01 -2.18450716e+03  3.78565377e+01\n",
      "   1.64725193e+03  6.78134091e+02 -1.23317960e+03 -7.45053274e+01\n",
      "  -1.67775452e+03 -4.34003963e+02 -1.49907945e+03]\n",
      " [ 2.55856911e+01  3.08469794e+00  2.77086660e+01  9.43256380e+03\n",
      "   6.53124748e+02 -2.96427882e+01 -2.18450716e+03  3.78565377e+01\n",
      "   1.64725193e+03  6.78134091e+02 -1.23317960e+03 -7.45053274e+01\n",
      "  -1.67775452e+03 -4.34003963e+02 -1.49907945e+03]]\n",
      "complex_model 1\n",
      "mean squared error(MSE) 2262.96\n",
      "R squared training 0.917\n",
      "R squared test 0.882\n",
      "Intercept:  [-31019.58028563 -31019.58028563 -31019.58028563 -31019.58028563\n",
      " -31019.58028563]\n",
      "Coefficient: [[ 2.32479444e+01  3.19953689e+00  3.37793606e+01  9.93857178e+03\n",
      "   5.01854155e+02 -1.90776149e+01 -2.45061231e+03  6.29085307e+01\n",
      "   9.13022854e+02  9.56788778e+01 -5.76633625e+02 -1.12307294e+02\n",
      "  -2.23945207e+03 -1.59530822e+02 -1.37170435e+03]\n",
      " [ 2.32479444e+01  3.19953689e+00  3.37793606e+01  9.93857178e+03\n",
      "   5.01854155e+02 -1.90776149e+01 -2.45061231e+03  6.29085307e+01\n",
      "   9.13022854e+02  9.56788778e+01 -5.76633625e+02 -1.12307294e+02\n",
      "  -2.23945207e+03 -1.59530822e+02 -1.37170435e+03]\n",
      " [ 2.32479444e+01  3.19953689e+00  3.37793606e+01  9.93857178e+03\n",
      "   5.01854155e+02 -1.90776149e+01 -2.45061231e+03  6.29085307e+01\n",
      "   9.13022854e+02  9.56788778e+01 -5.76633625e+02 -1.12307294e+02\n",
      "  -2.23945207e+03 -1.59530822e+02 -1.37170435e+03]\n",
      " [ 2.32479444e+01  3.19953689e+00  3.37793606e+01  9.93857178e+03\n",
      "   5.01854155e+02 -1.90776149e+01 -2.45061231e+03  6.29085307e+01\n",
      "   9.13022854e+02  9.56788778e+01 -5.76633625e+02 -1.12307294e+02\n",
      "  -2.23945207e+03 -1.59530822e+02 -1.37170435e+03]\n",
      " [ 2.32479444e+01  3.19953689e+00  3.37793606e+01  9.93857178e+03\n",
      "   5.01854155e+02 -1.90776149e+01 -2.45061231e+03  6.29085307e+01\n",
      "   9.13022854e+02  9.56788778e+01 -5.76633625e+02 -1.12307294e+02\n",
      "  -2.23945207e+03 -1.59530822e+02 -1.37170435e+03]]\n",
      "complex_model 1\n",
      "mean squared error(MSE) 2152.02\n",
      "R squared training 0.918\n",
      "R squared test 0.875\n",
      "Intercept:  [-32360.31895558 -32360.31895558 -32360.31895558 -32360.31895558\n",
      " -32360.31895558]\n",
      "Coefficient: [[ 2.83409495e+01  4.51844117e+00  2.70479489e+01  9.29712922e+03\n",
      "   5.80634926e+02  8.03428848e+00 -2.49476978e+03  3.36165216e+01\n",
      "   9.33574668e+02  2.46103673e+02 -1.12717959e+03 -1.20544870e+02\n",
      "  -1.57533114e+03 -3.84093190e+02 -2.43441311e+03]\n",
      " [ 2.83409495e+01  4.51844117e+00  2.70479489e+01  9.29712922e+03\n",
      "   5.80634926e+02  8.03428848e+00 -2.49476978e+03  3.36165216e+01\n",
      "   9.33574668e+02  2.46103673e+02 -1.12717959e+03 -1.20544870e+02\n",
      "  -1.57533114e+03 -3.84093190e+02 -2.43441311e+03]\n",
      " [ 2.83409495e+01  4.51844117e+00  2.70479489e+01  9.29712922e+03\n",
      "   5.80634926e+02  8.03428848e+00 -2.49476978e+03  3.36165216e+01\n",
      "   9.33574668e+02  2.46103673e+02 -1.12717959e+03 -1.20544870e+02\n",
      "  -1.57533114e+03 -3.84093190e+02 -2.43441311e+03]\n",
      " [ 2.83409495e+01  4.51844117e+00  2.70479489e+01  9.29712922e+03\n",
      "   5.80634926e+02  8.03428848e+00 -2.49476978e+03  3.36165216e+01\n",
      "   9.33574668e+02  2.46103673e+02 -1.12717959e+03 -1.20544870e+02\n",
      "  -1.57533114e+03 -3.84093190e+02 -2.43441311e+03]\n",
      " [ 2.83409495e+01  4.51844117e+00  2.70479489e+01  9.29712922e+03\n",
      "   5.80634926e+02  8.03428848e+00 -2.49476978e+03  3.36165216e+01\n",
      "   9.33574668e+02  2.46103673e+02 -1.12717959e+03 -1.20544870e+02\n",
      "  -1.57533114e+03 -3.84093190e+02 -2.43441311e+03]]\n",
      "complex_model 1\n",
      "mean squared error(MSE) 2393.65\n",
      "R squared training 0.915\n",
      "R squared test 0.895\n",
      "Intercept:  [-28056.9509958 -28056.9509958 -28056.9509958 -28056.9509958\n",
      " -28056.9509958]\n",
      "Coefficient: [[ 4.09014179e+01  3.48718811e+00  3.94809715e+01  8.73766273e+03\n",
      "   4.64543460e+02  2.17053993e+01 -2.67707449e+03  6.11876104e+01\n",
      "   1.05215597e+03  1.53554175e+02 -1.96720697e+03 -1.09180887e+02\n",
      "  -2.76253061e+03 -3.73873688e+02 -2.06238980e+03]\n",
      " [ 4.09014179e+01  3.48718811e+00  3.94809715e+01  8.73766273e+03\n",
      "   4.64543460e+02  2.17053993e+01 -2.67707449e+03  6.11876104e+01\n",
      "   1.05215597e+03  1.53554175e+02 -1.96720697e+03 -1.09180887e+02\n",
      "  -2.76253061e+03 -3.73873688e+02 -2.06238980e+03]\n",
      " [ 4.09014179e+01  3.48718811e+00  3.94809715e+01  8.73766273e+03\n",
      "   4.64543460e+02  2.17053993e+01 -2.67707449e+03  6.11876104e+01\n",
      "   1.05215597e+03  1.53554175e+02 -1.96720697e+03 -1.09180887e+02\n",
      "  -2.76253061e+03 -3.73873688e+02 -2.06238980e+03]\n",
      " [ 4.09014179e+01  3.48718811e+00  3.94809715e+01  8.73766273e+03\n",
      "   4.64543460e+02  2.17053993e+01 -2.67707449e+03  6.11876104e+01\n",
      "   1.05215597e+03  1.53554175e+02 -1.96720697e+03 -1.09180887e+02\n",
      "  -2.76253061e+03 -3.73873688e+02 -2.06238980e+03]\n",
      " [ 4.09014179e+01  3.48718811e+00  3.94809715e+01  8.73766273e+03\n",
      "   4.64543460e+02  2.17053993e+01 -2.67707449e+03  6.11876104e+01\n",
      "   1.05215597e+03  1.53554175e+02 -1.96720697e+03 -1.09180887e+02\n",
      "  -2.76253061e+03 -3.73873688e+02 -2.06238980e+03]]\n",
      "complex_model 1\n",
      "mean squared error(MSE) 2421.35\n",
      "R squared training 0.912\n",
      "R squared test 0.926\n",
      "Intercept:  [-26029.24772717 -26029.24772717 -26029.24772717 -26029.24772717\n",
      " -26029.24772717]\n",
      "Coefficient: [[ 3.45339798e+01  3.53918278e+00  2.46013688e+01  8.81778326e+03\n",
      "   4.70126171e+02 -1.42557493e+01 -2.67702694e+03  3.84003117e+01\n",
      "   1.58601113e+03  6.01441812e+02 -7.77182264e+02 -1.07354773e+02\n",
      "  -1.63904275e+03 -4.43789339e+02 -2.24863118e+03]\n",
      " [ 3.45339798e+01  3.53918278e+00  2.46013688e+01  8.81778326e+03\n",
      "   4.70126171e+02 -1.42557493e+01 -2.67702694e+03  3.84003117e+01\n",
      "   1.58601113e+03  6.01441812e+02 -7.77182264e+02 -1.07354773e+02\n",
      "  -1.63904275e+03 -4.43789339e+02 -2.24863118e+03]\n",
      " [ 3.45339798e+01  3.53918278e+00  2.46013688e+01  8.81778326e+03\n",
      "   4.70126171e+02 -1.42557493e+01 -2.67702694e+03  3.84003117e+01\n",
      "   1.58601113e+03  6.01441812e+02 -7.77182264e+02 -1.07354773e+02\n",
      "  -1.63904275e+03 -4.43789339e+02 -2.24863118e+03]\n",
      " [ 3.45339798e+01  3.53918278e+00  2.46013688e+01  8.81778326e+03\n",
      "   4.70126171e+02 -1.42557493e+01 -2.67702694e+03  3.84003117e+01\n",
      "   1.58601113e+03  6.01441812e+02 -7.77182264e+02 -1.07354773e+02\n",
      "  -1.63904275e+03 -4.43789339e+02 -2.24863118e+03]\n",
      " [ 3.45339798e+01  3.53918278e+00  2.46013688e+01  8.81778326e+03\n",
      "   4.70126171e+02 -1.42557493e+01 -2.67702694e+03  3.84003117e+01\n",
      "   1.58601113e+03  6.01441812e+02 -7.77182264e+02 -1.07354773e+02\n",
      "  -1.63904275e+03 -4.43789339e+02 -2.24863118e+03]]\n",
      "complex_model 1\n",
      "mean squared error(MSE) 3662.18\n",
      "R squared training 0.921\n",
      "R squared test 0.804\n",
      "Intercept:  [-48733.5625986 -48733.5625986 -48733.5625986 -48733.5625986\n",
      " -48733.5625986]\n",
      "Coefficient: [[ 1.27503899e+01  3.98298890e+00  6.15559090e+01  9.58416010e+03\n",
      "   7.54486058e+02  1.12010044e+02 -2.95219162e+03  1.21079904e+01\n",
      "   4.68975005e+02 -1.42345842e+01 -5.91353374e+02 -7.63620792e+01\n",
      "  -2.47931194e+03 -9.31907035e+01 -2.26428125e+03]\n",
      " [ 1.27503899e+01  3.98298890e+00  6.15559090e+01  9.58416010e+03\n",
      "   7.54486058e+02  1.12010044e+02 -2.95219162e+03  1.21079904e+01\n",
      "   4.68975005e+02 -1.42345842e+01 -5.91353374e+02 -7.63620792e+01\n",
      "  -2.47931194e+03 -9.31907035e+01 -2.26428125e+03]\n",
      " [ 1.27503899e+01  3.98298890e+00  6.15559090e+01  9.58416010e+03\n",
      "   7.54486058e+02  1.12010044e+02 -2.95219162e+03  1.21079904e+01\n",
      "   4.68975005e+02 -1.42345842e+01 -5.91353374e+02 -7.63620792e+01\n",
      "  -2.47931194e+03 -9.31907035e+01 -2.26428125e+03]\n",
      " [ 1.27503899e+01  3.98298890e+00  6.15559090e+01  9.58416010e+03\n",
      "   7.54486058e+02  1.12010044e+02 -2.95219162e+03  1.21079904e+01\n",
      "   4.68975005e+02 -1.42345842e+01 -5.91353374e+02 -7.63620792e+01\n",
      "  -2.47931194e+03 -9.31907035e+01 -2.26428125e+03]\n",
      " [ 1.27503899e+01  3.98298890e+00  6.15559090e+01  9.58416010e+03\n",
      "   7.54486058e+02  1.12010044e+02 -2.95219162e+03  1.21079904e+01\n",
      "   4.68975005e+02 -1.42345842e+01 -5.91353374e+02 -7.63620792e+01\n",
      "  -2.47931194e+03 -9.31907035e+01 -2.26428125e+03]]\n",
      "complex_model 1\n",
      "mean squared error(MSE) 4748.02\n",
      "R squared training 0.925\n",
      "R squared test 0.801\n",
      "Intercept:  [-25526.24710699 -25526.24710699 -25526.24710699 -25526.24710699\n",
      " -25526.24710699]\n",
      "Coefficient: [[-7.36911629e+00  6.70701747e+00  3.90238502e+01  9.05641347e+03\n",
      "   4.86161876e+02  3.50745325e+01 -2.48739875e+03  5.05062418e+01\n",
      "   1.15840891e+03  1.23033895e+03 -6.64298970e+02 -2.15532932e+02\n",
      "   3.70990052e+02 -9.66718279e+00 -2.82118464e+03]\n",
      " [-7.36911629e+00  6.70701747e+00  3.90238502e+01  9.05641347e+03\n",
      "   4.86161876e+02  3.50745325e+01 -2.48739875e+03  5.05062418e+01\n",
      "   1.15840891e+03  1.23033895e+03 -6.64298970e+02 -2.15532932e+02\n",
      "   3.70990052e+02 -9.66718279e+00 -2.82118464e+03]\n",
      " [-7.36911629e+00  6.70701747e+00  3.90238502e+01  9.05641347e+03\n",
      "   4.86161876e+02  3.50745325e+01 -2.48739875e+03  5.05062418e+01\n",
      "   1.15840891e+03  1.23033895e+03 -6.64298970e+02 -2.15532932e+02\n",
      "   3.70990052e+02 -9.66718279e+00 -2.82118464e+03]\n",
      " [-7.36911629e+00  6.70701747e+00  3.90238502e+01  9.05641347e+03\n",
      "   4.86161876e+02  3.50745325e+01 -2.48739875e+03  5.05062418e+01\n",
      "   1.15840891e+03  1.23033895e+03 -6.64298970e+02 -2.15532932e+02\n",
      "   3.70990052e+02 -9.66718279e+00 -2.82118464e+03]\n",
      " [-7.36911629e+00  6.70701747e+00  3.90238502e+01  9.05641347e+03\n",
      "   4.86161876e+02  3.50745325e+01 -2.48739875e+03  5.05062418e+01\n",
      "   1.15840891e+03  1.23033895e+03 -6.64298970e+02 -2.15532932e+02\n",
      "   3.70990052e+02 -9.66718279e+00 -2.82118464e+03]]\n",
      "Average RMSE:  0.8472\n"
     ]
    }
   ],
   "source": [
    "df=pd.concat([df,y],axis=1)\n",
    "# split TRAIN in 10 parti egale pentru crossvalidare - avantajul folosirii functiei\n",
    "kf = KFold(n_splits = 10)\n",
    "target = 'price'\n",
    "RMSEs = []\n",
    "for train_index,validate_index in kf.split(cars_lr):\n",
    "\n",
    "    X_train = df[predictors].iloc[train_index]\n",
    "    X_test = df[predictors].iloc[validate_index]\n",
    "\n",
    "    y_train = df[[target]].iloc[train_index]\n",
    "    y_test = df[[target]].iloc[validate_index]\n",
    "\n",
    "    #print('training')\n",
    "    # train on X_temp\n",
    "    trained_model = reg.fit(X_train.values, y_train.values)\n",
    "    pred=trained_model.predict(X_test)\n",
    "\n",
    "    print('complex_model 1')\n",
    "    mean_squared_error=metrics.mean_squared_error(y_test,pred)\n",
    "    print('mean squared error(MSE)', round(np.sqrt(mean_squared_error),2))\n",
    "    print('R squared training',round(reg.score(X_train,y_train),3))\n",
    "    print('R squared test', round(reg.score(X_test,y_test),3))\n",
    "    print('Intercept: ', reg.intercept_)\n",
    "    print('Coefficient:', reg.coef_)\n",
    "    RMSEs.append(round(reg.score(X_test,y_test),3))\n",
    "\n",
    "print( 'Average RMSE: ', np.mean(RMSEs))"
   ]
  },
  {
   "cell_type": "markdown",
   "metadata": {},
   "source": [
    "## Efectul scalării variabilelor"
   ]
  },
  {
   "cell_type": "code",
   "execution_count": 88,
   "metadata": {},
   "outputs": [
    {
     "ename": "NameError",
     "evalue": "name 'test_index' is not defined",
     "output_type": "error",
     "traceback": [
      "\u001b[1;31m---------------------------------------------------------------------------\u001b[0m",
      "\u001b[1;31mNameError\u001b[0m                                 Traceback (most recent call last)",
      "\u001b[1;32m<ipython-input-88-6aa32a9a3f8b>\u001b[0m in \u001b[0;36m<module>\u001b[1;34m\u001b[0m\n\u001b[0;32m     14\u001b[0m \u001b[1;33m\u001b[0m\u001b[0m\n\u001b[0;32m     15\u001b[0m     \u001b[0mX_train\u001b[0m \u001b[1;33m=\u001b[0m \u001b[0mdf\u001b[0m\u001b[1;33m[\u001b[0m\u001b[0mpredictors\u001b[0m\u001b[1;33m]\u001b[0m\u001b[1;33m.\u001b[0m\u001b[0miloc\u001b[0m\u001b[1;33m[\u001b[0m\u001b[0mtrain_index\u001b[0m\u001b[1;33m]\u001b[0m\u001b[1;33m\u001b[0m\u001b[1;33m\u001b[0m\u001b[0m\n\u001b[1;32m---> 16\u001b[1;33m     \u001b[0mX_test\u001b[0m \u001b[1;33m=\u001b[0m \u001b[0mdf\u001b[0m\u001b[1;33m[\u001b[0m\u001b[0mpredictors\u001b[0m\u001b[1;33m]\u001b[0m\u001b[1;33m.\u001b[0m\u001b[0miloc\u001b[0m\u001b[1;33m[\u001b[0m\u001b[0mtest_index\u001b[0m\u001b[1;33m]\u001b[0m\u001b[1;33m\u001b[0m\u001b[1;33m\u001b[0m\u001b[0m\n\u001b[0m\u001b[0;32m     17\u001b[0m \u001b[1;33m\u001b[0m\u001b[0m\n\u001b[0;32m     18\u001b[0m     \u001b[0mtrain_means\u001b[0m  \u001b[1;33m=\u001b[0m \u001b[0mnp\u001b[0m\u001b[1;33m.\u001b[0m\u001b[0mmean\u001b[0m\u001b[1;33m(\u001b[0m\u001b[0mX_train\u001b[0m\u001b[1;33m)\u001b[0m\u001b[1;33m\u001b[0m\u001b[1;33m\u001b[0m\u001b[0m\n",
      "\u001b[1;31mNameError\u001b[0m: name 'test_index' is not defined"
     ]
    }
   ],
   "source": [
    "from sklearn.preprocessing import scale \n",
    "\n",
    "\n",
    "\n",
    "def std_input(some_input, means,stds):\n",
    "    \n",
    "    return (some_input - means)/stds\n",
    "\n",
    "# split TRAIN in 10 parti egale pentru crossvalidare - avantajul folosirii functiei\n",
    "kf10 = KFold(n_splits = 10)\n",
    "target = 'price'\n",
    "RMSEs = []\n",
    "for train_index,validate_index in kf.split(cars_lr):\n",
    "\n",
    "    X_train = df[predictors].iloc[train_index]\n",
    "    X_test = df[predictors].iloc[test_index]\n",
    "    \n",
    "    train_means  = np.mean(X_train)\n",
    "    train_stdvs = np.std(X_train)\n",
    "    \n",
    "    y_train = df[[target]].iloc[train_index]\n",
    "    y_test = df[[target]].iloc[test_index]\n",
    "\n",
    "    #print('training')\n",
    "    # train on X_temp\n",
    "    trained_model = reg.fit(std_input(X_train, train_means,train_stdvs).values, y_train.values)\n",
    "    pred=trained_model.predict(std_input(X_test,train_means,train_stdvs).values)\n",
    "\n",
    "    print('complex_model 1')\n",
    "    mean_squared_error=metrics.mean_squared_error(y_test,pred)\n",
    "    print('mean squared error(MSE)', round(np.sqrt(mean_squared_error),2))\n",
    "    print('R squared training',round(reg.score(X_train,y_train),3))\n",
    "    print('R squared test', round(reg.score(X_test,y_test),3))\n",
    "    print('Intercept: ', reg.intercept_)\n",
    "    print('Coefficient:', reg.coef_)\n",
    "    RMSEs.append(round(reg.score(X_test,y_test),3))\n",
    "\n",
    "print( 'Average RMSE: ', np.mean(RMSEs))"
   ]
  },
  {
   "cell_type": "markdown",
   "metadata": {},
   "source": [
    "# Regularizare\n",
    "\n",
    "### Regresie Ridge"
   ]
  },
  {
   "cell_type": "code",
   "execution_count": 89,
   "metadata": {},
   "outputs": [
    {
     "data": {
      "text/plain": [
       "Text(0, 0.5, 'weights')"
      ]
     },
     "execution_count": 89,
     "metadata": {},
     "output_type": "execute_result"
    },
    {
     "data": {
      "image/png": "[encoded data removed]",
      "text/plain": [
       "<Figure size 432x288 with 1 Axes>"
      ]
     },
     "metadata": {
      "needs_background": "light"
     },
     "output_type": "display_data"
    }
   ],
   "source": [
    "%matplotlib inline\n",
    "\n",
    "import pandas as pd\n",
    "import numpy as np\n",
    "import matplotlib.pyplot as plt\n",
    "\n",
    "from sklearn.preprocessing import scale \n",
    "from sklearn.model_selection import train_test_split\n",
    "from sklearn.linear_model import Ridge, RidgeCV, Lasso, LassoCV\n",
    "from sklearn.metrics import mean_squared_error\n",
    "\n",
    "lasso = Lasso(max_iter = 100000, normalize = True)\n",
    "coefs = []\n",
    "#df = pd.concat([cars_lr,y])\n",
    "df = cars_lr.dropna(how = 'any')\n",
    "\n",
    "y = df.pop('price').to_frame()\n",
    "X = df\n",
    "X_train, X_test, y_train, y_test = train_test_split(\n",
    "        X, y, test_size=0.2)\n",
    "\n",
    "train_means  = np.mean(X_train)\n",
    "train_stdvs = np.std(X_train)\n",
    "\n",
    "train_means  = np.mean(X_train)\n",
    "train_stdvs = np.std(X_train)\n",
    "\n",
    "alphas = 10**np.linspace(10,-2,100)*0.5\n",
    "\n",
    "# first the base model\n",
    "for a in alphas:\n",
    "    lasso.set_params(alpha=a)\n",
    "    lasso.fit(std_input(X_train, train_means,train_stdvs), y_train)\n",
    "    coefs.append(lasso.coef_)\n",
    "    \n",
    "ax = plt.gca()\n",
    "ax.plot(alphas*2, coefs)\n",
    "ax.set_xscale('log')\n",
    "plt.axis('tight')\n",
    "plt.xlabel('alpha')\n",
    "plt.ylabel('weights')"
   ]
  },
  {
   "cell_type": "markdown",
   "metadata": {},
   "source": [
    "## Regresie LASSO \n",
    "\n",
    "(<b>L</b>east <b>A</b>bsolute <b>S</b>hrinkage and <b>S</b>election <b>O</b>perator)"
   ]
  },
  {
   "cell_type": "code",
   "execution_count": 90,
   "metadata": {},
   "outputs": [
    {
     "data": {
      "text/plain": [
       "price    13658.664122\n",
       "dtype: float64"
      ]
     },
     "execution_count": 90,
     "metadata": {},
     "output_type": "execute_result"
    }
   ],
   "source": [
    "y_train.mean()"
   ]
  },
  {
   "cell_type": "code",
   "execution_count": 91,
   "metadata": {},
   "outputs": [
    {
     "name": "stdout",
     "output_type": "stream",
     "text": [
      "Goodness of fit error -null model: price    6.513922e+07\n",
      "dtype: float64\n",
      "Test error -null model: price    3.874011e+07\n",
      "dtype: float64\n",
      "Magnitude comparison  price    0.405272\n",
      "dtype: float64\n"
     ]
    }
   ],
   "source": [
    "basemodel = y_train.mean()\n",
    "lasso.fit(std_input(X_train, train_means,train_stdvs), y_train)\n",
    "base_model_error_train = ((y_train-basemodel)**2).sum()/X_train.shape[0]\n",
    "\n",
    "print(\"Goodness of fit error -null model:\", base_model_error_train)\n",
    "base_model_error_test = ((y_test-basemodel)**2).sum()/X_test.shape[0]\n",
    "print(\"Test error -null model:\", base_model_error_test)\n",
    "print('Magnitude comparison ', abs((base_model_error_train-base_model_error_test)/base_model_error_train))"
   ]
  },
  {
   "cell_type": "markdown",
   "metadata": {},
   "source": [
    "Observați că în graficul coeficienților, în funcție de alegerea parametrului de reglare, unii dintre coeficienți sunt exact egali cu zero. Acum efectuăm o validare încrucișată de 10 ori pentru a alege cel mai bun alfa, pentru a remonta modelul și pentru a calcula eroarea de test asociată:"
   ]
  },
  {
   "cell_type": "code",
   "execution_count": 92,
   "metadata": {},
   "outputs": [
    {
     "name": "stdout",
     "output_type": "stream",
     "text": [
      "Goodness of fit error -cv_alpha model: 3335281.5320283365\n",
      "Test error -cv_alpha model: 3833331.21313791\n",
      "Magnitude comparison  0.149327628365659\n"
     ]
    }
   ],
   "source": [
    "lassocv = LassoCV(alphas = None, cv = 10, max_iter = 100000, normalize = True)\n",
    "lassocv.fit(std_input(X_train, train_means,train_stdvs), y_train)\n",
    "\n",
    "lasso.set_params(alpha=lassocv.alpha_)\n",
    "lasso.fit(std_input(X_train, train_means,train_stdvs), y_train)\n",
    "cv_alpha_train_error = mean_squared_error(y_train, lasso.predict(std_input(X_train, train_means,train_stdvs)))\n",
    "\n",
    "print(\"Goodness of fit error -cv_alpha model:\", cv_alpha_train_error)\n",
    "cv_alpha_test_error = mean_squared_error(y_test, lasso.predict(std_input(X_test, train_means,train_stdvs)))\n",
    "\n",
    "print(\"Test error -cv_alpha model:\", cv_alpha_test_error)\n",
    "print('Magnitude comparison ', abs((cv_alpha_train_error-cv_alpha_test_error)/cv_alpha_train_error))"
   ]
  },
  {
   "cell_type": "code",
   "execution_count": 93,
   "metadata": {},
   "outputs": [
    {
     "name": "stdout",
     "output_type": "stream",
     "text": [
      "Percent error improvement (%diff in error from null model to best lasso model):  price    90.105006\n",
      "dtype: float64 %\n"
     ]
    }
   ],
   "source": [
    "decrease_in_error = abs((cv_alpha_test_error-base_model_error_test)/base_model_error_test)\n",
    "print('Percent error improvement (%diff in error from null model to best lasso model): ', 100*decrease_in_error,'%')"
   ]
  },
  {
   "cell_type": "code",
   "execution_count": 94,
   "metadata": {},
   "outputs": [
    {
     "name": "stdout",
     "output_type": "stream",
     "text": [
      "Feature coefficients: \n"
     ]
    },
    {
     "ename": "NameError",
     "evalue": "name 'dep_vars' is not defined",
     "output_type": "error",
     "traceback": [
      "\u001b[1;31m---------------------------------------------------------------------------\u001b[0m",
      "\u001b[1;31mNameError\u001b[0m                                 Traceback (most recent call last)",
      "\u001b[1;32m<ipython-input-94-f73962a3a0d5>\u001b[0m in \u001b[0;36m<module>\u001b[1;34m\u001b[0m\n\u001b[0;32m      2\u001b[0m \u001b[1;32mfor\u001b[0m \u001b[0mi\u001b[0m \u001b[1;32min\u001b[0m \u001b[0mrange\u001b[0m\u001b[1;33m(\u001b[0m\u001b[0mlen\u001b[0m\u001b[1;33m(\u001b[0m\u001b[0mlasso\u001b[0m\u001b[1;33m.\u001b[0m\u001b[0mcoef_\u001b[0m\u001b[1;33m)\u001b[0m\u001b[1;33m)\u001b[0m\u001b[1;33m:\u001b[0m\u001b[1;33m\u001b[0m\u001b[1;33m\u001b[0m\u001b[0m\n\u001b[0;32m      3\u001b[0m \u001b[1;33m\u001b[0m\u001b[0m\n\u001b[1;32m----> 4\u001b[1;33m     \u001b[0mprint\u001b[0m\u001b[1;33m(\u001b[0m \u001b[0mdep_vars\u001b[0m\u001b[1;33m[\u001b[0m\u001b[0mi\u001b[0m\u001b[1;33m]\u001b[0m\u001b[1;33m,\u001b[0m \u001b[1;34m' - '\u001b[0m\u001b[1;33m,\u001b[0m \u001b[0mlasso\u001b[0m\u001b[1;33m.\u001b[0m\u001b[0mcoef_\u001b[0m\u001b[1;33m[\u001b[0m\u001b[0mi\u001b[0m\u001b[1;33m]\u001b[0m\u001b[1;33m)\u001b[0m\u001b[1;33m\u001b[0m\u001b[1;33m\u001b[0m\u001b[0m\n\u001b[0m",
      "\u001b[1;31mNameError\u001b[0m: name 'dep_vars' is not defined"
     ]
    }
   ],
   "source": [
    "print('Feature coefficients: ')\n",
    "for i in range(len(lasso.coef_)):\n",
    "    \n",
    "    print( dep_vars[i], ' - ', lasso.coef_[i])"
   ]
  },
  {
   "cell_type": "markdown",
   "metadata": {},
   "source": [
    "### Reantrenare/remontare pe toate datele de antrenament"
   ]
  },
  {
   "cell_type": "code",
   "execution_count": 95,
   "metadata": {},
   "outputs": [
    {
     "name": "stdout",
     "output_type": "stream",
     "text": [
      "cv_alpha_error_full: 3439809.858394607\n"
     ]
    }
   ],
   "source": [
    "lasso.set_params(alpha=lassocv.alpha_)\n",
    "lasso.fit(std_input(X, np.mean(X),np.std(X)), y)\n",
    "cv_alpha_error_full = mean_squared_error(y, lasso.predict(std_input(X, np.mean(X),np.std(X))))\n",
    "print(\"cv_alpha_error_full:\", cv_alpha_error_full)"
   ]
  },
  {
   "cell_type": "code",
   "execution_count": 96,
   "metadata": {},
   "outputs": [
    {
     "name": "stdout",
     "output_type": "stream",
     "text": [
      "Full error -null model: price    5.963775e+07\n",
      "dtype: float64\n",
      "Full model percent error improvement (%diff in error from null model to best lasso model):  price   -94.232161\n",
      "dtype: float64 %\n"
     ]
    }
   ],
   "source": [
    "basemodel_full = y.mean()\n",
    "\n",
    "base_model_error_full = ((y-basemodel_full)**2).sum()/X.shape[0]\n",
    "\n",
    "\n",
    "print(\"Full error -null model:\", base_model_error_full)\n",
    "decrease_in_error = ((cv_alpha_error_full-base_model_error_full)/base_model_error_full)\n",
    "print('Full model percent error improvement (%diff in error from null model to best lasso model): ',\n",
    "      100*decrease_in_error,'%')"
   ]
  },
  {
   "cell_type": "code",
   "execution_count": 97,
   "metadata": {},
   "outputs": [
    {
     "name": "stdout",
     "output_type": "stream",
     "text": [
      "Lasso picked 23 variables and eliminated the other 6 variables\n"
     ]
    }
   ],
   "source": [
    "\n",
    "coef = pd.Series(lasso.coef_, index = X.columns)\n",
    "print(\"Lasso picked \" + str(sum(coef != 0)) + \" variables and eliminated the other \" +  str(sum(coef == 0)) + \" variables\")"
   ]
  },
  {
   "cell_type": "code",
   "execution_count": 98,
   "metadata": {},
   "outputs": [
    {
     "data": {
      "text/plain": [
       "Text(0.5, 1.0, 'Coefficient importance in the Lasso Model')"
      ]
     },
     "execution_count": 98,
     "metadata": {},
     "output_type": "execute_result"
    },
    {
     "data": {
      "image/png": "[encoded data removed]",
      "text/plain": [
       "<Figure size 576x720 with 1 Axes>"
      ]
     },
     "metadata": {
      "needs_background": "light"
     },
     "output_type": "display_data"
    }
   ],
   "source": [
    "import matplotlib\n",
    "# plotting feature importances!\n",
    "imp_coef = abs(coef).sort_values()\n",
    "\n",
    "# imp_coef = pd.concat([coef.sort_values().head(10),\n",
    "#                      coef.sort_values().tail(10)])\n",
    "\n",
    "matplotlib.rcParams['figure.figsize'] = (8.0, 10.0)\n",
    "imp_coef.plot(kind = \"barh\")\n",
    "plt.title(\"Coefficient importance in the Lasso Model\")"
   ]
  },
  {
   "cell_type": "markdown",
   "metadata": {},
   "source": [
    "# Exercitiu:\n",
    "    \n",
    "Determinati un model lasso regression pe setul de date boston housing. Listati cei mai importanti predictori precum si $R^2$ rezultat."
   ]
  },
  {
   "cell_type": "code",
   "execution_count": null,
   "metadata": {},
   "outputs": [],
   "source": []
  }
 ],
 "metadata": {
  "kernelspec": {
   "display_name": "Python 3",
   "language": "python",
   "name": "python3"
  },
  "language_info": {
   "codemirror_mode": {
    "name": "ipython",
    "version": 3
   },
   "file_extension": ".py",
   "mimetype": "text/x-python",
   "name": "python",
   "nbconvert_exporter": "python",
   "pygments_lexer": "ipython3",
   "version": "3.8.3"
  }
 },
 "nbformat": 4,
 "nbformat_minor": 4
}
