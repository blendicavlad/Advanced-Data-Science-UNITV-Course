{
 "cells": [
  {
   "cell_type": "markdown",
   "metadata": {},
   "source": [
    "# <img style=\"float: left; padding-right: 10px; width: 150px\" src=\"../../_UNITBV_ADS_2019/unitbv2.png\"> SIIPA2020- Știința Explorării și Exploatării Datelor - ADS1  \n",
    "\n",
    "\n",
    "\n",
    "\n",
    "\n",
    "\n",
    "## <center>Curs 7 - Regresie: exemple</center>\n",
    "**Universitatea Transilvania**<br>\n",
    "**Semestrul I, 2020-2021**<br>\n",
    "**Instructor:** Conf. univ. dr. Teodor &Scedil;tefan B&icirc;ldea<br>\n",
    "**Contact:** teodor.bildea@unitbv.ro<br>\n"
   ]
  },
  {
   "cell_type": "markdown",
   "metadata": {},
   "source": [
    "## Scop didactic\n",
    "\n",
    "La sfârșitul acestui laborator ați:\n",
    "* Recapitulat `numpy` includsivg vectori 2-D și cum se pot manipula\n",
    "* Folosit `scikit-learn` pentru a pregăti datele pentru antrenarea/testare unui model\n",
    "* Folosit `matplotlib, seaborn, plotly` să faceți grafice\n",
    "* Făcut câteva exemple și ați înțeles regresia liniară simplă modelată în `scikit-learn` \n",
    "* Făcut câteva exemple și ați înțeles kNN  - metoda celor mai apropiați $k$ vecini ($k$ nearest neighbors)"
   ]
  },
  {
   "cell_type": "markdown",
   "metadata": {},
   "source": [
    "### Array Slicing (recapitulare)"
   ]
  },
  {
   "cell_type": "markdown",
   "metadata": {},
   "source": [
    "Vectorii Numpy arrays pot fi feliați și parcurși prin bucle. Mai jos este o schemă care ilustrează felierea matricilor bidimensionale.\n",
    "\n",
    " <img src=\"images/2dindex_v2.png\" alt=\"Drawing\" style=\"width: 500px;\"/>\n",
    " \n",
    "\n",
    "Observați că sintaxa de feliere a listei funcționează în continuare!  \n",
    "`array[2:,3]` înseamnă \" din vector, ia de la linia 2 pâna a sfârșit, și coloana 3]\"  \n",
    "`array[3,:]` înseamnă \" din vector, ia linia 3  și toate coloanele]\"  "
   ]
  },
  {
   "cell_type": "markdown",
   "metadata": {},
   "source": [
    "<a class=\"anchor\" id=\"iloc\"></a>\n",
    "### Pandas Slicing (recapitulare)\n",
    "\n",
    "`.iloc` e pozițional (poziția e unică), `.loc` e pentru valori/etichete (care nu mai sunt neaparat unice)"
   ]
  },
  {
   "cell_type": "code",
   "execution_count": 36,
   "metadata": {},
   "outputs": [
    {
     "data": {
      "text/html": [
       "<div>\n",
       "<style scoped>\n",
       "    .dataframe tbody tr th:only-of-type {\n",
       "        vertical-align: middle;\n",
       "    }\n",
       "\n",
       "    .dataframe tbody tr th {\n",
       "        vertical-align: top;\n",
       "    }\n",
       "\n",
       "    .dataframe thead th {\n",
       "        text-align: right;\n",
       "    }\n",
       "</style>\n",
       "<table border=\"1\" class=\"dataframe\">\n",
       "  <thead>\n",
       "    <tr style=\"text-align: right;\">\n",
       "      <th></th>\n",
       "      <th>car_ID</th>\n",
       "      <th>symboling</th>\n",
       "      <th>CarName</th>\n",
       "      <th>fueltype</th>\n",
       "      <th>aspiration</th>\n",
       "      <th>doornumber</th>\n",
       "      <th>carbody</th>\n",
       "      <th>drivewheel</th>\n",
       "      <th>enginelocation</th>\n",
       "      <th>wheelbase</th>\n",
       "      <th>...</th>\n",
       "      <th>enginesize</th>\n",
       "      <th>fuelsystem</th>\n",
       "      <th>boreratio</th>\n",
       "      <th>stroke</th>\n",
       "      <th>compressionratio</th>\n",
       "      <th>horsepower</th>\n",
       "      <th>peakrpm</th>\n",
       "      <th>citympg</th>\n",
       "      <th>highwaympg</th>\n",
       "      <th>price</th>\n",
       "    </tr>\n",
       "  </thead>\n",
       "  <tbody>\n",
       "    <tr>\n",
       "      <th>0</th>\n",
       "      <td>1</td>\n",
       "      <td>3</td>\n",
       "      <td>alfa-romero giulia</td>\n",
       "      <td>gas</td>\n",
       "      <td>std</td>\n",
       "      <td>two</td>\n",
       "      <td>convertible</td>\n",
       "      <td>rwd</td>\n",
       "      <td>front</td>\n",
       "      <td>88.6</td>\n",
       "      <td>...</td>\n",
       "      <td>130</td>\n",
       "      <td>mpfi</td>\n",
       "      <td>3.47</td>\n",
       "      <td>2.68</td>\n",
       "      <td>9.0</td>\n",
       "      <td>111</td>\n",
       "      <td>5000</td>\n",
       "      <td>21</td>\n",
       "      <td>27</td>\n",
       "      <td>13495.0</td>\n",
       "    </tr>\n",
       "    <tr>\n",
       "      <th>1</th>\n",
       "      <td>2</td>\n",
       "      <td>3</td>\n",
       "      <td>alfa-romero stelvio</td>\n",
       "      <td>gas</td>\n",
       "      <td>std</td>\n",
       "      <td>two</td>\n",
       "      <td>convertible</td>\n",
       "      <td>rwd</td>\n",
       "      <td>front</td>\n",
       "      <td>88.6</td>\n",
       "      <td>...</td>\n",
       "      <td>130</td>\n",
       "      <td>mpfi</td>\n",
       "      <td>3.47</td>\n",
       "      <td>2.68</td>\n",
       "      <td>9.0</td>\n",
       "      <td>111</td>\n",
       "      <td>5000</td>\n",
       "      <td>21</td>\n",
       "      <td>27</td>\n",
       "      <td>16500.0</td>\n",
       "    </tr>\n",
       "    <tr>\n",
       "      <th>2</th>\n",
       "      <td>3</td>\n",
       "      <td>1</td>\n",
       "      <td>alfa-romero Quadrifoglio</td>\n",
       "      <td>gas</td>\n",
       "      <td>std</td>\n",
       "      <td>two</td>\n",
       "      <td>hatchback</td>\n",
       "      <td>rwd</td>\n",
       "      <td>front</td>\n",
       "      <td>94.5</td>\n",
       "      <td>...</td>\n",
       "      <td>152</td>\n",
       "      <td>mpfi</td>\n",
       "      <td>2.68</td>\n",
       "      <td>3.47</td>\n",
       "      <td>9.0</td>\n",
       "      <td>154</td>\n",
       "      <td>5000</td>\n",
       "      <td>19</td>\n",
       "      <td>26</td>\n",
       "      <td>16500.0</td>\n",
       "    </tr>\n",
       "    <tr>\n",
       "      <th>3</th>\n",
       "      <td>4</td>\n",
       "      <td>2</td>\n",
       "      <td>audi 100 ls</td>\n",
       "      <td>gas</td>\n",
       "      <td>std</td>\n",
       "      <td>four</td>\n",
       "      <td>sedan</td>\n",
       "      <td>fwd</td>\n",
       "      <td>front</td>\n",
       "      <td>99.8</td>\n",
       "      <td>...</td>\n",
       "      <td>109</td>\n",
       "      <td>mpfi</td>\n",
       "      <td>3.19</td>\n",
       "      <td>3.40</td>\n",
       "      <td>10.0</td>\n",
       "      <td>102</td>\n",
       "      <td>5500</td>\n",
       "      <td>24</td>\n",
       "      <td>30</td>\n",
       "      <td>13950.0</td>\n",
       "    </tr>\n",
       "    <tr>\n",
       "      <th>4</th>\n",
       "      <td>5</td>\n",
       "      <td>2</td>\n",
       "      <td>audi 100ls</td>\n",
       "      <td>gas</td>\n",
       "      <td>std</td>\n",
       "      <td>four</td>\n",
       "      <td>sedan</td>\n",
       "      <td>4wd</td>\n",
       "      <td>front</td>\n",
       "      <td>99.4</td>\n",
       "      <td>...</td>\n",
       "      <td>136</td>\n",
       "      <td>mpfi</td>\n",
       "      <td>3.19</td>\n",
       "      <td>3.40</td>\n",
       "      <td>8.0</td>\n",
       "      <td>115</td>\n",
       "      <td>5500</td>\n",
       "      <td>18</td>\n",
       "      <td>22</td>\n",
       "      <td>17450.0</td>\n",
       "    </tr>\n",
       "  </tbody>\n",
       "</table>\n",
       "<p>5 rows × 26 columns</p>\n",
       "</div>"
      ],
      "text/plain": [
       "   car_ID  symboling                   CarName fueltype aspiration doornumber  \\\n",
       "0       1          3        alfa-romero giulia      gas        std        two   \n",
       "1       2          3       alfa-romero stelvio      gas        std        two   \n",
       "2       3          1  alfa-romero Quadrifoglio      gas        std        two   \n",
       "3       4          2               audi 100 ls      gas        std       four   \n",
       "4       5          2                audi 100ls      gas        std       four   \n",
       "\n",
       "       carbody drivewheel enginelocation  wheelbase  ...  enginesize  \\\n",
       "0  convertible        rwd          front       88.6  ...         130   \n",
       "1  convertible        rwd          front       88.6  ...         130   \n",
       "2    hatchback        rwd          front       94.5  ...         152   \n",
       "3        sedan        fwd          front       99.8  ...         109   \n",
       "4        sedan        4wd          front       99.4  ...         136   \n",
       "\n",
       "   fuelsystem  boreratio  stroke compressionratio horsepower  peakrpm citympg  \\\n",
       "0        mpfi       3.47    2.68              9.0        111     5000      21   \n",
       "1        mpfi       3.47    2.68              9.0        111     5000      21   \n",
       "2        mpfi       2.68    3.47              9.0        154     5000      19   \n",
       "3        mpfi       3.19    3.40             10.0        102     5500      24   \n",
       "4        mpfi       3.19    3.40              8.0        115     5500      18   \n",
       "\n",
       "   highwaympg    price  \n",
       "0          27  13495.0  \n",
       "1          27  16500.0  \n",
       "2          26  16500.0  \n",
       "3          30  13950.0  \n",
       "4          22  17450.0  \n",
       "\n",
       "[5 rows x 26 columns]"
      ]
     },
     "execution_count": 36,
     "metadata": {},
     "output_type": "execute_result"
    }
   ],
   "source": [
    "# import cast dataframe \n",
    "df = pd.read_csv('CarPrice_Assignment.csv', encoding='utf_8')\n",
    "df.head()"
   ]
  },
  {
   "cell_type": "code",
   "execution_count": null,
   "metadata": {},
   "outputs": [],
   "source": [
    "# get me rows 10 to 13 (python slicing style : exclusive of end) \n",
    "df.iloc[10:13]"
   ]
  },
  {
   "cell_type": "code",
   "execution_count": null,
   "metadata": {},
   "outputs": [],
   "source": [
    "# get me columns 0 to 2 but all rows - use head()\n",
    "df.iloc[:, 0:2].head()"
   ]
  },
  {
   "cell_type": "code",
   "execution_count": null,
   "metadata": {},
   "outputs": [],
   "source": [
    "# get me rows 10 to 13 AND only columns 0 to 2\n",
    "df.iloc[10:13, 0:2]"
   ]
  },
  {
   "cell_type": "code",
   "execution_count": null,
   "metadata": {},
   "outputs": [],
   "source": [
    "# COMPARE: get me rows 10 to 13 (pandas slicing style : inclusive of end)\n",
    "df.loc[10:13]"
   ]
  },
  {
   "cell_type": "code",
   "execution_count": null,
   "metadata": {},
   "outputs": [],
   "source": [
    "# give me columns 'year' and 'type' by label but only for rows 5 to 10\n",
    "df.loc[5:10,['year','type']]"
   ]
  },
  {
   "cell_type": "markdown",
   "metadata": {},
   "source": [
    "#### Un alt exemplu de poziționare cu `.iloc` and `loc`\n",
    "\n",
    "Uită-te la următorul dataframe. Este un exemplu prost, deoarece avem valori duplicat pentru index, dar acest lucru este legal în panda. Este doar o practică proastă și o facem pentru a ilustra diferența dintre poziționarea cu `.iloc` și `loc`. \n",
    "Pentru a menține rândurile unice, totuși, pe plan intern, `pandas`are propriul său index pentru dataframe cu valori de la `0` la `2`."
   ]
  },
  {
   "cell_type": "code",
   "execution_count": 37,
   "metadata": {},
   "outputs": [
    {
     "data": {
      "text/html": [
       "<div>\n",
       "<style scoped>\n",
       "    .dataframe tbody tr th:only-of-type {\n",
       "        vertical-align: middle;\n",
       "    }\n",
       "\n",
       "    .dataframe tbody tr th {\n",
       "        vertical-align: top;\n",
       "    }\n",
       "\n",
       "    .dataframe thead th {\n",
       "        text-align: right;\n",
       "    }\n",
       "</style>\n",
       "<table border=\"1\" class=\"dataframe\">\n",
       "  <thead>\n",
       "    <tr style=\"text-align: right;\">\n",
       "      <th></th>\n",
       "      <th>Elton</th>\n",
       "      <th>Maraie</th>\n",
       "      <th>num</th>\n",
       "    </tr>\n",
       "  </thead>\n",
       "  <tbody>\n",
       "    <tr>\n",
       "      <th>A</th>\n",
       "      <td>singer</td>\n",
       "      <td>actress</td>\n",
       "      <td>0.152557</td>\n",
       "    </tr>\n",
       "    <tr>\n",
       "      <th>Z</th>\n",
       "      <td>Candle in the wind</td>\n",
       "      <td>Do not know</td>\n",
       "      <td>0.628541</td>\n",
       "    </tr>\n",
       "    <tr>\n",
       "      <th>A</th>\n",
       "      <td>male</td>\n",
       "      <td>female</td>\n",
       "      <td>-0.828903</td>\n",
       "    </tr>\n",
       "  </tbody>\n",
       "</table>\n",
       "</div>"
      ],
      "text/plain": [
       "                Elton       Maraie       num\n",
       "A              singer      actress  0.152557\n",
       "Z  Candle in the wind  Do not know  0.628541\n",
       "A                male       female -0.828903"
      ]
     },
     "execution_count": 37,
     "metadata": {},
     "output_type": "execute_result"
    }
   ],
   "source": [
    "index = ['A', 'Z', 'A']\n",
    "famous = pd.DataFrame({'Elton': ['singer', 'Candle in the wind', 'male'],\n",
    "                  'Maraie': ['actress' , 'Do not know', 'female'],\n",
    "                  'num': np.random.randn(3)}, index=index)\n",
    "famous"
   ]
  },
  {
   "cell_type": "code",
   "execution_count": null,
   "metadata": {},
   "outputs": [],
   "source": [
    "# accesarea elementelor prin etichetă poate aduce duplicate!!\n",
    "famous.loc['A']  # deoarece vrem toate rândurile asta e la fel ca famous.loc['A',:]"
   ]
  },
  {
   "cell_type": "code",
   "execution_count": null,
   "metadata": {},
   "outputs": [],
   "source": [
    "# accesarea elementelor în funcție de poziție este unică - afișează doar un rând\n",
    "famous.iloc[1]"
   ]
  },
  {
   "cell_type": "markdown",
   "metadata": {},
   "source": [
    "## Aplicații regresie liniară simplă și multiplă\n",
    "\n",
    "### 1. Regresie liniară simplă\n",
    "\n"
   ]
  },
  {
   "cell_type": "markdown",
   "metadata": {},
   "source": [
    "##### 1.1 Pachetul `sklearn` și pregătirea datelor\n",
    "\n"
   ]
  },
  {
   "cell_type": "markdown",
   "metadata": {},
   "source": [
    "Înainte de a lucra cu o problemă „reală”, să discutăm mai multe detalii despre `sklearn`.\n",
    "\n",
    "`Scikit-learning` este principala bibliotecă de machine-learning din Python. Este formată din multe programe de învățare\n",
    "care pot învăța modele din date, precum și o mulțime de funcții utilitare, cum ar fi `train_test_split ()`.\n",
    "\n",
    "Utilizați următoarea linie de cod pentru a adăuga pachetul în codul dvs.:\n",
    "\n",
    "import sklearn\n",
    "\n",
    "În `scikit-learning`, un <b>estimator</b> este un obiect Python care implementează metodele` fit (X, y) `și` predict (T) `\n",
    "\n",
    "Haideți să vedem structura „scikit-learning” necesară pentru a 'potrivi' un model. `fit ()` are întotdeauna două argumente:\n",
    "`estimator.fit (Xtrain, ytrain)`\n",
    "Vom lua în considerare doi estimatori în acest laborator: `LinearRegression` și` KNeighborsRegressor`.\n",
    "\n",
    "Este foarte important să înțelegem că `Xtrain` trebuie să fie sub forma unui dataframe cu fiecare rând corespunzător unui eșantion și fiecare coloană corespunzătoare valorilor caracteristice pentru acel eșantion.\n",
    "\n",
    "pe de altă parte, `ytrain` este o serie simplă de răspunsuri. Acestea sunt continue pentru problemele de regresie."
   ]
  },
  {
   "cell_type": "markdown",
   "metadata": {},
   "source": [
    "![](../../2019-CS109A/content/labs/lab03/images/featurematrix.png)\n",
    "\n",
    "<!--![](../../2019-CS109A/content/labs/lab03/images/sklearn2.jpg)-->"
   ]
  },
  {
   "cell_type": "code",
   "execution_count": 1,
   "metadata": {},
   "outputs": [],
   "source": [
    "import numpy as np\n",
    "import sklearn"
   ]
  },
  {
   "cell_type": "code",
   "execution_count": 2,
   "metadata": {},
   "outputs": [
    {
     "data": {
      "text/html": [
       "<div>\n",
       "<style scoped>\n",
       "    .dataframe tbody tr th:only-of-type {\n",
       "        vertical-align: middle;\n",
       "    }\n",
       "\n",
       "    .dataframe tbody tr th {\n",
       "        vertical-align: top;\n",
       "    }\n",
       "\n",
       "    .dataframe thead th {\n",
       "        text-align: right;\n",
       "    }\n",
       "</style>\n",
       "<table border=\"1\" class=\"dataframe\">\n",
       "  <thead>\n",
       "    <tr style=\"text-align: right;\">\n",
       "      <th></th>\n",
       "      <th>car_ID</th>\n",
       "      <th>symboling</th>\n",
       "      <th>CarName</th>\n",
       "      <th>fueltype</th>\n",
       "      <th>aspiration</th>\n",
       "      <th>doornumber</th>\n",
       "      <th>carbody</th>\n",
       "      <th>drivewheel</th>\n",
       "      <th>enginelocation</th>\n",
       "      <th>wheelbase</th>\n",
       "      <th>...</th>\n",
       "      <th>enginesize</th>\n",
       "      <th>fuelsystem</th>\n",
       "      <th>boreratio</th>\n",
       "      <th>stroke</th>\n",
       "      <th>compressionratio</th>\n",
       "      <th>horsepower</th>\n",
       "      <th>peakrpm</th>\n",
       "      <th>citympg</th>\n",
       "      <th>highwaympg</th>\n",
       "      <th>price</th>\n",
       "    </tr>\n",
       "  </thead>\n",
       "  <tbody>\n",
       "    <tr>\n",
       "      <th>0</th>\n",
       "      <td>1</td>\n",
       "      <td>3</td>\n",
       "      <td>alfa-romero giulia</td>\n",
       "      <td>gas</td>\n",
       "      <td>std</td>\n",
       "      <td>two</td>\n",
       "      <td>convertible</td>\n",
       "      <td>rwd</td>\n",
       "      <td>front</td>\n",
       "      <td>88.6</td>\n",
       "      <td>...</td>\n",
       "      <td>130</td>\n",
       "      <td>mpfi</td>\n",
       "      <td>3.47</td>\n",
       "      <td>2.68</td>\n",
       "      <td>9.0</td>\n",
       "      <td>111</td>\n",
       "      <td>5000</td>\n",
       "      <td>21</td>\n",
       "      <td>27</td>\n",
       "      <td>13495.0</td>\n",
       "    </tr>\n",
       "    <tr>\n",
       "      <th>1</th>\n",
       "      <td>2</td>\n",
       "      <td>3</td>\n",
       "      <td>alfa-romero stelvio</td>\n",
       "      <td>gas</td>\n",
       "      <td>std</td>\n",
       "      <td>two</td>\n",
       "      <td>convertible</td>\n",
       "      <td>rwd</td>\n",
       "      <td>front</td>\n",
       "      <td>88.6</td>\n",
       "      <td>...</td>\n",
       "      <td>130</td>\n",
       "      <td>mpfi</td>\n",
       "      <td>3.47</td>\n",
       "      <td>2.68</td>\n",
       "      <td>9.0</td>\n",
       "      <td>111</td>\n",
       "      <td>5000</td>\n",
       "      <td>21</td>\n",
       "      <td>27</td>\n",
       "      <td>16500.0</td>\n",
       "    </tr>\n",
       "    <tr>\n",
       "      <th>2</th>\n",
       "      <td>3</td>\n",
       "      <td>1</td>\n",
       "      <td>alfa-romero Quadrifoglio</td>\n",
       "      <td>gas</td>\n",
       "      <td>std</td>\n",
       "      <td>two</td>\n",
       "      <td>hatchback</td>\n",
       "      <td>rwd</td>\n",
       "      <td>front</td>\n",
       "      <td>94.5</td>\n",
       "      <td>...</td>\n",
       "      <td>152</td>\n",
       "      <td>mpfi</td>\n",
       "      <td>2.68</td>\n",
       "      <td>3.47</td>\n",
       "      <td>9.0</td>\n",
       "      <td>154</td>\n",
       "      <td>5000</td>\n",
       "      <td>19</td>\n",
       "      <td>26</td>\n",
       "      <td>16500.0</td>\n",
       "    </tr>\n",
       "    <tr>\n",
       "      <th>3</th>\n",
       "      <td>4</td>\n",
       "      <td>2</td>\n",
       "      <td>audi 100 ls</td>\n",
       "      <td>gas</td>\n",
       "      <td>std</td>\n",
       "      <td>four</td>\n",
       "      <td>sedan</td>\n",
       "      <td>fwd</td>\n",
       "      <td>front</td>\n",
       "      <td>99.8</td>\n",
       "      <td>...</td>\n",
       "      <td>109</td>\n",
       "      <td>mpfi</td>\n",
       "      <td>3.19</td>\n",
       "      <td>3.40</td>\n",
       "      <td>10.0</td>\n",
       "      <td>102</td>\n",
       "      <td>5500</td>\n",
       "      <td>24</td>\n",
       "      <td>30</td>\n",
       "      <td>13950.0</td>\n",
       "    </tr>\n",
       "    <tr>\n",
       "      <th>4</th>\n",
       "      <td>5</td>\n",
       "      <td>2</td>\n",
       "      <td>audi 100ls</td>\n",
       "      <td>gas</td>\n",
       "      <td>std</td>\n",
       "      <td>four</td>\n",
       "      <td>sedan</td>\n",
       "      <td>4wd</td>\n",
       "      <td>front</td>\n",
       "      <td>99.4</td>\n",
       "      <td>...</td>\n",
       "      <td>136</td>\n",
       "      <td>mpfi</td>\n",
       "      <td>3.19</td>\n",
       "      <td>3.40</td>\n",
       "      <td>8.0</td>\n",
       "      <td>115</td>\n",
       "      <td>5500</td>\n",
       "      <td>18</td>\n",
       "      <td>22</td>\n",
       "      <td>17450.0</td>\n",
       "    </tr>\n",
       "  </tbody>\n",
       "</table>\n",
       "<p>5 rows × 26 columns</p>\n",
       "</div>"
      ],
      "text/plain": [
       "   car_ID  symboling                   CarName fueltype aspiration doornumber  \\\n",
       "0       1          3        alfa-romero giulia      gas        std        two   \n",
       "1       2          3       alfa-romero stelvio      gas        std        two   \n",
       "2       3          1  alfa-romero Quadrifoglio      gas        std        two   \n",
       "3       4          2               audi 100 ls      gas        std       four   \n",
       "4       5          2                audi 100ls      gas        std       four   \n",
       "\n",
       "       carbody drivewheel enginelocation  wheelbase  ...  enginesize  \\\n",
       "0  convertible        rwd          front       88.6  ...         130   \n",
       "1  convertible        rwd          front       88.6  ...         130   \n",
       "2    hatchback        rwd          front       94.5  ...         152   \n",
       "3        sedan        fwd          front       99.8  ...         109   \n",
       "4        sedan        4wd          front       99.4  ...         136   \n",
       "\n",
       "   fuelsystem  boreratio  stroke compressionratio horsepower  peakrpm citympg  \\\n",
       "0        mpfi       3.47    2.68              9.0        111     5000      21   \n",
       "1        mpfi       3.47    2.68              9.0        111     5000      21   \n",
       "2        mpfi       2.68    3.47              9.0        154     5000      19   \n",
       "3        mpfi       3.19    3.40             10.0        102     5500      24   \n",
       "4        mpfi       3.19    3.40              8.0        115     5500      18   \n",
       "\n",
       "   highwaympg    price  \n",
       "0          27  13495.0  \n",
       "1          27  16500.0  \n",
       "2          26  16500.0  \n",
       "3          30  13950.0  \n",
       "4          22  17450.0  \n",
       "\n",
       "[5 rows x 26 columns]"
      ]
     },
     "execution_count": 2,
     "metadata": {},
     "output_type": "execute_result"
    }
   ],
   "source": [
    "import pandas as pd\n",
    "\n",
    "#încărcăm setul de date cu prețuriimobiliare\n",
    "df_sample = pd.read_csv(\"CarPrice_Assignment.csv\")\n",
    "df_sample.head()"
   ]
  },
  {
   "cell_type": "markdown",
   "metadata": {},
   "source": [
    "Împărțim setul de date în train/test.\n",
    "\n",
    "Vom folosi o alegere aleatorie, dar odată aleasă - fixată  prin specificarea parametrului random_state.\n",
    "\n",
    "Specificarea acestui parametru face posibilă verificarea și reproducerea ulterioară."
   ]
  },
  {
   "cell_type": "code",
   "execution_count": 3,
   "metadata": {},
   "outputs": [
    {
     "data": {
      "text/plain": [
       "array(['alfa-romero', 'audi', 'bmw', 'chevrolet', 'dodge', 'honda',\n",
       "       'isuzu', 'jaguar', 'maxda', 'mazda', 'buick', 'mercury',\n",
       "       'mitsubishi', 'Nissan', 'nissan', 'peugeot', 'plymouth', 'porsche',\n",
       "       'porcshce', 'renault', 'saab', 'subaru', 'toyota', 'toyouta',\n",
       "       'vokswagen', 'volkswagen', 'vw', 'volvo'], dtype=object)"
      ]
     },
     "execution_count": 3,
     "metadata": {},
     "output_type": "execute_result"
    }
   ],
   "source": [
    "#Extragem numele brandului din numele companiei\n",
    "CompanyName = df_sample['CarName'].apply(lambda x : x.split(' ')[0])\n",
    "df_sample.insert(3,\"CompanyName\",CompanyName)\n",
    "df_sample.drop(['CarName'],axis=1,inplace=True)\n",
    "df_sample.head()\n",
    "df_sample.CompanyName.unique()"
   ]
  },
  {
   "cell_type": "markdown",
   "metadata": {},
   "source": [
    "Corectăm micile greșeli:"
   ]
  },
  {
   "cell_type": "code",
   "execution_count": 4,
   "metadata": {},
   "outputs": [
    {
     "data": {
      "text/plain": [
       "array(['alfa-romero', 'audi', 'bmw', 'chevrolet', 'dodge', 'honda',\n",
       "       'isuzu', 'jaguar', 'mazda', 'buick', 'mercury', 'mitsubishi',\n",
       "       'nissan', 'peugeot', 'plymouth', 'porsche', 'renault', 'saab',\n",
       "       'subaru', 'toyota', 'volkswagen', 'volvo'], dtype=object)"
      ]
     },
     "execution_count": 4,
     "metadata": {},
     "output_type": "execute_result"
    }
   ],
   "source": [
    "df_sample.CompanyName = df_sample.CompanyName.str.lower()\n",
    "\n",
    "def replace_name(a,b):\n",
    "    df_sample.CompanyName.replace(a,b,inplace=True)\n",
    "\n",
    "replace_name('maxda','mazda')\n",
    "replace_name('porcshce','porsche')\n",
    "replace_name('toyouta','toyota')\n",
    "replace_name('vokswagen','volkswagen')\n",
    "replace_name('vw','volkswagen')\n",
    "replace_name('vw','volkswagen')\n",
    "replace_name('alfa-romero','alfa-romeo')"
   ]
  },
  {
   "cell_type": "markdown",
   "metadata": {},
   "source": [
    "Consum"
   ]
  },
  {
   "cell_type": "code",
   "execution_count": 5,
   "metadata": {},
   "outputs": [],
   "source": [
    "#Consum\n",
    "\n",
    "df_sample['fueleconomy'] = (0.55 * df_sample['citympg']) + (0.45 * df_sample['highwaympg'])"
   ]
  },
  {
   "cell_type": "markdown",
   "metadata": {},
   "source": [
    "Grupăm brandurile în baza prețurilor medii observate"
   ]
  },
  {
   "cell_type": "code",
   "execution_count": 6,
   "metadata": {},
   "outputs": [
    {
     "data": {
      "text/html": [
       "<div>\n",
       "<style scoped>\n",
       "    .dataframe tbody tr th:only-of-type {\n",
       "        vertical-align: middle;\n",
       "    }\n",
       "\n",
       "    .dataframe tbody tr th {\n",
       "        vertical-align: top;\n",
       "    }\n",
       "\n",
       "    .dataframe thead th {\n",
       "        text-align: right;\n",
       "    }\n",
       "</style>\n",
       "<table border=\"1\" class=\"dataframe\">\n",
       "  <thead>\n",
       "    <tr style=\"text-align: right;\">\n",
       "      <th></th>\n",
       "      <th>car_ID</th>\n",
       "      <th>symboling</th>\n",
       "      <th>CompanyName</th>\n",
       "      <th>fueltype</th>\n",
       "      <th>aspiration</th>\n",
       "      <th>doornumber</th>\n",
       "      <th>carbody</th>\n",
       "      <th>drivewheel</th>\n",
       "      <th>enginelocation</th>\n",
       "      <th>wheelbase</th>\n",
       "      <th>...</th>\n",
       "      <th>boreratio</th>\n",
       "      <th>stroke</th>\n",
       "      <th>compressionratio</th>\n",
       "      <th>horsepower</th>\n",
       "      <th>peakrpm</th>\n",
       "      <th>citympg</th>\n",
       "      <th>highwaympg</th>\n",
       "      <th>price</th>\n",
       "      <th>fueleconomy</th>\n",
       "      <th>carsrange</th>\n",
       "    </tr>\n",
       "  </thead>\n",
       "  <tbody>\n",
       "    <tr>\n",
       "      <th>0</th>\n",
       "      <td>1</td>\n",
       "      <td>3</td>\n",
       "      <td>alfa-romero</td>\n",
       "      <td>gas</td>\n",
       "      <td>std</td>\n",
       "      <td>two</td>\n",
       "      <td>convertible</td>\n",
       "      <td>rwd</td>\n",
       "      <td>front</td>\n",
       "      <td>88.6</td>\n",
       "      <td>...</td>\n",
       "      <td>3.47</td>\n",
       "      <td>2.68</td>\n",
       "      <td>9.0</td>\n",
       "      <td>111</td>\n",
       "      <td>5000</td>\n",
       "      <td>21</td>\n",
       "      <td>27</td>\n",
       "      <td>13495</td>\n",
       "      <td>23.70</td>\n",
       "      <td>Medium</td>\n",
       "    </tr>\n",
       "    <tr>\n",
       "      <th>1</th>\n",
       "      <td>2</td>\n",
       "      <td>3</td>\n",
       "      <td>alfa-romero</td>\n",
       "      <td>gas</td>\n",
       "      <td>std</td>\n",
       "      <td>two</td>\n",
       "      <td>convertible</td>\n",
       "      <td>rwd</td>\n",
       "      <td>front</td>\n",
       "      <td>88.6</td>\n",
       "      <td>...</td>\n",
       "      <td>3.47</td>\n",
       "      <td>2.68</td>\n",
       "      <td>9.0</td>\n",
       "      <td>111</td>\n",
       "      <td>5000</td>\n",
       "      <td>21</td>\n",
       "      <td>27</td>\n",
       "      <td>16500</td>\n",
       "      <td>23.70</td>\n",
       "      <td>Medium</td>\n",
       "    </tr>\n",
       "    <tr>\n",
       "      <th>2</th>\n",
       "      <td>3</td>\n",
       "      <td>1</td>\n",
       "      <td>alfa-romero</td>\n",
       "      <td>gas</td>\n",
       "      <td>std</td>\n",
       "      <td>two</td>\n",
       "      <td>hatchback</td>\n",
       "      <td>rwd</td>\n",
       "      <td>front</td>\n",
       "      <td>94.5</td>\n",
       "      <td>...</td>\n",
       "      <td>2.68</td>\n",
       "      <td>3.47</td>\n",
       "      <td>9.0</td>\n",
       "      <td>154</td>\n",
       "      <td>5000</td>\n",
       "      <td>19</td>\n",
       "      <td>26</td>\n",
       "      <td>16500</td>\n",
       "      <td>22.15</td>\n",
       "      <td>Medium</td>\n",
       "    </tr>\n",
       "    <tr>\n",
       "      <th>3</th>\n",
       "      <td>4</td>\n",
       "      <td>2</td>\n",
       "      <td>audi</td>\n",
       "      <td>gas</td>\n",
       "      <td>std</td>\n",
       "      <td>four</td>\n",
       "      <td>sedan</td>\n",
       "      <td>fwd</td>\n",
       "      <td>front</td>\n",
       "      <td>99.8</td>\n",
       "      <td>...</td>\n",
       "      <td>3.19</td>\n",
       "      <td>3.40</td>\n",
       "      <td>10.0</td>\n",
       "      <td>102</td>\n",
       "      <td>5500</td>\n",
       "      <td>24</td>\n",
       "      <td>30</td>\n",
       "      <td>13950</td>\n",
       "      <td>26.70</td>\n",
       "      <td>Medium</td>\n",
       "    </tr>\n",
       "    <tr>\n",
       "      <th>4</th>\n",
       "      <td>5</td>\n",
       "      <td>2</td>\n",
       "      <td>audi</td>\n",
       "      <td>gas</td>\n",
       "      <td>std</td>\n",
       "      <td>four</td>\n",
       "      <td>sedan</td>\n",
       "      <td>4wd</td>\n",
       "      <td>front</td>\n",
       "      <td>99.4</td>\n",
       "      <td>...</td>\n",
       "      <td>3.19</td>\n",
       "      <td>3.40</td>\n",
       "      <td>8.0</td>\n",
       "      <td>115</td>\n",
       "      <td>5500</td>\n",
       "      <td>18</td>\n",
       "      <td>22</td>\n",
       "      <td>17450</td>\n",
       "      <td>19.80</td>\n",
       "      <td>Medium</td>\n",
       "    </tr>\n",
       "  </tbody>\n",
       "</table>\n",
       "<p>5 rows × 28 columns</p>\n",
       "</div>"
      ],
      "text/plain": [
       "   car_ID  symboling  CompanyName fueltype aspiration doornumber      carbody  \\\n",
       "0       1          3  alfa-romero      gas        std        two  convertible   \n",
       "1       2          3  alfa-romero      gas        std        two  convertible   \n",
       "2       3          1  alfa-romero      gas        std        two    hatchback   \n",
       "3       4          2         audi      gas        std       four        sedan   \n",
       "4       5          2         audi      gas        std       four        sedan   \n",
       "\n",
       "  drivewheel enginelocation  wheelbase  ...  boreratio  stroke  \\\n",
       "0        rwd          front       88.6  ...       3.47    2.68   \n",
       "1        rwd          front       88.6  ...       3.47    2.68   \n",
       "2        rwd          front       94.5  ...       2.68    3.47   \n",
       "3        fwd          front       99.8  ...       3.19    3.40   \n",
       "4        4wd          front       99.4  ...       3.19    3.40   \n",
       "\n",
       "   compressionratio  horsepower peakrpm citympg  highwaympg  price  \\\n",
       "0               9.0         111    5000      21          27  13495   \n",
       "1               9.0         111    5000      21          27  16500   \n",
       "2               9.0         154    5000      19          26  16500   \n",
       "3              10.0         102    5500      24          30  13950   \n",
       "4               8.0         115    5500      18          22  17450   \n",
       "\n",
       "   fueleconomy  carsrange  \n",
       "0        23.70     Medium  \n",
       "1        23.70     Medium  \n",
       "2        22.15     Medium  \n",
       "3        26.70     Medium  \n",
       "4        19.80     Medium  \n",
       "\n",
       "[5 rows x 28 columns]"
      ]
     },
     "execution_count": 6,
     "metadata": {},
     "output_type": "execute_result"
    }
   ],
   "source": [
    "#Grupăm brandurile în baza prețurilor medii observate.\n",
    "\n",
    "df_sample['price'] = df_sample['price'].astype('int')\n",
    "temp = df_sample.copy()\n",
    "table = temp.groupby(['CompanyName'])['price'].mean()\n",
    "temp = temp.merge(table.reset_index(), how='left',on='CompanyName')\n",
    "bins = [0,10000,20000,40000]\n",
    "cars_bin=['Budget','Medium','Highend']\n",
    "df_sample['carsrange'] = pd.cut(temp['price_y'],bins,right=False,labels=cars_bin)\n",
    "df_sample.head()"
   ]
  },
  {
   "cell_type": "code",
   "execution_count": 7,
   "metadata": {},
   "outputs": [
    {
     "data": {
      "text/html": [
       "<div>\n",
       "<style scoped>\n",
       "    .dataframe tbody tr th:only-of-type {\n",
       "        vertical-align: middle;\n",
       "    }\n",
       "\n",
       "    .dataframe tbody tr th {\n",
       "        vertical-align: top;\n",
       "    }\n",
       "\n",
       "    .dataframe thead th {\n",
       "        text-align: right;\n",
       "    }\n",
       "</style>\n",
       "<table border=\"1\" class=\"dataframe\">\n",
       "  <thead>\n",
       "    <tr style=\"text-align: right;\">\n",
       "      <th></th>\n",
       "      <th>max</th>\n",
       "      <th>min</th>\n",
       "    </tr>\n",
       "    <tr>\n",
       "      <th>carsrange</th>\n",
       "      <th></th>\n",
       "      <th></th>\n",
       "    </tr>\n",
       "  </thead>\n",
       "  <tbody>\n",
       "    <tr>\n",
       "      <th>Budget</th>\n",
       "      <td>17669</td>\n",
       "      <td>5118</td>\n",
       "    </tr>\n",
       "    <tr>\n",
       "      <th>Medium</th>\n",
       "      <td>23875</td>\n",
       "      <td>5195</td>\n",
       "    </tr>\n",
       "    <tr>\n",
       "      <th>Highend</th>\n",
       "      <td>45400</td>\n",
       "      <td>16430</td>\n",
       "    </tr>\n",
       "  </tbody>\n",
       "</table>\n",
       "</div>"
      ],
      "text/plain": [
       "             max    min\n",
       "carsrange              \n",
       "Budget     17669   5118\n",
       "Medium     23875   5195\n",
       "Highend    45400  16430"
      ]
     },
     "execution_count": 7,
     "metadata": {},
     "output_type": "execute_result"
    }
   ],
   "source": [
    "df_sample.groupby('carsrange')['price'].agg(['max','min'])"
   ]
  },
  {
   "cell_type": "markdown",
   "metadata": {},
   "source": [
    "Split în set de date de antrenament și test"
   ]
  },
  {
   "cell_type": "code",
   "execution_count": 8,
   "metadata": {},
   "outputs": [],
   "source": [
    "# split into training set and testing set\n",
    "from sklearn.model_selection import train_test_split\n",
    "\n",
    "#setare random_state pentru a putea replica spargerea - test 0.2 sau 20% \n",
    "traindf, testdf = train_test_split(df_sample, test_size=0.2, random_state=42)\n",
    " "
   ]
  },
  {
   "cell_type": "markdown",
   "metadata": {},
   "source": [
    "Setul de test este 20% din setul total de date; setun de antrenament (training set) - 80% din date."
   ]
  },
  {
   "cell_type": "code",
   "execution_count": 85,
   "metadata": {},
   "outputs": [
    {
     "name": "stdout",
     "output_type": "stream",
     "text": [
      "Structura setului initial: (205, 28)\n",
      "Structura training dataset is: (25, 12)\n",
      "Structura test dataset is: (7, 12)\n"
     ]
    }
   ],
   "source": [
    "\n",
    "print(\"Structura setului initial: {0}\".format(df_sample.shape))\n",
    "print(\"Structura training dataset is: {0}\".format(traindf.shape))\n",
    "print(\"Structura test dataset is: {0}\".format(testdf.shape))"
   ]
  },
  {
   "cell_type": "code",
   "execution_count": 10,
   "metadata": {},
   "outputs": [
    {
     "data": {
      "text/plain": [
       "car_ID                 int64\n",
       "symboling              int64\n",
       "CompanyName           object\n",
       "fueltype              object\n",
       "aspiration            object\n",
       "doornumber            object\n",
       "carbody               object\n",
       "drivewheel            object\n",
       "enginelocation        object\n",
       "wheelbase            float64\n",
       "carlength            float64\n",
       "carwidth             float64\n",
       "carheight            float64\n",
       "curbweight             int64\n",
       "enginetype            object\n",
       "cylindernumber        object\n",
       "enginesize             int64\n",
       "fuelsystem            object\n",
       "boreratio            float64\n",
       "stroke               float64\n",
       "compressionratio     float64\n",
       "horsepower             int64\n",
       "peakrpm                int64\n",
       "citympg                int64\n",
       "highwaympg             int64\n",
       "price                  int32\n",
       "fueleconomy          float64\n",
       "carsrange           category\n",
       "dtype: object"
      ]
     },
     "execution_count": 10,
     "metadata": {},
     "output_type": "execute_result"
    }
   ],
   "source": [
    "df_sample.dtypes"
   ]
  },
  {
   "cell_type": "code",
   "execution_count": 11,
   "metadata": {},
   "outputs": [],
   "source": [
    "y_train = np.array(traindf.price)\n",
    "X_train = np.array(traindf.horsepower )\n",
    "X_train = X_train.reshape(X_train.shape[0], 1)"
   ]
  },
  {
   "cell_type": "code",
   "execution_count": 12,
   "metadata": {},
   "outputs": [],
   "source": [
    "y_test = np.array(testdf.price)\n",
    "X_test = np.array(testdf.horsepower)\n",
    "X_test = X_test.reshape(X_test.shape[0], 1)"
   ]
  },
  {
   "cell_type": "markdown",
   "metadata": {},
   "source": [
    "Să revedem forma pentru datele inițiale, train si test:"
   ]
  },
  {
   "cell_type": "code",
   "execution_count": 13,
   "metadata": {},
   "outputs": [
    {
     "data": {
      "text/plain": [
       "(205, 28)"
      ]
     },
     "execution_count": 13,
     "metadata": {},
     "output_type": "execute_result"
    }
   ],
   "source": [
    "df_sample.shape"
   ]
  },
  {
   "cell_type": "code",
   "execution_count": 14,
   "metadata": {},
   "outputs": [
    {
     "data": {
      "text/plain": [
       "((164,), (164, 1))"
      ]
     },
     "execution_count": 14,
     "metadata": {},
     "output_type": "execute_result"
    }
   ],
   "source": [
    "y_train.shape, X_train.shape"
   ]
  },
  {
   "cell_type": "code",
   "execution_count": 15,
   "metadata": {},
   "outputs": [
    {
     "data": {
      "text/plain": [
       "((41,), (41, 1))"
      ]
     },
     "execution_count": 15,
     "metadata": {},
     "output_type": "execute_result"
    }
   ],
   "source": [
    "y_test.shape, X_test.shape"
   ]
  },
  {
   "cell_type": "code",
   "execution_count": 33,
   "metadata": {},
   "outputs": [
    {
     "data": {
      "application/vnd.jupyter.widget-view+json": {
       "model_id": "db399071258e408da52fcc8afdb1dbb6",
       "version_major": 2,
       "version_minor": 0
      },
      "text/plain": [
       "HBox(children=(FloatProgress(value=0.0, description='variables', max=29.0, style=ProgressStyle(description_wid…"
      ]
     },
     "metadata": {},
     "output_type": "display_data"
    },
    {
     "name": "stdout",
     "output_type": "stream",
     "text": [
      "\n"
     ]
    },
    {
     "data": {
      "application/vnd.jupyter.widget-view+json": {
       "model_id": "f7cba47beffa4f858282e44e959307bc",
       "version_major": 2,
       "version_minor": 0
      },
      "text/plain": [
       "HBox(children=(FloatProgress(value=0.0, description='correlations', max=6.0, style=ProgressStyle(description_w…"
      ]
     },
     "metadata": {},
     "output_type": "display_data"
    },
    {
     "name": "stdout",
     "output_type": "stream",
     "text": [
      "\n"
     ]
    },
    {
     "data": {
      "application/vnd.jupyter.widget-view+json": {
       "model_id": "f154845351fd4b5a8e68b6e42ddbda3f",
       "version_major": 2,
       "version_minor": 0
      },
      "text/plain": [
       "HBox(children=(FloatProgress(value=0.0, description='interactions [continuous]', max=324.0, style=ProgressStyl…"
      ]
     },
     "metadata": {},
     "output_type": "display_data"
    },
    {
     "name": "stdout",
     "output_type": "stream",
     "text": [
      "\n"
     ]
    },
    {
     "data": {
      "application/vnd.jupyter.widget-view+json": {
       "model_id": "4c45e8c881674cfeb51c0ac7f94cfeb8",
       "version_major": 2,
       "version_minor": 0
      },
      "text/plain": [
       "HBox(children=(FloatProgress(value=0.0, description='table', max=1.0, style=ProgressStyle(description_width='i…"
      ]
     },
     "metadata": {},
     "output_type": "display_data"
    },
    {
     "name": "stdout",
     "output_type": "stream",
     "text": [
      "\n"
     ]
    },
    {
     "data": {
      "application/vnd.jupyter.widget-view+json": {
       "model_id": "5686da6679c542e8aa760f77fc0e0d3c",
       "version_major": 2,
       "version_minor": 0
      },
      "text/plain": [
       "HBox(children=(FloatProgress(value=0.0, description='missing', max=2.0, style=ProgressStyle(description_width=…"
      ]
     },
     "metadata": {},
     "output_type": "display_data"
    },
    {
     "name": "stdout",
     "output_type": "stream",
     "text": [
      "\n"
     ]
    },
    {
     "data": {
      "application/vnd.jupyter.widget-view+json": {
       "model_id": "b4b6d6db2b0345e19d1e590aa254039d",
       "version_major": 2,
       "version_minor": 0
      },
      "text/plain": [
       "HBox(children=(FloatProgress(value=0.0, description='warnings', max=3.0, style=ProgressStyle(description_width…"
      ]
     },
     "metadata": {},
     "output_type": "display_data"
    },
    {
     "name": "stdout",
     "output_type": "stream",
     "text": [
      "\n"
     ]
    },
    {
     "data": {
      "application/vnd.jupyter.widget-view+json": {
       "model_id": "5d656121b06f40d1809b1b98528b9ae6",
       "version_major": 2,
       "version_minor": 0
      },
      "text/plain": [
       "HBox(children=(FloatProgress(value=0.0, description='package', max=1.0, style=ProgressStyle(description_width=…"
      ]
     },
     "metadata": {},
     "output_type": "display_data"
    },
    {
     "name": "stdout",
     "output_type": "stream",
     "text": [
      "\n"
     ]
    },
    {
     "data": {
      "application/vnd.jupyter.widget-view+json": {
       "model_id": "542602032b2d4fdf96950c2dc6349f11",
       "version_major": 2,
       "version_minor": 0
      },
      "text/plain": [
       "HBox(children=(FloatProgress(value=0.0, description='build report structure', max=1.0, style=ProgressStyle(des…"
      ]
     },
     "metadata": {},
     "output_type": "display_data"
    },
    {
     "name": "stdout",
     "output_type": "stream",
     "text": [
      "\n"
     ]
    }
   ],
   "source": [
    "import pandas_profiling as pp\n",
    "# forming ProfileReport and save \n",
    "# as output.html file \n",
    "profile = pp.ProfileReport(traindf) # evitati calculul corelatiilor pentru seturi mari\n",
    "profile.to_file(\"traindf.html\")"
   ]
  },
  {
   "cell_type": "markdown",
   "metadata": {},
   "source": [
    "##### 1.2 Antrenare model regresie\n",
    "\n"
   ]
  },
  {
   "cell_type": "code",
   "execution_count": 16,
   "metadata": {},
   "outputs": [],
   "source": [
    "from sklearn.linear_model import LinearRegression\n",
    "from sklearn.model_selection import train_test_split\n",
    "from sklearn.metrics import mean_squared_error"
   ]
  },
  {
   "cell_type": "code",
   "execution_count": 17,
   "metadata": {},
   "outputs": [
    {
     "name": "stdout",
     "output_type": "stream",
     "text": [
      "R^2 = 0.63261\n"
     ]
    }
   ],
   "source": [
    "#cream model linear\n",
    "regression = LinearRegression()\n",
    "\n",
    "#fit model\n",
    "regression.fit(X_train, y_train)\n",
    "\n",
    "#prognoza cu model\n",
    "predicted_y = regression.predict(X_test)\n",
    "\n",
    "#variatia explicata\n",
    "r2 = regression.score(X_test, y_test)\n",
    "print(f'R^2 = {r2:.5}')"
   ]
  },
  {
   "cell_type": "code",
   "execution_count": 18,
   "metadata": {},
   "outputs": [
    {
     "name": "stdout",
     "output_type": "stream",
     "text": [
      "0.657697534125993\n",
      "29003054.40181304\n",
      "20414149.847692315\n",
      "Coefficients: \n",
      " 156.16107557905218 -3126.846516877469\n"
     ]
    }
   ],
   "source": [
    "print(regression.score(X_train, y_train))\n",
    "\n",
    "print(mean_squared_error(predicted_y, y_test))\n",
    "print(mean_squared_error(y_train, regression.predict(X_train)))\n",
    "\n",
    "print('Coefficients: \\n', regression.coef_[0], regression.intercept_)"
   ]
  },
  {
   "cell_type": "code",
   "execution_count": 32,
   "metadata": {},
   "outputs": [
    {
     "data": {
      "application/vnd.plotly.v1+json": {
       "config": {
        "plotlyServerURL": "https://plot.ly"
       },
       "data": [
        {
         "mode": "markers",
         "name": "Valori reale",
         "type": "scatter",
         "x": [
          30760,
          17859,
          9549,
          11850,
          28248,
          7799,
          7788,
          9258,
          10198,
          7775,
          13295,
          8238,
          18280,
          9988,
          40960,
          6488,
          5151,
          12629,
          8189,
          9960,
          8495,
          13499,
          8249,
          6479,
          6692,
          41315,
          9639,
          13415,
          7999,
          12940,
          25552,
          6229,
          7898,
          21485,
          7689,
          28176,
          11259,
          10945,
          8916,
          14489,
          7463
         ],
         "xaxis": "x",
         "y": [
          25294.469238510028,
          21858.92557577088,
          12020.777814290592,
          14050.87179681827,
          16080.96577934595,
          7648.267698077132,
          5618.173715549454,
          7804.428773656184,
          11552.294587553435,
          4993.529413233244,
          14050.87179681827,
          7804.428773656184,
          15612.482552608793,
          11239.972436395332,
          25606.791389668135,
          6555.140169023765,
          4368.8851109170355,
          19516.509442085095,
          10615.328134079124,
          11552.294587553435,
          9990.683831762914,
          20609.63697113846,
          7648.267698077132,
          5930.495866707557,
          7492.106622498079,
          25294.469238510028,
          14987.838250292583,
          14675.51609913448,
          7648.267698077132,
          14675.51609913448,
          16080.96577934595,
          7492.106622498079,
          6555.140169023765,
          17798.73761071552,
          12801.583192185853,
          16080.96577934595,
          14207.032872397323,
          12645.422116606802,
          7804.428773656184,
          19516.509442085095,
          9678.36168060481
         ],
         "yaxis": "y"
        },
        {
         "mode": "lines",
         "name": "Diagonala x=y",
         "type": "scatter",
         "x": [
          5118,
          5524.888888888889,
          5931.777777777777,
          6338.666666666667,
          6745.555555555556,
          7152.444444444444,
          7559.333333333334,
          7966.222222222223,
          8373.111111111111,
          8780,
          9186.888888888889,
          9593.777777777777,
          10000.666666666668,
          10407.555555555555,
          10814.444444444445,
          11221.333333333334,
          11628.222222222223,
          12035.111111111111,
          12442,
          12848.88888888889,
          13255.777777777777,
          13662.666666666668,
          14069.555555555557,
          14476.444444444445,
          14883.333333333334,
          15290.222222222223,
          15697.111111111111,
          16104,
          16510.88888888889,
          16917.77777777778,
          17324.666666666668,
          17731.555555555555,
          18138.444444444445,
          18545.333333333336,
          18952.222222222223,
          19359.11111111111,
          19766,
          20172.88888888889,
          20579.77777777778,
          20986.666666666668,
          21393.555555555555,
          21800.444444444445,
          22207.333333333336,
          22614.222222222223,
          23021.111111111113,
          23428,
          23834.88888888889,
          24241.777777777777,
          24648.666666666668,
          25055.55555555556,
          25462.444444444445,
          25869.333333333336,
          26276.222222222223,
          26683.111111111113,
          27090,
          27496.88888888889,
          27903.77777777778,
          28310.666666666668,
          28717.55555555556,
          29124.444444444445,
          29531.333333333336,
          29938.222222222223,
          30345.111111111113,
          30752,
          31158.88888888889,
          31565.77777777778,
          31972.666666666668,
          32379.55555555556,
          32786.444444444445,
          33193.333333333336,
          33600.22222222222,
          34007.11111111111,
          34414,
          34820.88888888889,
          35227.77777777778,
          35634.66666666667,
          36041.55555555556,
          36448.444444444445,
          36855.333333333336,
          37262.22222222222,
          37669.11111111111,
          38076,
          38482.88888888889,
          38889.77777777778,
          39296.66666666667,
          39703.555555555555,
          40110.444444444445,
          40517.333333333336,
          40924.222222222226,
          41331.11111111112,
          41738,
          42144.88888888889,
          42551.77777777778,
          42958.66666666667,
          43365.555555555555,
          43772.444444444445,
          44179.333333333336,
          44586.222222222226,
          44993.11111111112,
          45400
         ],
         "xaxis": "x",
         "y": [
          5118,
          5524.888888888889,
          5931.777777777777,
          6338.666666666667,
          6745.555555555556,
          7152.444444444444,
          7559.333333333334,
          7966.222222222223,
          8373.111111111111,
          8780,
          9186.888888888889,
          9593.777777777777,
          10000.666666666668,
          10407.555555555555,
          10814.444444444445,
          11221.333333333334,
          11628.222222222223,
          12035.111111111111,
          12442,
          12848.88888888889,
          13255.777777777777,
          13662.666666666668,
          14069.555555555557,
          14476.444444444445,
          14883.333333333334,
          15290.222222222223,
          15697.111111111111,
          16104,
          16510.88888888889,
          16917.77777777778,
          17324.666666666668,
          17731.555555555555,
          18138.444444444445,
          18545.333333333336,
          18952.222222222223,
          19359.11111111111,
          19766,
          20172.88888888889,
          20579.77777777778,
          20986.666666666668,
          21393.555555555555,
          21800.444444444445,
          22207.333333333336,
          22614.222222222223,
          23021.111111111113,
          23428,
          23834.88888888889,
          24241.777777777777,
          24648.666666666668,
          25055.55555555556,
          25462.444444444445,
          25869.333333333336,
          26276.222222222223,
          26683.111111111113,
          27090,
          27496.88888888889,
          27903.77777777778,
          28310.666666666668,
          28717.55555555556,
          29124.444444444445,
          29531.333333333336,
          29938.222222222223,
          30345.111111111113,
          30752,
          31158.88888888889,
          31565.77777777778,
          31972.666666666668,
          32379.55555555556,
          32786.444444444445,
          33193.333333333336,
          33600.22222222222,
          34007.11111111111,
          34414,
          34820.88888888889,
          35227.77777777778,
          35634.66666666667,
          36041.55555555556,
          36448.444444444445,
          36855.333333333336,
          37262.22222222222,
          37669.11111111111,
          38076,
          38482.88888888889,
          38889.77777777778,
          39296.66666666667,
          39703.555555555555,
          40110.444444444445,
          40517.333333333336,
          40924.222222222226,
          41331.11111111112,
          41738,
          42144.88888888889,
          42551.77777777778,
          42958.66666666667,
          43365.555555555555,
          43772.444444444445,
          44179.333333333336,
          44586.222222222226,
          44993.11111111112,
          45400
         ],
         "yaxis": "y"
        },
        {
         "mode": "markers",
         "name": "Date antrenament",
         "type": "scatter",
         "x": [
          72,
          95,
          62,
          69,
          86,
          68,
          73,
          95,
          145,
          70,
          161,
          55,
          92,
          69,
          110,
          116,
          101,
          207,
          68,
          82,
          160,
          92,
          175,
          73,
          76,
          121,
          76,
          143,
          100,
          70,
          160,
          73,
          68,
          95,
          112,
          101,
          145,
          68,
          102,
          68,
          160,
          114,
          142,
          154,
          68,
          90,
          68,
          207,
          88,
          69,
          76,
          95,
          84,
          68,
          110,
          68,
          76,
          101,
          162,
          70,
          110,
          102,
          207,
          114,
          82,
          115,
          60,
          97,
          68,
          97,
          82,
          101,
          84,
          68,
          62,
          116,
          111,
          52,
          85,
          123,
          106,
          84,
          70,
          112,
          88,
          86,
          95,
          88,
          102,
          62,
          90,
          88,
          86,
          116,
          176,
          69,
          56,
          78,
          82,
          102,
          200,
          68,
          110,
          85,
          70,
          90,
          262,
          116,
          76,
          110,
          95,
          69,
          145,
          156,
          85,
          69,
          140,
          121,
          84,
          92,
          90,
          182,
          155,
          156,
          110,
          116,
          162,
          64,
          68,
          97,
          68,
          160,
          116,
          135,
          176,
          116,
          68,
          101,
          70,
          114,
          288,
          86,
          70,
          88,
          111,
          68,
          111,
          90,
          62,
          152,
          97,
          95,
          116,
          184,
          68,
          114,
          70,
          100,
          155,
          160,
          121,
          69,
          161,
          152
         ],
         "xaxis": "x2",
         "y": [
          18344,
          15580,
          6918,
          7499,
          9095,
          6229,
          7053,
          16900,
          12964,
          6295,
          16558,
          7099,
          8948,
          7349,
          15250,
          8449,
          11845,
          37028,
          5389,
          9233,
          17199,
          11248,
          16503,
          10698,
          6855,
          20970,
          7295,
          22018,
          10345,
          6938,
          18150,
          7603,
          6095,
          16695,
          9538,
          12945,
          12764,
          6669,
          7957,
          7609,
          18620,
          16845,
          18150,
          16500,
          6189,
          11048,
          7609,
          34028,
          6989,
          5118,
          7295,
          17075,
          10595,
          6377,
          15510,
          13845,
          6529,
          16925,
          18950,
          8058,
          17710,
          8558,
          32528,
          15985,
          7126,
          17450,
          5399,
          12440,
          9495,
          16630,
          8013,
          16430,
          10245,
          5572,
          5348,
          11199,
          13495,
          7995,
          7975,
          31600,
          22470,
          11245,
          8916,
          9298,
          8921,
          10295,
          13200,
          8921,
          7957,
          8778,
          11595,
          8499,
          8845,
          17669,
          32250,
          7299,
          7898,
          6785,
          7775,
          13950,
          19699,
          6695,
          12170,
          8195,
          8358,
          9980,
          36000,
          9959,
          7129,
          18920,
          13860,
          6649,
          14869,
          15750,
          8495,
          5499,
          23875,
          21105,
          8845,
          10898,
          9895,
          36880,
          35056,
          15690,
          15040,
          11549,
          18420,
          10795,
          7395,
          11900,
          5195,
          19045,
          9989,
          15645,
          35550,
          9279,
          5572,
          13645,
          7738,
          16515,
          31400,
          7895,
          7198,
          12290,
          16500,
          6795,
          11694,
          9295,
          6338,
          13499,
          8949,
          17950,
          9279,
          45400,
          6692,
          22625,
          6575,
          9995,
          34184,
          18399,
          24565,
          6849,
          15998,
          14399
         ],
         "yaxis": "y2"
        },
        {
         "mode": "markers",
         "name": "Date test",
         "type": "scatter",
         "x": [
          182,
          160,
          97,
          110,
          123,
          69,
          56,
          70,
          94,
          52,
          110,
          70,
          120,
          92,
          184,
          62,
          48,
          145,
          88,
          94,
          84,
          152,
          69,
          58,
          68,
          182,
          116,
          114,
          69,
          114,
          123,
          68,
          62,
          134,
          102,
          123,
          111,
          101,
          70,
          145,
          82
         ],
         "xaxis": "x2",
         "y": [
          30760,
          17859,
          9549,
          11850,
          28248,
          7799,
          7788,
          9258,
          10198,
          7775,
          13295,
          8238,
          18280,
          9988,
          40960,
          6488,
          5151,
          12629,
          8189,
          9960,
          8495,
          13499,
          8249,
          6479,
          6692,
          41315,
          9639,
          13415,
          7999,
          12940,
          25552,
          6229,
          7898,
          21485,
          7689,
          28176,
          11259,
          10945,
          8916,
          14489,
          7463
         ],
         "yaxis": "y2"
        },
        {
         "mode": "lines",
         "name": "Linia de regresie",
         "type": "scatter",
         "x": [
          48,
          50.42424242424242,
          52.84848484848485,
          55.27272727272727,
          57.696969696969695,
          60.121212121212125,
          62.54545454545455,
          64.96969696969697,
          67.39393939393939,
          69.81818181818181,
          72.24242424242425,
          74.66666666666667,
          77.0909090909091,
          79.51515151515152,
          81.93939393939394,
          84.36363636363637,
          86.78787878787878,
          89.21212121212122,
          91.63636363636364,
          94.06060606060606,
          96.48484848484848,
          98.9090909090909,
          101.33333333333334,
          103.75757575757575,
          106.18181818181819,
          108.60606060606061,
          111.03030303030303,
          113.45454545454545,
          115.87878787878788,
          118.30303030303031,
          120.72727272727273,
          123.15151515151516,
          125.57575757575758,
          128,
          130.42424242424244,
          132.84848484848484,
          135.27272727272728,
          137.6969696969697,
          140.12121212121212,
          142.54545454545456,
          144.96969696969697,
          147.39393939393938,
          149.8181818181818,
          152.24242424242425,
          154.66666666666669,
          157.0909090909091,
          159.5151515151515,
          161.93939393939394,
          164.36363636363637,
          166.7878787878788,
          169.21212121212122,
          171.63636363636363,
          174.06060606060606,
          176.4848484848485,
          178.9090909090909,
          181.33333333333334,
          183.75757575757575,
          186.1818181818182,
          188.60606060606062,
          191.03030303030303,
          193.45454545454547,
          195.87878787878788,
          198.3030303030303,
          200.72727272727272,
          203.15151515151516,
          205.5757575757576,
          208,
          210.42424242424244,
          212.84848484848484,
          215.27272727272728,
          217.6969696969697,
          220.12121212121212,
          222.54545454545456,
          224.96969696969697,
          227.3939393939394,
          229.8181818181818,
          232.24242424242425,
          234.66666666666669,
          237.0909090909091,
          239.51515151515153,
          241.93939393939394,
          244.36363636363637,
          246.78787878787878,
          249.21212121212122,
          251.63636363636365,
          254.06060606060606,
          256.4848484848485,
          258.9090909090909,
          261.33333333333337,
          263.75757575757575,
          266.1818181818182,
          268.6060606060606,
          271.030303030303,
          273.4545454545455,
          275.8787878787879,
          278.3030303030303,
          280.72727272727275,
          283.1515151515151,
          285.5757575757576,
          288
         ],
         "xaxis": "x2",
         "y": [
          4368.8851109170355,
          4747.457415351101,
          5126.029719785167,
          5504.6020242192335,
          5883.174328653298,
          6261.746633087365,
          6640.3189375214315,
          7018.891241955496,
          7397.463546389563,
          7776.035850823628,
          8154.608155257696,
          8533.180459691761,
          8911.752764125826,
          9290.325068559892,
          9668.897372993957,
          10047.469677428026,
          10426.041981862089,
          10804.614286296157,
          11183.186590730222,
          11561.758895164288,
          11940.331199598353,
          12318.90350403242,
          12697.475808466486,
          13076.04811290055,
          13454.620417334618,
          13833.192721768684,
          14211.765026202747,
          14590.337330636814,
          14968.90963507088,
          15347.481939504947,
          15726.054243939014,
          16104.62654837308,
          16483.198852807145,
          16861.771157241208,
          17240.34346167528,
          17618.91576610934,
          17997.48807054341,
          18376.060374977475,
          18754.632679411538,
          19133.204983845608,
          19511.77728827967,
          19890.349592713734,
          20268.921897147804,
          20647.494201581867,
          21026.066506015937,
          21404.63881045,
          21783.211114884063,
          22161.783419318133,
          22540.355723752196,
          22918.928028186267,
          23297.50033262033,
          23676.072637054393,
          24054.644941488463,
          24433.217245922533,
          24811.789550356596,
          25190.36185479066,
          25568.934159224722,
          25947.506463658792,
          26326.078768092862,
          26704.651072526925,
          27083.22337696099,
          27461.79568139505,
          27840.36798582912,
          28218.940290263185,
          28597.512594697255,
          28976.084899131318,
          29354.65720356538,
          29733.22950799945,
          30111.801812433514,
          30490.374116867584,
          30868.946421301647,
          31247.51872573571,
          31626.09103016978,
          32004.663334603843,
          32383.235639037914,
          32761.807943471977,
          33140.38024790604,
          33518.95255234011,
          33897.52485677417,
          34276.09716120824,
          34654.669465642306,
          35033.24177007637,
          35411.81407451044,
          35790.3863789445,
          36168.95868337857,
          36547.530987812635,
          36926.103292246706,
          37304.67559668076,
          37683.24790111484,
          38061.820205548895,
          38440.392509982965,
          38818.964814417035,
          39197.53711885109,
          39576.10942328517,
          39954.681727719224,
          40333.254032153294,
          40711.826336587364,
          41090.39864102142,
          41468.9709454555,
          41847.54324988955
         ],
         "yaxis": "y2"
        }
       ],
       "layout": {
        "height": 600,
        "template": {
         "data": {
          "bar": [
           {
            "error_x": {
             "color": "#2a3f5f"
            },
            "error_y": {
             "color": "#2a3f5f"
            },
            "marker": {
             "line": {
              "color": "#E5ECF6",
              "width": 0.5
             }
            },
            "type": "bar"
           }
          ],
          "barpolar": [
           {
            "marker": {
             "line": {
              "color": "#E5ECF6",
              "width": 0.5
             }
            },
            "type": "barpolar"
           }
          ],
          "carpet": [
           {
            "aaxis": {
             "endlinecolor": "#2a3f5f",
             "gridcolor": "white",
             "linecolor": "white",
             "minorgridcolor": "white",
             "startlinecolor": "#2a3f5f"
            },
            "baxis": {
             "endlinecolor": "#2a3f5f",
             "gridcolor": "white",
             "linecolor": "white",
             "minorgridcolor": "white",
             "startlinecolor": "#2a3f5f"
            },
            "type": "carpet"
           }
          ],
          "choropleth": [
           {
            "colorbar": {
             "outlinewidth": 0,
             "ticks": ""
            },
            "type": "choropleth"
           }
          ],
          "contour": [
           {
            "colorbar": {
             "outlinewidth": 0,
             "ticks": ""
            },
            "colorscale": [
             [
              0,
              "#0d0887"
             ],
             [
              0.1111111111111111,
              "#46039f"
             ],
             [
              0.2222222222222222,
              "#7201a8"
             ],
             [
              0.3333333333333333,
              "#9c179e"
             ],
             [
              0.4444444444444444,
              "#bd3786"
             ],
             [
              0.5555555555555556,
              "#d8576b"
             ],
             [
              0.6666666666666666,
              "#ed7953"
             ],
             [
              0.7777777777777778,
              "#fb9f3a"
             ],
             [
              0.8888888888888888,
              "#fdca26"
             ],
             [
              1,
              "#f0f921"
             ]
            ],
            "type": "contour"
           }
          ],
          "contourcarpet": [
           {
            "colorbar": {
             "outlinewidth": 0,
             "ticks": ""
            },
            "type": "contourcarpet"
           }
          ],
          "heatmap": [
           {
            "colorbar": {
             "outlinewidth": 0,
             "ticks": ""
            },
            "colorscale": [
             [
              0,
              "#0d0887"
             ],
             [
              0.1111111111111111,
              "#46039f"
             ],
             [
              0.2222222222222222,
              "#7201a8"
             ],
             [
              0.3333333333333333,
              "#9c179e"
             ],
             [
              0.4444444444444444,
              "#bd3786"
             ],
             [
              0.5555555555555556,
              "#d8576b"
             ],
             [
              0.6666666666666666,
              "#ed7953"
             ],
             [
              0.7777777777777778,
              "#fb9f3a"
             ],
             [
              0.8888888888888888,
              "#fdca26"
             ],
             [
              1,
              "#f0f921"
             ]
            ],
            "type": "heatmap"
           }
          ],
          "heatmapgl": [
           {
            "colorbar": {
             "outlinewidth": 0,
             "ticks": ""
            },
            "colorscale": [
             [
              0,
              "#0d0887"
             ],
             [
              0.1111111111111111,
              "#46039f"
             ],
             [
              0.2222222222222222,
              "#7201a8"
             ],
             [
              0.3333333333333333,
              "#9c179e"
             ],
             [
              0.4444444444444444,
              "#bd3786"
             ],
             [
              0.5555555555555556,
              "#d8576b"
             ],
             [
              0.6666666666666666,
              "#ed7953"
             ],
             [
              0.7777777777777778,
              "#fb9f3a"
             ],
             [
              0.8888888888888888,
              "#fdca26"
             ],
             [
              1,
              "#f0f921"
             ]
            ],
            "type": "heatmapgl"
           }
          ],
          "histogram": [
           {
            "marker": {
             "colorbar": {
              "outlinewidth": 0,
              "ticks": ""
             }
            },
            "type": "histogram"
           }
          ],
          "histogram2d": [
           {
            "colorbar": {
             "outlinewidth": 0,
             "ticks": ""
            },
            "colorscale": [
             [
              0,
              "#0d0887"
             ],
             [
              0.1111111111111111,
              "#46039f"
             ],
             [
              0.2222222222222222,
              "#7201a8"
             ],
             [
              0.3333333333333333,
              "#9c179e"
             ],
             [
              0.4444444444444444,
              "#bd3786"
             ],
             [
              0.5555555555555556,
              "#d8576b"
             ],
             [
              0.6666666666666666,
              "#ed7953"
             ],
             [
              0.7777777777777778,
              "#fb9f3a"
             ],
             [
              0.8888888888888888,
              "#fdca26"
             ],
             [
              1,
              "#f0f921"
             ]
            ],
            "type": "histogram2d"
           }
          ],
          "histogram2dcontour": [
           {
            "colorbar": {
             "outlinewidth": 0,
             "ticks": ""
            },
            "colorscale": [
             [
              0,
              "#0d0887"
             ],
             [
              0.1111111111111111,
              "#46039f"
             ],
             [
              0.2222222222222222,
              "#7201a8"
             ],
             [
              0.3333333333333333,
              "#9c179e"
             ],
             [
              0.4444444444444444,
              "#bd3786"
             ],
             [
              0.5555555555555556,
              "#d8576b"
             ],
             [
              0.6666666666666666,
              "#ed7953"
             ],
             [
              0.7777777777777778,
              "#fb9f3a"
             ],
             [
              0.8888888888888888,
              "#fdca26"
             ],
             [
              1,
              "#f0f921"
             ]
            ],
            "type": "histogram2dcontour"
           }
          ],
          "mesh3d": [
           {
            "colorbar": {
             "outlinewidth": 0,
             "ticks": ""
            },
            "type": "mesh3d"
           }
          ],
          "parcoords": [
           {
            "line": {
             "colorbar": {
              "outlinewidth": 0,
              "ticks": ""
             }
            },
            "type": "parcoords"
           }
          ],
          "pie": [
           {
            "automargin": true,
            "type": "pie"
           }
          ],
          "scatter": [
           {
            "marker": {
             "colorbar": {
              "outlinewidth": 0,
              "ticks": ""
             }
            },
            "type": "scatter"
           }
          ],
          "scatter3d": [
           {
            "line": {
             "colorbar": {
              "outlinewidth": 0,
              "ticks": ""
             }
            },
            "marker": {
             "colorbar": {
              "outlinewidth": 0,
              "ticks": ""
             }
            },
            "type": "scatter3d"
           }
          ],
          "scattercarpet": [
           {
            "marker": {
             "colorbar": {
              "outlinewidth": 0,
              "ticks": ""
             }
            },
            "type": "scattercarpet"
           }
          ],
          "scattergeo": [
           {
            "marker": {
             "colorbar": {
              "outlinewidth": 0,
              "ticks": ""
             }
            },
            "type": "scattergeo"
           }
          ],
          "scattergl": [
           {
            "marker": {
             "colorbar": {
              "outlinewidth": 0,
              "ticks": ""
             }
            },
            "type": "scattergl"
           }
          ],
          "scattermapbox": [
           {
            "marker": {
             "colorbar": {
              "outlinewidth": 0,
              "ticks": ""
             }
            },
            "type": "scattermapbox"
           }
          ],
          "scatterpolar": [
           {
            "marker": {
             "colorbar": {
              "outlinewidth": 0,
              "ticks": ""
             }
            },
            "type": "scatterpolar"
           }
          ],
          "scatterpolargl": [
           {
            "marker": {
             "colorbar": {
              "outlinewidth": 0,
              "ticks": ""
             }
            },
            "type": "scatterpolargl"
           }
          ],
          "scatterternary": [
           {
            "marker": {
             "colorbar": {
              "outlinewidth": 0,
              "ticks": ""
             }
            },
            "type": "scatterternary"
           }
          ],
          "surface": [
           {
            "colorbar": {
             "outlinewidth": 0,
             "ticks": ""
            },
            "colorscale": [
             [
              0,
              "#0d0887"
             ],
             [
              0.1111111111111111,
              "#46039f"
             ],
             [
              0.2222222222222222,
              "#7201a8"
             ],
             [
              0.3333333333333333,
              "#9c179e"
             ],
             [
              0.4444444444444444,
              "#bd3786"
             ],
             [
              0.5555555555555556,
              "#d8576b"
             ],
             [
              0.6666666666666666,
              "#ed7953"
             ],
             [
              0.7777777777777778,
              "#fb9f3a"
             ],
             [
              0.8888888888888888,
              "#fdca26"
             ],
             [
              1,
              "#f0f921"
             ]
            ],
            "type": "surface"
           }
          ],
          "table": [
           {
            "cells": {
             "fill": {
              "color": "#EBF0F8"
             },
             "line": {
              "color": "white"
             }
            },
            "header": {
             "fill": {
              "color": "#C8D4E3"
             },
             "line": {
              "color": "white"
             }
            },
            "type": "table"
           }
          ]
         },
         "layout": {
          "annotationdefaults": {
           "arrowcolor": "#2a3f5f",
           "arrowhead": 0,
           "arrowwidth": 1
          },
          "coloraxis": {
           "colorbar": {
            "outlinewidth": 0,
            "ticks": ""
           }
          },
          "colorscale": {
           "diverging": [
            [
             0,
             "#8e0152"
            ],
            [
             0.1,
             "#c51b7d"
            ],
            [
             0.2,
             "#de77ae"
            ],
            [
             0.3,
             "#f1b6da"
            ],
            [
             0.4,
             "#fde0ef"
            ],
            [
             0.5,
             "#f7f7f7"
            ],
            [
             0.6,
             "#e6f5d0"
            ],
            [
             0.7,
             "#b8e186"
            ],
            [
             0.8,
             "#7fbc41"
            ],
            [
             0.9,
             "#4d9221"
            ],
            [
             1,
             "#276419"
            ]
           ],
           "sequential": [
            [
             0,
             "#0d0887"
            ],
            [
             0.1111111111111111,
             "#46039f"
            ],
            [
             0.2222222222222222,
             "#7201a8"
            ],
            [
             0.3333333333333333,
             "#9c179e"
            ],
            [
             0.4444444444444444,
             "#bd3786"
            ],
            [
             0.5555555555555556,
             "#d8576b"
            ],
            [
             0.6666666666666666,
             "#ed7953"
            ],
            [
             0.7777777777777778,
             "#fb9f3a"
            ],
            [
             0.8888888888888888,
             "#fdca26"
            ],
            [
             1,
             "#f0f921"
            ]
           ],
           "sequentialminus": [
            [
             0,
             "#0d0887"
            ],
            [
             0.1111111111111111,
             "#46039f"
            ],
            [
             0.2222222222222222,
             "#7201a8"
            ],
            [
             0.3333333333333333,
             "#9c179e"
            ],
            [
             0.4444444444444444,
             "#bd3786"
            ],
            [
             0.5555555555555556,
             "#d8576b"
            ],
            [
             0.6666666666666666,
             "#ed7953"
            ],
            [
             0.7777777777777778,
             "#fb9f3a"
            ],
            [
             0.8888888888888888,
             "#fdca26"
            ],
            [
             1,
             "#f0f921"
            ]
           ]
          },
          "colorway": [
           "#636efa",
           "#EF553B",
           "#00cc96",
           "#ab63fa",
           "#FFA15A",
           "#19d3f3",
           "#FF6692",
           "#B6E880",
           "#FF97FF",
           "#FECB52"
          ],
          "font": {
           "color": "#2a3f5f"
          },
          "geo": {
           "bgcolor": "white",
           "lakecolor": "white",
           "landcolor": "#E5ECF6",
           "showlakes": true,
           "showland": true,
           "subunitcolor": "white"
          },
          "hoverlabel": {
           "align": "left"
          },
          "hovermode": "closest",
          "mapbox": {
           "style": "light"
          },
          "paper_bgcolor": "white",
          "plot_bgcolor": "#E5ECF6",
          "polar": {
           "angularaxis": {
            "gridcolor": "white",
            "linecolor": "white",
            "ticks": ""
           },
           "bgcolor": "#E5ECF6",
           "radialaxis": {
            "gridcolor": "white",
            "linecolor": "white",
            "ticks": ""
           }
          },
          "scene": {
           "xaxis": {
            "backgroundcolor": "#E5ECF6",
            "gridcolor": "white",
            "gridwidth": 2,
            "linecolor": "white",
            "showbackground": true,
            "ticks": "",
            "zerolinecolor": "white"
           },
           "yaxis": {
            "backgroundcolor": "#E5ECF6",
            "gridcolor": "white",
            "gridwidth": 2,
            "linecolor": "white",
            "showbackground": true,
            "ticks": "",
            "zerolinecolor": "white"
           },
           "zaxis": {
            "backgroundcolor": "#E5ECF6",
            "gridcolor": "white",
            "gridwidth": 2,
            "linecolor": "white",
            "showbackground": true,
            "ticks": "",
            "zerolinecolor": "white"
           }
          },
          "shapedefaults": {
           "line": {
            "color": "#2a3f5f"
           }
          },
          "ternary": {
           "aaxis": {
            "gridcolor": "white",
            "linecolor": "white",
            "ticks": ""
           },
           "baxis": {
            "gridcolor": "white",
            "linecolor": "white",
            "ticks": ""
           },
           "bgcolor": "#E5ECF6",
           "caxis": {
            "gridcolor": "white",
            "linecolor": "white",
            "ticks": ""
           }
          },
          "title": {
           "x": 0.05
          },
          "xaxis": {
           "automargin": true,
           "gridcolor": "white",
           "linecolor": "white",
           "ticks": "",
           "title": {
            "standoff": 15
           },
           "zerolinecolor": "white",
           "zerolinewidth": 2
          },
          "yaxis": {
           "automargin": true,
           "gridcolor": "white",
           "linecolor": "white",
           "ticks": "",
           "title": {
            "standoff": 15
           },
           "zerolinecolor": "white",
           "zerolinewidth": 2
          }
         }
        },
        "title": {
         "text": "Vizualizare rezultate predicție pe datele de test"
        },
        "width": 800,
        "xaxis": {
         "anchor": "y",
         "domain": [
          0,
          1
         ],
         "title": {
          "text": "Prețuri mașini"
         }
        },
        "xaxis2": {
         "anchor": "y2",
         "domain": [
          0,
          1
         ],
         "title": {
          "text": "Cai putere"
         }
        },
        "yaxis": {
         "anchor": "x",
         "domain": [
          0.575,
          1
         ],
         "title": {
          "text": "Prețuri prognozate"
         }
        },
        "yaxis2": {
         "anchor": "x2",
         "domain": [
          0,
          0.425
         ],
         "title": {
          "text": "Prețuri mașini"
         }
        }
       }
      },
      "text/html": [
       "<div>\n",
       "        \n",
       "        \n",
       "            <div id=\"d86c013c-2417-4062-a52c-07373dbf786a\" class=\"plotly-graph-div\" style=\"height:600px; width:800px;\"></div>\n",
       "            <script type=\"text/javascript\">\n",
       "                require([\"plotly\"], function(Plotly) {\n",
       "                    window.PLOTLYENV=window.PLOTLYENV || {};\n",
       "                    \n",
       "                if (document.getElementById(\"d86c013c-2417-4062-a52c-07373dbf786a\")) {\n",
       "                    Plotly.newPlot(\n",
       "                        'd86c013c-2417-4062-a52c-07373dbf786a',\n",
       "                        [{\"mode\": \"markers\", \"name\": \"Valori reale\", \"type\": \"scatter\", \"x\": [30760, 17859, 9549, 11850, 28248, 7799, 7788, 9258, 10198, 7775, 13295, 8238, 18280, 9988, 40960, 6488, 5151, 12629, 8189, 9960, 8495, 13499, 8249, 6479, 6692, 41315, 9639, 13415, 7999, 12940, 25552, 6229, 7898, 21485, 7689, 28176, 11259, 10945, 8916, 14489, 7463], \"xaxis\": \"x\", \"y\": [25294.469238510028, 21858.92557577088, 12020.777814290592, 14050.87179681827, 16080.96577934595, 7648.267698077132, 5618.173715549454, 7804.428773656184, 11552.294587553435, 4993.529413233244, 14050.87179681827, 7804.428773656184, 15612.482552608793, 11239.972436395332, 25606.791389668135, 6555.140169023765, 4368.8851109170355, 19516.509442085095, 10615.328134079124, 11552.294587553435, 9990.683831762914, 20609.63697113846, 7648.267698077132, 5930.495866707557, 7492.106622498079, 25294.469238510028, 14987.838250292583, 14675.51609913448, 7648.267698077132, 14675.51609913448, 16080.96577934595, 7492.106622498079, 6555.140169023765, 17798.73761071552, 12801.583192185853, 16080.96577934595, 14207.032872397323, 12645.422116606802, 7804.428773656184, 19516.509442085095, 9678.36168060481], \"yaxis\": \"y\"}, {\"mode\": \"lines\", \"name\": \"Diagonala x=y\", \"type\": \"scatter\", \"x\": [5118.0, 5524.888888888889, 5931.777777777777, 6338.666666666667, 6745.555555555556, 7152.444444444444, 7559.333333333334, 7966.222222222223, 8373.111111111111, 8780.0, 9186.888888888889, 9593.777777777777, 10000.666666666668, 10407.555555555555, 10814.444444444445, 11221.333333333334, 11628.222222222223, 12035.111111111111, 12442.0, 12848.88888888889, 13255.777777777777, 13662.666666666668, 14069.555555555557, 14476.444444444445, 14883.333333333334, 15290.222222222223, 15697.111111111111, 16104.0, 16510.88888888889, 16917.77777777778, 17324.666666666668, 17731.555555555555, 18138.444444444445, 18545.333333333336, 18952.222222222223, 19359.11111111111, 19766.0, 20172.88888888889, 20579.77777777778, 20986.666666666668, 21393.555555555555, 21800.444444444445, 22207.333333333336, 22614.222222222223, 23021.111111111113, 23428.0, 23834.88888888889, 24241.777777777777, 24648.666666666668, 25055.55555555556, 25462.444444444445, 25869.333333333336, 26276.222222222223, 26683.111111111113, 27090.0, 27496.88888888889, 27903.77777777778, 28310.666666666668, 28717.55555555556, 29124.444444444445, 29531.333333333336, 29938.222222222223, 30345.111111111113, 30752.0, 31158.88888888889, 31565.77777777778, 31972.666666666668, 32379.55555555556, 32786.444444444445, 33193.333333333336, 33600.22222222222, 34007.11111111111, 34414.0, 34820.88888888889, 35227.77777777778, 35634.66666666667, 36041.55555555556, 36448.444444444445, 36855.333333333336, 37262.22222222222, 37669.11111111111, 38076.0, 38482.88888888889, 38889.77777777778, 39296.66666666667, 39703.555555555555, 40110.444444444445, 40517.333333333336, 40924.222222222226, 41331.11111111112, 41738.0, 42144.88888888889, 42551.77777777778, 42958.66666666667, 43365.555555555555, 43772.444444444445, 44179.333333333336, 44586.222222222226, 44993.11111111112, 45400.0], \"xaxis\": \"x\", \"y\": [5118.0, 5524.888888888889, 5931.777777777777, 6338.666666666667, 6745.555555555556, 7152.444444444444, 7559.333333333334, 7966.222222222223, 8373.111111111111, 8780.0, 9186.888888888889, 9593.777777777777, 10000.666666666668, 10407.555555555555, 10814.444444444445, 11221.333333333334, 11628.222222222223, 12035.111111111111, 12442.0, 12848.88888888889, 13255.777777777777, 13662.666666666668, 14069.555555555557, 14476.444444444445, 14883.333333333334, 15290.222222222223, 15697.111111111111, 16104.0, 16510.88888888889, 16917.77777777778, 17324.666666666668, 17731.555555555555, 18138.444444444445, 18545.333333333336, 18952.222222222223, 19359.11111111111, 19766.0, 20172.88888888889, 20579.77777777778, 20986.666666666668, 21393.555555555555, 21800.444444444445, 22207.333333333336, 22614.222222222223, 23021.111111111113, 23428.0, 23834.88888888889, 24241.777777777777, 24648.666666666668, 25055.55555555556, 25462.444444444445, 25869.333333333336, 26276.222222222223, 26683.111111111113, 27090.0, 27496.88888888889, 27903.77777777778, 28310.666666666668, 28717.55555555556, 29124.444444444445, 29531.333333333336, 29938.222222222223, 30345.111111111113, 30752.0, 31158.88888888889, 31565.77777777778, 31972.666666666668, 32379.55555555556, 32786.444444444445, 33193.333333333336, 33600.22222222222, 34007.11111111111, 34414.0, 34820.88888888889, 35227.77777777778, 35634.66666666667, 36041.55555555556, 36448.444444444445, 36855.333333333336, 37262.22222222222, 37669.11111111111, 38076.0, 38482.88888888889, 38889.77777777778, 39296.66666666667, 39703.555555555555, 40110.444444444445, 40517.333333333336, 40924.222222222226, 41331.11111111112, 41738.0, 42144.88888888889, 42551.77777777778, 42958.66666666667, 43365.555555555555, 43772.444444444445, 44179.333333333336, 44586.222222222226, 44993.11111111112, 45400.0], \"yaxis\": \"y\"}, {\"mode\": \"markers\", \"name\": \"Date antrenament\", \"type\": \"scatter\", \"x\": [72, 95, 62, 69, 86, 68, 73, 95, 145, 70, 161, 55, 92, 69, 110, 116, 101, 207, 68, 82, 160, 92, 175, 73, 76, 121, 76, 143, 100, 70, 160, 73, 68, 95, 112, 101, 145, 68, 102, 68, 160, 114, 142, 154, 68, 90, 68, 207, 88, 69, 76, 95, 84, 68, 110, 68, 76, 101, 162, 70, 110, 102, 207, 114, 82, 115, 60, 97, 68, 97, 82, 101, 84, 68, 62, 116, 111, 52, 85, 123, 106, 84, 70, 112, 88, 86, 95, 88, 102, 62, 90, 88, 86, 116, 176, 69, 56, 78, 82, 102, 200, 68, 110, 85, 70, 90, 262, 116, 76, 110, 95, 69, 145, 156, 85, 69, 140, 121, 84, 92, 90, 182, 155, 156, 110, 116, 162, 64, 68, 97, 68, 160, 116, 135, 176, 116, 68, 101, 70, 114, 288, 86, 70, 88, 111, 68, 111, 90, 62, 152, 97, 95, 116, 184, 68, 114, 70, 100, 155, 160, 121, 69, 161, 152], \"xaxis\": \"x2\", \"y\": [18344, 15580, 6918, 7499, 9095, 6229, 7053, 16900, 12964, 6295, 16558, 7099, 8948, 7349, 15250, 8449, 11845, 37028, 5389, 9233, 17199, 11248, 16503, 10698, 6855, 20970, 7295, 22018, 10345, 6938, 18150, 7603, 6095, 16695, 9538, 12945, 12764, 6669, 7957, 7609, 18620, 16845, 18150, 16500, 6189, 11048, 7609, 34028, 6989, 5118, 7295, 17075, 10595, 6377, 15510, 13845, 6529, 16925, 18950, 8058, 17710, 8558, 32528, 15985, 7126, 17450, 5399, 12440, 9495, 16630, 8013, 16430, 10245, 5572, 5348, 11199, 13495, 7995, 7975, 31600, 22470, 11245, 8916, 9298, 8921, 10295, 13200, 8921, 7957, 8778, 11595, 8499, 8845, 17669, 32250, 7299, 7898, 6785, 7775, 13950, 19699, 6695, 12170, 8195, 8358, 9980, 36000, 9959, 7129, 18920, 13860, 6649, 14869, 15750, 8495, 5499, 23875, 21105, 8845, 10898, 9895, 36880, 35056, 15690, 15040, 11549, 18420, 10795, 7395, 11900, 5195, 19045, 9989, 15645, 35550, 9279, 5572, 13645, 7738, 16515, 31400, 7895, 7198, 12290, 16500, 6795, 11694, 9295, 6338, 13499, 8949, 17950, 9279, 45400, 6692, 22625, 6575, 9995, 34184, 18399, 24565, 6849, 15998, 14399], \"yaxis\": \"y2\"}, {\"mode\": \"markers\", \"name\": \"Date test\", \"type\": \"scatter\", \"x\": [182, 160, 97, 110, 123, 69, 56, 70, 94, 52, 110, 70, 120, 92, 184, 62, 48, 145, 88, 94, 84, 152, 69, 58, 68, 182, 116, 114, 69, 114, 123, 68, 62, 134, 102, 123, 111, 101, 70, 145, 82], \"xaxis\": \"x2\", \"y\": [30760, 17859, 9549, 11850, 28248, 7799, 7788, 9258, 10198, 7775, 13295, 8238, 18280, 9988, 40960, 6488, 5151, 12629, 8189, 9960, 8495, 13499, 8249, 6479, 6692, 41315, 9639, 13415, 7999, 12940, 25552, 6229, 7898, 21485, 7689, 28176, 11259, 10945, 8916, 14489, 7463], \"yaxis\": \"y2\"}, {\"mode\": \"lines\", \"name\": \"Linia de regresie\", \"type\": \"scatter\", \"x\": [48.0, 50.42424242424242, 52.84848484848485, 55.27272727272727, 57.696969696969695, 60.121212121212125, 62.54545454545455, 64.96969696969697, 67.39393939393939, 69.81818181818181, 72.24242424242425, 74.66666666666667, 77.0909090909091, 79.51515151515152, 81.93939393939394, 84.36363636363637, 86.78787878787878, 89.21212121212122, 91.63636363636364, 94.06060606060606, 96.48484848484848, 98.9090909090909, 101.33333333333334, 103.75757575757575, 106.18181818181819, 108.60606060606061, 111.03030303030303, 113.45454545454545, 115.87878787878788, 118.30303030303031, 120.72727272727273, 123.15151515151516, 125.57575757575758, 128.0, 130.42424242424244, 132.84848484848484, 135.27272727272728, 137.6969696969697, 140.12121212121212, 142.54545454545456, 144.96969696969697, 147.39393939393938, 149.8181818181818, 152.24242424242425, 154.66666666666669, 157.0909090909091, 159.5151515151515, 161.93939393939394, 164.36363636363637, 166.7878787878788, 169.21212121212122, 171.63636363636363, 174.06060606060606, 176.4848484848485, 178.9090909090909, 181.33333333333334, 183.75757575757575, 186.1818181818182, 188.60606060606062, 191.03030303030303, 193.45454545454547, 195.87878787878788, 198.3030303030303, 200.72727272727272, 203.15151515151516, 205.5757575757576, 208.0, 210.42424242424244, 212.84848484848484, 215.27272727272728, 217.6969696969697, 220.12121212121212, 222.54545454545456, 224.96969696969697, 227.3939393939394, 229.8181818181818, 232.24242424242425, 234.66666666666669, 237.0909090909091, 239.51515151515153, 241.93939393939394, 244.36363636363637, 246.78787878787878, 249.21212121212122, 251.63636363636365, 254.06060606060606, 256.4848484848485, 258.9090909090909, 261.33333333333337, 263.75757575757575, 266.1818181818182, 268.6060606060606, 271.030303030303, 273.4545454545455, 275.8787878787879, 278.3030303030303, 280.72727272727275, 283.1515151515151, 285.5757575757576, 288.0], \"xaxis\": \"x2\", \"y\": [4368.8851109170355, 4747.457415351101, 5126.029719785167, 5504.6020242192335, 5883.174328653298, 6261.746633087365, 6640.3189375214315, 7018.891241955496, 7397.463546389563, 7776.035850823628, 8154.608155257696, 8533.180459691761, 8911.752764125826, 9290.325068559892, 9668.897372993957, 10047.469677428026, 10426.041981862089, 10804.614286296157, 11183.186590730222, 11561.758895164288, 11940.331199598353, 12318.90350403242, 12697.475808466486, 13076.04811290055, 13454.620417334618, 13833.192721768684, 14211.765026202747, 14590.337330636814, 14968.90963507088, 15347.481939504947, 15726.054243939014, 16104.62654837308, 16483.198852807145, 16861.771157241208, 17240.34346167528, 17618.91576610934, 17997.48807054341, 18376.060374977475, 18754.632679411538, 19133.204983845608, 19511.77728827967, 19890.349592713734, 20268.921897147804, 20647.494201581867, 21026.066506015937, 21404.63881045, 21783.211114884063, 22161.783419318133, 22540.355723752196, 22918.928028186267, 23297.50033262033, 23676.072637054393, 24054.644941488463, 24433.217245922533, 24811.789550356596, 25190.36185479066, 25568.934159224722, 25947.506463658792, 26326.078768092862, 26704.651072526925, 27083.22337696099, 27461.79568139505, 27840.36798582912, 28218.940290263185, 28597.512594697255, 28976.084899131318, 29354.65720356538, 29733.22950799945, 30111.801812433514, 30490.374116867584, 30868.946421301647, 31247.51872573571, 31626.09103016978, 32004.663334603843, 32383.235639037914, 32761.807943471977, 33140.38024790604, 33518.95255234011, 33897.52485677417, 34276.09716120824, 34654.669465642306, 35033.24177007637, 35411.81407451044, 35790.3863789445, 36168.95868337857, 36547.530987812635, 36926.103292246706, 37304.67559668076, 37683.24790111484, 38061.820205548895, 38440.392509982965, 38818.964814417035, 39197.53711885109, 39576.10942328517, 39954.681727719224, 40333.254032153294, 40711.826336587364, 41090.39864102142, 41468.9709454555, 41847.54324988955], \"yaxis\": \"y2\"}],\n",
       "                        {\"height\": 600, \"template\": {\"data\": {\"bar\": [{\"error_x\": {\"color\": \"#2a3f5f\"}, \"error_y\": {\"color\": \"#2a3f5f\"}, \"marker\": {\"line\": {\"color\": \"#E5ECF6\", \"width\": 0.5}}, \"type\": \"bar\"}], \"barpolar\": [{\"marker\": {\"line\": {\"color\": \"#E5ECF6\", \"width\": 0.5}}, \"type\": \"barpolar\"}], \"carpet\": [{\"aaxis\": {\"endlinecolor\": \"#2a3f5f\", \"gridcolor\": \"white\", \"linecolor\": \"white\", \"minorgridcolor\": \"white\", \"startlinecolor\": \"#2a3f5f\"}, \"baxis\": {\"endlinecolor\": \"#2a3f5f\", \"gridcolor\": \"white\", \"linecolor\": \"white\", \"minorgridcolor\": \"white\", \"startlinecolor\": \"#2a3f5f\"}, \"type\": \"carpet\"}], \"choropleth\": [{\"colorbar\": {\"outlinewidth\": 0, \"ticks\": \"\"}, \"type\": \"choropleth\"}], \"contour\": [{\"colorbar\": {\"outlinewidth\": 0, \"ticks\": \"\"}, \"colorscale\": [[0.0, \"#0d0887\"], [0.1111111111111111, \"#46039f\"], [0.2222222222222222, \"#7201a8\"], [0.3333333333333333, \"#9c179e\"], [0.4444444444444444, \"#bd3786\"], [0.5555555555555556, \"#d8576b\"], [0.6666666666666666, \"#ed7953\"], [0.7777777777777778, \"#fb9f3a\"], [0.8888888888888888, \"#fdca26\"], [1.0, \"#f0f921\"]], \"type\": \"contour\"}], \"contourcarpet\": [{\"colorbar\": {\"outlinewidth\": 0, \"ticks\": \"\"}, \"type\": \"contourcarpet\"}], \"heatmap\": [{\"colorbar\": {\"outlinewidth\": 0, \"ticks\": \"\"}, \"colorscale\": [[0.0, \"#0d0887\"], [0.1111111111111111, \"#46039f\"], [0.2222222222222222, \"#7201a8\"], [0.3333333333333333, \"#9c179e\"], [0.4444444444444444, \"#bd3786\"], [0.5555555555555556, \"#d8576b\"], [0.6666666666666666, \"#ed7953\"], [0.7777777777777778, \"#fb9f3a\"], [0.8888888888888888, \"#fdca26\"], [1.0, \"#f0f921\"]], \"type\": \"heatmap\"}], \"heatmapgl\": [{\"colorbar\": {\"outlinewidth\": 0, \"ticks\": \"\"}, \"colorscale\": [[0.0, \"#0d0887\"], [0.1111111111111111, \"#46039f\"], [0.2222222222222222, \"#7201a8\"], [0.3333333333333333, \"#9c179e\"], [0.4444444444444444, \"#bd3786\"], [0.5555555555555556, \"#d8576b\"], [0.6666666666666666, \"#ed7953\"], [0.7777777777777778, \"#fb9f3a\"], [0.8888888888888888, \"#fdca26\"], [1.0, \"#f0f921\"]], \"type\": \"heatmapgl\"}], \"histogram\": [{\"marker\": {\"colorbar\": {\"outlinewidth\": 0, \"ticks\": \"\"}}, \"type\": \"histogram\"}], \"histogram2d\": [{\"colorbar\": {\"outlinewidth\": 0, \"ticks\": \"\"}, \"colorscale\": [[0.0, \"#0d0887\"], [0.1111111111111111, \"#46039f\"], [0.2222222222222222, \"#7201a8\"], [0.3333333333333333, \"#9c179e\"], [0.4444444444444444, \"#bd3786\"], [0.5555555555555556, \"#d8576b\"], [0.6666666666666666, \"#ed7953\"], [0.7777777777777778, \"#fb9f3a\"], [0.8888888888888888, \"#fdca26\"], [1.0, \"#f0f921\"]], \"type\": \"histogram2d\"}], \"histogram2dcontour\": [{\"colorbar\": {\"outlinewidth\": 0, \"ticks\": \"\"}, \"colorscale\": [[0.0, \"#0d0887\"], [0.1111111111111111, \"#46039f\"], [0.2222222222222222, \"#7201a8\"], [0.3333333333333333, \"#9c179e\"], [0.4444444444444444, \"#bd3786\"], [0.5555555555555556, \"#d8576b\"], [0.6666666666666666, \"#ed7953\"], [0.7777777777777778, \"#fb9f3a\"], [0.8888888888888888, \"#fdca26\"], [1.0, \"#f0f921\"]], \"type\": \"histogram2dcontour\"}], \"mesh3d\": [{\"colorbar\": {\"outlinewidth\": 0, \"ticks\": \"\"}, \"type\": \"mesh3d\"}], \"parcoords\": [{\"line\": {\"colorbar\": {\"outlinewidth\": 0, \"ticks\": \"\"}}, \"type\": \"parcoords\"}], \"pie\": [{\"automargin\": true, \"type\": \"pie\"}], \"scatter\": [{\"marker\": {\"colorbar\": {\"outlinewidth\": 0, \"ticks\": \"\"}}, \"type\": \"scatter\"}], \"scatter3d\": [{\"line\": {\"colorbar\": {\"outlinewidth\": 0, \"ticks\": \"\"}}, \"marker\": {\"colorbar\": {\"outlinewidth\": 0, \"ticks\": \"\"}}, \"type\": \"scatter3d\"}], \"scattercarpet\": [{\"marker\": {\"colorbar\": {\"outlinewidth\": 0, \"ticks\": \"\"}}, \"type\": \"scattercarpet\"}], \"scattergeo\": [{\"marker\": {\"colorbar\": {\"outlinewidth\": 0, \"ticks\": \"\"}}, \"type\": \"scattergeo\"}], \"scattergl\": [{\"marker\": {\"colorbar\": {\"outlinewidth\": 0, \"ticks\": \"\"}}, \"type\": \"scattergl\"}], \"scattermapbox\": [{\"marker\": {\"colorbar\": {\"outlinewidth\": 0, \"ticks\": \"\"}}, \"type\": \"scattermapbox\"}], \"scatterpolar\": [{\"marker\": {\"colorbar\": {\"outlinewidth\": 0, \"ticks\": \"\"}}, \"type\": \"scatterpolar\"}], \"scatterpolargl\": [{\"marker\": {\"colorbar\": {\"outlinewidth\": 0, \"ticks\": \"\"}}, \"type\": \"scatterpolargl\"}], \"scatterternary\": [{\"marker\": {\"colorbar\": {\"outlinewidth\": 0, \"ticks\": \"\"}}, \"type\": \"scatterternary\"}], \"surface\": [{\"colorbar\": {\"outlinewidth\": 0, \"ticks\": \"\"}, \"colorscale\": [[0.0, \"#0d0887\"], [0.1111111111111111, \"#46039f\"], [0.2222222222222222, \"#7201a8\"], [0.3333333333333333, \"#9c179e\"], [0.4444444444444444, \"#bd3786\"], [0.5555555555555556, \"#d8576b\"], [0.6666666666666666, \"#ed7953\"], [0.7777777777777778, \"#fb9f3a\"], [0.8888888888888888, \"#fdca26\"], [1.0, \"#f0f921\"]], \"type\": \"surface\"}], \"table\": [{\"cells\": {\"fill\": {\"color\": \"#EBF0F8\"}, \"line\": {\"color\": \"white\"}}, \"header\": {\"fill\": {\"color\": \"#C8D4E3\"}, \"line\": {\"color\": \"white\"}}, \"type\": \"table\"}]}, \"layout\": {\"annotationdefaults\": {\"arrowcolor\": \"#2a3f5f\", \"arrowhead\": 0, \"arrowwidth\": 1}, \"coloraxis\": {\"colorbar\": {\"outlinewidth\": 0, \"ticks\": \"\"}}, \"colorscale\": {\"diverging\": [[0, \"#8e0152\"], [0.1, \"#c51b7d\"], [0.2, \"#de77ae\"], [0.3, \"#f1b6da\"], [0.4, \"#fde0ef\"], [0.5, \"#f7f7f7\"], [0.6, \"#e6f5d0\"], [0.7, \"#b8e186\"], [0.8, \"#7fbc41\"], [0.9, \"#4d9221\"], [1, \"#276419\"]], \"sequential\": [[0.0, \"#0d0887\"], [0.1111111111111111, \"#46039f\"], [0.2222222222222222, \"#7201a8\"], [0.3333333333333333, \"#9c179e\"], [0.4444444444444444, \"#bd3786\"], [0.5555555555555556, \"#d8576b\"], [0.6666666666666666, \"#ed7953\"], [0.7777777777777778, \"#fb9f3a\"], [0.8888888888888888, \"#fdca26\"], [1.0, \"#f0f921\"]], \"sequentialminus\": [[0.0, \"#0d0887\"], [0.1111111111111111, \"#46039f\"], [0.2222222222222222, \"#7201a8\"], [0.3333333333333333, \"#9c179e\"], [0.4444444444444444, \"#bd3786\"], [0.5555555555555556, \"#d8576b\"], [0.6666666666666666, \"#ed7953\"], [0.7777777777777778, \"#fb9f3a\"], [0.8888888888888888, \"#fdca26\"], [1.0, \"#f0f921\"]]}, \"colorway\": [\"#636efa\", \"#EF553B\", \"#00cc96\", \"#ab63fa\", \"#FFA15A\", \"#19d3f3\", \"#FF6692\", \"#B6E880\", \"#FF97FF\", \"#FECB52\"], \"font\": {\"color\": \"#2a3f5f\"}, \"geo\": {\"bgcolor\": \"white\", \"lakecolor\": \"white\", \"landcolor\": \"#E5ECF6\", \"showlakes\": true, \"showland\": true, \"subunitcolor\": \"white\"}, \"hoverlabel\": {\"align\": \"left\"}, \"hovermode\": \"closest\", \"mapbox\": {\"style\": \"light\"}, \"paper_bgcolor\": \"white\", \"plot_bgcolor\": \"#E5ECF6\", \"polar\": {\"angularaxis\": {\"gridcolor\": \"white\", \"linecolor\": \"white\", \"ticks\": \"\"}, \"bgcolor\": \"#E5ECF6\", \"radialaxis\": {\"gridcolor\": \"white\", \"linecolor\": \"white\", \"ticks\": \"\"}}, \"scene\": {\"xaxis\": {\"backgroundcolor\": \"#E5ECF6\", \"gridcolor\": \"white\", \"gridwidth\": 2, \"linecolor\": \"white\", \"showbackground\": true, \"ticks\": \"\", \"zerolinecolor\": \"white\"}, \"yaxis\": {\"backgroundcolor\": \"#E5ECF6\", \"gridcolor\": \"white\", \"gridwidth\": 2, \"linecolor\": \"white\", \"showbackground\": true, \"ticks\": \"\", \"zerolinecolor\": \"white\"}, \"zaxis\": {\"backgroundcolor\": \"#E5ECF6\", \"gridcolor\": \"white\", \"gridwidth\": 2, \"linecolor\": \"white\", \"showbackground\": true, \"ticks\": \"\", \"zerolinecolor\": \"white\"}}, \"shapedefaults\": {\"line\": {\"color\": \"#2a3f5f\"}}, \"ternary\": {\"aaxis\": {\"gridcolor\": \"white\", \"linecolor\": \"white\", \"ticks\": \"\"}, \"baxis\": {\"gridcolor\": \"white\", \"linecolor\": \"white\", \"ticks\": \"\"}, \"bgcolor\": \"#E5ECF6\", \"caxis\": {\"gridcolor\": \"white\", \"linecolor\": \"white\", \"ticks\": \"\"}}, \"title\": {\"x\": 0.05}, \"xaxis\": {\"automargin\": true, \"gridcolor\": \"white\", \"linecolor\": \"white\", \"ticks\": \"\", \"title\": {\"standoff\": 15}, \"zerolinecolor\": \"white\", \"zerolinewidth\": 2}, \"yaxis\": {\"automargin\": true, \"gridcolor\": \"white\", \"linecolor\": \"white\", \"ticks\": \"\", \"title\": {\"standoff\": 15}, \"zerolinecolor\": \"white\", \"zerolinewidth\": 2}}}, \"title\": {\"text\": \"Vizualizare rezultate predic\\u021bie pe datele de test\"}, \"width\": 800, \"xaxis\": {\"anchor\": \"y\", \"domain\": [0.0, 1.0], \"title\": {\"text\": \"Pre\\u021buri ma\\u0219ini\"}}, \"xaxis2\": {\"anchor\": \"y2\", \"domain\": [0.0, 1.0], \"title\": {\"text\": \"Cai putere\"}}, \"yaxis\": {\"anchor\": \"x\", \"domain\": [0.575, 1.0], \"title\": {\"text\": \"Pre\\u021buri prognozate\"}}, \"yaxis2\": {\"anchor\": \"x2\", \"domain\": [0.0, 0.425], \"title\": {\"text\": \"Pre\\u021buri ma\\u0219ini\"}}},\n",
       "                        {\"responsive\": true}\n",
       "                    ).then(function(){\n",
       "                            \n",
       "var gd = document.getElementById('d86c013c-2417-4062-a52c-07373dbf786a');\n",
       "var x = new MutationObserver(function (mutations, observer) {{\n",
       "        var display = window.getComputedStyle(gd).display;\n",
       "        if (!display || display === 'none') {{\n",
       "            console.log([gd, 'removed!']);\n",
       "            Plotly.purge(gd);\n",
       "            observer.disconnect();\n",
       "        }}\n",
       "}});\n",
       "\n",
       "// Listen for the removal of the full notebook cells\n",
       "var notebookContainer = gd.closest('#notebook-container');\n",
       "if (notebookContainer) {{\n",
       "    x.observe(notebookContainer, {childList: true});\n",
       "}}\n",
       "\n",
       "// Listen for the clearing of the current output cell\n",
       "var outputEl = gd.closest('.output');\n",
       "if (outputEl) {{\n",
       "    x.observe(outputEl, {childList: true});\n",
       "}}\n",
       "\n",
       "                        })\n",
       "                };\n",
       "                });\n",
       "            </script>\n",
       "        </div>"
      ]
     },
     "metadata": {},
     "output_type": "display_data"
    }
   ],
   "source": [
    "\n",
    "grid = np.linspace(np.min(df_sample.price), np.max(df_sample.price), 100)\n",
    "xgrid = np.linspace(np.min(df_sample.horsepower), np.max(df_sample.horsepower), 100)\n",
    "\n",
    "###################################################################################33\n",
    "from plotly.subplots import make_subplots\n",
    "import plotly.graph_objects as go\n",
    "\n",
    "fig = make_subplots(rows=2, cols=1)\n",
    "\n",
    "fig.add_trace(\n",
    "    go.Scatter(x= y_test, \n",
    "               y = predicted_y,mode='markers',\n",
    "               name = 'Valori reale'),\n",
    "    row=1, col=1\n",
    ")\n",
    "fig.add_trace(\n",
    "    go.Scatter(x = grid, y = grid, mode='lines',\n",
    "               name = 'Diagonala x=y'),\n",
    "    row=1, col=1\n",
    ")\n",
    "\n",
    "fig.add_trace(\n",
    "    go.Scatter(x=traindf.horsepower, \n",
    "               y=traindf.price,mode='markers',\n",
    "               name = 'Date antrenament'),\n",
    "    row=2, col=1\n",
    ")\n",
    "fig.add_trace(\n",
    "    go.Scatter(x=testdf.horsepower, \n",
    "               y=testdf.price,mode='markers',\n",
    "               name = 'Date test'),\n",
    "    row=2, col=1\n",
    ")\n",
    "fig.add_trace(\n",
    "    go.Scatter(x=xgrid, \n",
    "               y=regression.predict(xgrid.reshape(100, 1)),mode='lines',\n",
    "               name = 'Linia de regresie'),\n",
    "    row=2, col=1\n",
    ")\n",
    "\n",
    "fig.update_layout(height=600, width=800, title_text=\"Vizualizare rezultate predicție pe datele de test\")\n",
    "\n",
    "# Update xaxis properties\n",
    "fig.update_xaxes(title_text=\"Prețuri mașini\", row=1, col=1)\n",
    "fig.update_xaxes(title_text=\"Cai putere\", row=2, col=1)\n",
    "\n",
    "# Update yaxis properties\n",
    "fig.update_yaxes(title_text=\"Prețuri prognozate\", row=1, col=1)\n",
    "fig.update_yaxes(title_text=\"Prețuri mașini\",  row=2, col=1)\n",
    "\n",
    "\n",
    "fig.show()"
   ]
  },
  {
   "cell_type": "markdown",
   "metadata": {},
   "source": [
    "# Tema de laborator:\n",
    "    \n",
    "Incărcați setul de date boston_housing.csv. Cele 14 coloane sunt următoarele:\n",
    "1. CRIM: rata criminalității pe cap de locuitor pe oraș\n",
    "2. ZN: proporție de teren rezidențial zonat pentru loturi de peste 25.000 mp.\n",
    "3. INDUS: proporție de suprafata(acri) de afaceri non-retail pe oraș\n",
    "4. CHAS: variabila dummy a râului Charles (= 1 dacă traiectul limitează râul; 0 altfel)\n",
    "5. NOX: concentrație de oxizi azotici (părți la 10 milioane) \n",
    "6. RM: numărul mediu de camere pe locuință\n",
    "7. age: proporția de unități ocupate de proprietari construite înainte de 1940\n",
    "8. DIS: distanțe ponderate până la cinci centre de angajare din Boston\n",
    "9. RAD: indicele de accesibilitate la autostrăzile radiale\n",
    "10. IMPOZIT: impozit pe valoarea integrală \\ 10.000 USD\n",
    "11. PTRATIO: raport elev-profesor în funcție de oraș (numarul de profesori vs numar de elevi)\n",
    "12. B: 1000 (Bk − 0,63) 2 unde Bk este proporția de negri pe oraș\n",
    "13. LSTAT:% populație nivel de trai scazut\n",
    "14. MEDV: Valoarea medie a caselor ocupate de proprietari în mii de dolari$ \n",
    "\n",
    "Putem vedea că atributele/predictorii au un amestec de unități\n",
    "\n",
    "Există 450 de observații.\n",
    "\n",
    "<div class=\"exercise\"><b>Exercise</b></div>\n",
    "\n",
    "Folosind fișierul de mai sus, în cele ce urmează veți încerca să preziceți cât mai bine coloana 14-MDEV care conține prețurile caselor. \n",
    "\n",
    "Am oferit un set de teste `boston_housing_test.csv`, dar nu vă uitati la fișier până când nu ați finalizat și antrenat un model.\n",
    "\n",
    "1. Încărcați datele. Formatul e csv. Uitați-vă rapid la un rezumat al datelor pentru a vă familiariza cu acestea și pentru a vă asigura că nimic nu este prea grav (găuri în date, coloane neutilizabile, etc).\n",
    "\n",
    "2. Utilizați o funcție discutată anterior pentru a partiționa automat datele într-un set de antrenare și validare. Depindeți de dvs. să alegeți cât de mari ar trebui să fie aceste două părți.\n",
    "\n",
    "3. Din atributele numerice alegeți cel mai bine corelat cu coloana 14 și creați un model de regresie pe datele (cel mai bine corelat -> matricea de corelație - puteți folosi pandas profiling dacă vreți)\n"
   ]
  },
  {
   "cell_type": "code",
   "execution_count": 20,
   "metadata": {},
   "outputs": [],
   "source": [
    "# codul vostru aici\n",
    "\n",
    "\n",
    "# creați splitare în set de train si test\n"
   ]
  },
  {
   "cell_type": "markdown",
   "metadata": {},
   "source": [
    "##### 1.5 Compararea modelelor de regresie. Aplicatie: top predictori"
   ]
  },
  {
   "cell_type": "markdown",
   "metadata": {},
   "source": [
    "#### Putere de predictie individuala: Predictive Residual Sum of Squares\n",
    "\n",
    "Vom folos in functia de mai jos de mai multe ori regresia liniara simpla pentru a compara puterea predictie a fiecarui atribut in parte in prezicerea pretului - practic, vom prezic pe rand una din observatii pe baza modelelor facut cu toate celelalte inregistrari. \n",
    "\n"
   ]
  },
  {
   "cell_type": "code",
   "execution_count": 21,
   "metadata": {},
   "outputs": [],
   "source": [
    "cars_lr = traindf[['price', 'fueltype', 'aspiration','carbody', 'drivewheel','wheelbase',\n",
    "                  'curbweight', 'enginetype', 'cylindernumber', 'enginesize', 'boreratio','horsepower', \n",
    "                    'fueleconomy', 'carlength','carwidth', 'carsrange']]"
   ]
  },
  {
   "cell_type": "code",
   "execution_count": 22,
   "metadata": {},
   "outputs": [
    {
     "data": {
      "text/plain": [
       "price                int32\n",
       "fueltype            object\n",
       "aspiration          object\n",
       "carbody             object\n",
       "drivewheel          object\n",
       "wheelbase          float64\n",
       "curbweight           int64\n",
       "enginetype          object\n",
       "cylindernumber      object\n",
       "enginesize           int64\n",
       "boreratio          float64\n",
       "horsepower           int64\n",
       "fueleconomy        float64\n",
       "carlength          float64\n",
       "carwidth           float64\n",
       "carsrange         category\n",
       "dtype: object"
      ]
     },
     "execution_count": 22,
     "metadata": {},
     "output_type": "execute_result"
    }
   ],
   "source": [
    "cars_lr.dtypes"
   ]
  },
  {
   "cell_type": "markdown",
   "metadata": {},
   "source": [
    "Un mod de a genera numere pentru variabilele categoriale este metod get_dummies.\n",
    "\n",
    "Metoda din sklearn este la fel de bună și folosită mai ales când vom vorbi despre linii de asamblare (pipelines) pentru antrenare și testare automată (probabil semestrul următor...)"
   ]
  },
  {
   "cell_type": "code",
   "execution_count": 23,
   "metadata": {},
   "outputs": [],
   "source": [
    "# Funcția care va codifica variabilele categoriale\n",
    "def dummies(x,df):\n",
    "    temp = pd.get_dummies(df[x], drop_first = True)\n",
    "    df = pd.concat([df, temp], axis = 1)\n",
    "    df.drop([x], axis = 1, inplace = True)\n",
    "    return df\n"
   ]
  },
  {
   "cell_type": "markdown",
   "metadata": {},
   "source": [
    "Codificăm variabilele categoriale presupunând (neverificat) existența implictă a unei importanțe ierahice a valorilor."
   ]
  },
  {
   "cell_type": "code",
   "execution_count": 24,
   "metadata": {},
   "outputs": [],
   "source": [
    "cars_lr = dummies('aspiration',cars_lr)\n",
    "cars_lr = dummies('carbody',cars_lr)\n",
    "cars_lr = dummies('drivewheel',cars_lr)\n",
    "cars_lr = dummies('enginetype',cars_lr)\n",
    "cars_lr = dummies('cylindernumber',cars_lr)\n",
    "cars_lr = dummies('carsrange',cars_lr)\n",
    "cars_lr = dummies('fueltype',cars_lr)"
   ]
  },
  {
   "cell_type": "code",
   "execution_count": 25,
   "metadata": {},
   "outputs": [
    {
     "data": {
      "text/plain": [
       "Index(['price', 'wheelbase', 'curbweight', 'enginesize', 'boreratio',\n",
       "       'horsepower', 'fueleconomy', 'carlength', 'carwidth', 'turbo',\n",
       "       'hardtop', 'hatchback', 'sedan', 'wagon', 'fwd', 'rwd', 'dohcv', 'l',\n",
       "       'ohc', 'ohcf', 'ohcv', 'rotor', 'five', 'four', 'six', 'twelve', 'two',\n",
       "       'Medium', 'Highend', 'gas'],\n",
       "      dtype='object')"
      ]
     },
     "execution_count": 25,
     "metadata": {},
     "output_type": "execute_result"
    }
   ],
   "source": [
    "cars_lr.columns"
   ]
  },
  {
   "cell_type": "code",
   "execution_count": 26,
   "metadata": {},
   "outputs": [],
   "source": [
    "import numpy as np\n",
    "from sklearn.model_selection import KFold\n",
    "\n",
    "   \n",
    "def cross_validation_score(df, model,k, target, covs = None):\n",
    "    \n",
    "    # compute press score:\n",
    "    res = []\n",
    "    # split in 10 equal parts for crossvalidation\n",
    "    kf = KFold(n_splits=k)\n",
    "    \n",
    "    \n",
    "    for train_index, test_index in kf.split(df):\n",
    "           \n",
    "        \n",
    "        X_train = None\n",
    "        X_test = None\n",
    "        \n",
    "        if covs is not None:\n",
    "            \n",
    "            X_train = df[covs].iloc[train_index]\n",
    "            X_test = df[covs].iloc[test_index]\n",
    "        \n",
    "        y_train = df[[target]].iloc[train_index]\n",
    "        y_test = df[[target]].iloc[test_index]\n",
    "        \n",
    "        #print('training')\n",
    "        # train on X_temp\n",
    "        trained_model = train_model(model, X_train, y_train)\n",
    "        \n",
    "        #print(model, trained_model)\n",
    "        if model == 'base_model':\n",
    "            trained_model = [trained_model[0]] *len(y_test)\n",
    "        \n",
    "        #print(model, trained_model)\n",
    "#         print('compute error')\n",
    "#         print()\n",
    "        # forecast and compute MSE        \n",
    "        y_hat = forecast(model, trained_model,X_test)\n",
    "        \n",
    "        #print(y_test.shape[0],  len(y_hat))\n",
    "        res.append( np.sum((y_test.values -y_hat )**2)/len(y_test))\n",
    "        \n",
    "    return np.mean(res)\n",
    "\n",
    "\n",
    "# linear regression and base model \n",
    "def train_model(model, X,y):\n",
    "    \n",
    "    if model == 'base_model':\n",
    "        \n",
    "        # just predict using the average of the observed variabile (the one to predict)\n",
    "        return sum(y.values)/len(y)\n",
    "    \n",
    "    else: # linear regression\n",
    "        \n",
    "        reg = LinearRegression()\n",
    "        \n",
    "        #print(X.values[0:10], y.values[0:10])\n",
    "        reg.fit(X.values, y.values)\n",
    "    \n",
    "        return reg\n",
    "\n",
    "def forecast(model,trained_model, X):\n",
    "    \n",
    "    if model == 'base_model': # base model, i.e. averages\n",
    "        \n",
    "        return trained_model # return the average\n",
    "    \n",
    "    else: # multilinear regression\n",
    "        \n",
    "        return trained_model.predict(X.values)"
   ]
  },
  {
   "cell_type": "code",
   "execution_count": 27,
   "metadata": {},
   "outputs": [
    {
     "data": {
      "text/plain": [
       "Index(['price', 'wheelbase', 'curbweight', 'enginesize', 'boreratio',\n",
       "       'horsepower', 'fueleconomy', 'carlength', 'carwidth', 'turbo',\n",
       "       'hardtop', 'hatchback', 'sedan', 'wagon', 'fwd', 'rwd', 'dohcv', 'l',\n",
       "       'ohc', 'ohcf', 'ohcv', 'rotor', 'five', 'four', 'six', 'twelve', 'two',\n",
       "       'Medium', 'Highend', 'gas'],\n",
       "      dtype='object')"
      ]
     },
     "execution_count": 27,
     "metadata": {},
     "output_type": "execute_result"
    }
   ],
   "source": [
    "cars_lr.columns"
   ]
  },
  {
   "cell_type": "code",
   "execution_count": 38,
   "metadata": {},
   "outputs": [
    {
     "name": "stdout",
     "output_type": "stream",
     "text": [
      "base model:  59637752.81480517\n"
     ]
    },
    {
     "data": {
      "text/html": [
       "<div>\n",
       "<style scoped>\n",
       "    .dataframe tbody tr th:only-of-type {\n",
       "        vertical-align: middle;\n",
       "    }\n",
       "\n",
       "    .dataframe tbody tr th {\n",
       "        vertical-align: top;\n",
       "    }\n",
       "\n",
       "    .dataframe thead th {\n",
       "        text-align: right;\n",
       "    }\n",
       "</style>\n",
       "<table border=\"1\" class=\"dataframe\">\n",
       "  <thead>\n",
       "    <tr style=\"text-align: right;\">\n",
       "      <th></th>\n",
       "      <th>feature_name</th>\n",
       "      <th>PRESS</th>\n",
       "      <th>base model</th>\n",
       "      <th>Prediction Power</th>\n",
       "    </tr>\n",
       "  </thead>\n",
       "  <tbody>\n",
       "    <tr>\n",
       "      <th>2</th>\n",
       "      <td>enginesize</td>\n",
       "      <td>1.571588e+07</td>\n",
       "      <td>5.963775e+07</td>\n",
       "      <td>73.6</td>\n",
       "    </tr>\n",
       "    <tr>\n",
       "      <th>1</th>\n",
       "      <td>curbweight</td>\n",
       "      <td>1.958961e+07</td>\n",
       "      <td>5.963775e+07</td>\n",
       "      <td>67.2</td>\n",
       "    </tr>\n",
       "    <tr>\n",
       "      <th>4</th>\n",
       "      <td>horsepower</td>\n",
       "      <td>2.136494e+07</td>\n",
       "      <td>5.963775e+07</td>\n",
       "      <td>64.2</td>\n",
       "    </tr>\n",
       "    <tr>\n",
       "      <th>27</th>\n",
       "      <td>Highend</td>\n",
       "      <td>2.474849e+07</td>\n",
       "      <td>5.963775e+07</td>\n",
       "      <td>58.5</td>\n",
       "    </tr>\n",
       "    <tr>\n",
       "      <th>7</th>\n",
       "      <td>carwidth</td>\n",
       "      <td>2.725161e+07</td>\n",
       "      <td>5.963775e+07</td>\n",
       "      <td>54.3</td>\n",
       "    </tr>\n",
       "    <tr>\n",
       "      <th>5</th>\n",
       "      <td>fueleconomy</td>\n",
       "      <td>3.037516e+07</td>\n",
       "      <td>5.963775e+07</td>\n",
       "      <td>49.1</td>\n",
       "    </tr>\n",
       "    <tr>\n",
       "      <th>22</th>\n",
       "      <td>four</td>\n",
       "      <td>3.099811e+07</td>\n",
       "      <td>5.963775e+07</td>\n",
       "      <td>48.0</td>\n",
       "    </tr>\n",
       "    <tr>\n",
       "      <th>6</th>\n",
       "      <td>carlength</td>\n",
       "      <td>3.589357e+07</td>\n",
       "      <td>5.963775e+07</td>\n",
       "      <td>39.8</td>\n",
       "    </tr>\n",
       "    <tr>\n",
       "      <th>14</th>\n",
       "      <td>rwd</td>\n",
       "      <td>3.689611e+07</td>\n",
       "      <td>5.963775e+07</td>\n",
       "      <td>38.1</td>\n",
       "    </tr>\n",
       "    <tr>\n",
       "      <th>13</th>\n",
       "      <td>fwd</td>\n",
       "      <td>3.954887e+07</td>\n",
       "      <td>5.963775e+07</td>\n",
       "      <td>33.7</td>\n",
       "    </tr>\n",
       "    <tr>\n",
       "      <th>3</th>\n",
       "      <td>boreratio</td>\n",
       "      <td>4.338557e+07</td>\n",
       "      <td>5.963775e+07</td>\n",
       "      <td>27.3</td>\n",
       "    </tr>\n",
       "    <tr>\n",
       "      <th>0</th>\n",
       "      <td>wheelbase</td>\n",
       "      <td>4.691851e+07</td>\n",
       "      <td>5.963775e+07</td>\n",
       "      <td>21.3</td>\n",
       "    </tr>\n",
       "    <tr>\n",
       "      <th>23</th>\n",
       "      <td>six</td>\n",
       "      <td>4.838540e+07</td>\n",
       "      <td>5.963775e+07</td>\n",
       "      <td>18.9</td>\n",
       "    </tr>\n",
       "    <tr>\n",
       "      <th>17</th>\n",
       "      <td>ohc</td>\n",
       "      <td>5.078056e+07</td>\n",
       "      <td>5.963775e+07</td>\n",
       "      <td>14.9</td>\n",
       "    </tr>\n",
       "    <tr>\n",
       "      <th>19</th>\n",
       "      <td>ohcv</td>\n",
       "      <td>5.151999e+07</td>\n",
       "      <td>5.963775e+07</td>\n",
       "      <td>13.6</td>\n",
       "    </tr>\n",
       "    <tr>\n",
       "      <th>10</th>\n",
       "      <td>hatchback</td>\n",
       "      <td>5.764127e+07</td>\n",
       "      <td>5.963775e+07</td>\n",
       "      <td>3.3</td>\n",
       "    </tr>\n",
       "    <tr>\n",
       "      <th>9</th>\n",
       "      <td>hardtop</td>\n",
       "      <td>5.873694e+07</td>\n",
       "      <td>5.963775e+07</td>\n",
       "      <td>1.5</td>\n",
       "    </tr>\n",
       "    <tr>\n",
       "      <th>21</th>\n",
       "      <td>five</td>\n",
       "      <td>5.915665e+07</td>\n",
       "      <td>5.963775e+07</td>\n",
       "      <td>0.8</td>\n",
       "    </tr>\n",
       "    <tr>\n",
       "      <th>8</th>\n",
       "      <td>turbo</td>\n",
       "      <td>5.969816e+07</td>\n",
       "      <td>5.963775e+07</td>\n",
       "      <td>-0.1</td>\n",
       "    </tr>\n",
       "    <tr>\n",
       "      <th>16</th>\n",
       "      <td>l</td>\n",
       "      <td>6.055688e+07</td>\n",
       "      <td>5.963775e+07</td>\n",
       "      <td>-1.5</td>\n",
       "    </tr>\n",
       "    <tr>\n",
       "      <th>15</th>\n",
       "      <td>dohcv</td>\n",
       "      <td>6.077584e+07</td>\n",
       "      <td>5.963775e+07</td>\n",
       "      <td>-1.9</td>\n",
       "    </tr>\n",
       "    <tr>\n",
       "      <th>11</th>\n",
       "      <td>sedan</td>\n",
       "      <td>6.080157e+07</td>\n",
       "      <td>5.963775e+07</td>\n",
       "      <td>-2.0</td>\n",
       "    </tr>\n",
       "    <tr>\n",
       "      <th>24</th>\n",
       "      <td>twelve</td>\n",
       "      <td>6.081405e+07</td>\n",
       "      <td>5.963775e+07</td>\n",
       "      <td>-2.0</td>\n",
       "    </tr>\n",
       "    <tr>\n",
       "      <th>20</th>\n",
       "      <td>rotor</td>\n",
       "      <td>6.087281e+07</td>\n",
       "      <td>5.963775e+07</td>\n",
       "      <td>-2.1</td>\n",
       "    </tr>\n",
       "    <tr>\n",
       "      <th>25</th>\n",
       "      <td>two</td>\n",
       "      <td>6.087281e+07</td>\n",
       "      <td>5.963775e+07</td>\n",
       "      <td>-2.1</td>\n",
       "    </tr>\n",
       "    <tr>\n",
       "      <th>12</th>\n",
       "      <td>wagon</td>\n",
       "      <td>6.101740e+07</td>\n",
       "      <td>5.963775e+07</td>\n",
       "      <td>-2.3</td>\n",
       "    </tr>\n",
       "    <tr>\n",
       "      <th>28</th>\n",
       "      <td>gas</td>\n",
       "      <td>6.104818e+07</td>\n",
       "      <td>5.963775e+07</td>\n",
       "      <td>-2.4</td>\n",
       "    </tr>\n",
       "    <tr>\n",
       "      <th>18</th>\n",
       "      <td>ohcf</td>\n",
       "      <td>6.115076e+07</td>\n",
       "      <td>5.963775e+07</td>\n",
       "      <td>-2.5</td>\n",
       "    </tr>\n",
       "    <tr>\n",
       "      <th>26</th>\n",
       "      <td>Medium</td>\n",
       "      <td>6.148116e+07</td>\n",
       "      <td>5.963775e+07</td>\n",
       "      <td>-3.1</td>\n",
       "    </tr>\n",
       "  </tbody>\n",
       "</table>\n",
       "</div>"
      ],
      "text/plain": [
       "   feature_name         PRESS    base model  Prediction Power\n",
       "2    enginesize  1.571588e+07  5.963775e+07              73.6\n",
       "1    curbweight  1.958961e+07  5.963775e+07              67.2\n",
       "4    horsepower  2.136494e+07  5.963775e+07              64.2\n",
       "27      Highend  2.474849e+07  5.963775e+07              58.5\n",
       "7      carwidth  2.725161e+07  5.963775e+07              54.3\n",
       "5   fueleconomy  3.037516e+07  5.963775e+07              49.1\n",
       "22         four  3.099811e+07  5.963775e+07              48.0\n",
       "6     carlength  3.589357e+07  5.963775e+07              39.8\n",
       "14          rwd  3.689611e+07  5.963775e+07              38.1\n",
       "13          fwd  3.954887e+07  5.963775e+07              33.7\n",
       "3     boreratio  4.338557e+07  5.963775e+07              27.3\n",
       "0     wheelbase  4.691851e+07  5.963775e+07              21.3\n",
       "23          six  4.838540e+07  5.963775e+07              18.9\n",
       "17          ohc  5.078056e+07  5.963775e+07              14.9\n",
       "19         ohcv  5.151999e+07  5.963775e+07              13.6\n",
       "10    hatchback  5.764127e+07  5.963775e+07               3.3\n",
       "9       hardtop  5.873694e+07  5.963775e+07               1.5\n",
       "21         five  5.915665e+07  5.963775e+07               0.8\n",
       "8         turbo  5.969816e+07  5.963775e+07              -0.1\n",
       "16            l  6.055688e+07  5.963775e+07              -1.5\n",
       "15        dohcv  6.077584e+07  5.963775e+07              -1.9\n",
       "11        sedan  6.080157e+07  5.963775e+07              -2.0\n",
       "24       twelve  6.081405e+07  5.963775e+07              -2.0\n",
       "20        rotor  6.087281e+07  5.963775e+07              -2.1\n",
       "25          two  6.087281e+07  5.963775e+07              -2.1\n",
       "12        wagon  6.101740e+07  5.963775e+07              -2.3\n",
       "28          gas  6.104818e+07  5.963775e+07              -2.4\n",
       "18         ohcf  6.115076e+07  5.963775e+07              -2.5\n",
       "26       Medium  6.148116e+07  5.963775e+07              -3.1"
      ]
     },
     "execution_count": 38,
     "metadata": {},
     "output_type": "execute_result"
    }
   ],
   "source": [
    "# predictorii \n",
    "pred_vars = [ 'wheelbase', 'curbweight', 'enginesize', 'boreratio',\n",
    "       'horsepower', 'fueleconomy', 'carlength', 'carwidth', 'turbo',\n",
    "       'hardtop', 'hatchback', 'sedan', 'wagon', 'fwd', 'rwd', 'dohcv', 'l',\n",
    "       'ohc', 'ohcf', 'ohcv', 'rotor', 'five', 'four', 'six', 'twelve', 'two',\n",
    "       'Medium', 'Highend', 'gas']\n",
    "\n",
    "X = cars_lr[pred_vars]\n",
    "\n",
    "## select a metric to predict\n",
    "y = cars_lr[['price']] #df_metric[[metric_name]] \n",
    "\n",
    "# get prediction power of each columns\n",
    "\n",
    "dict_list = []\n",
    "base_model = (np.sum((y-np.mean(y))**2)/len(y)).values[0] #cross_validation_score(cars_lr,'base_model', 10, target = 'price')\n",
    "print('base model: ',base_model)\n",
    "for _,col in enumerate(pred_vars):\n",
    "    individual_press ={}\n",
    "\n",
    "    individual_press['feature_name'] = col\n",
    "    individual_press['PRESS'] = cross_validation_score(cars_lr[[col, 'price'] ], \n",
    "                                                       'lin-reg', 10, \n",
    "                                                       target = 'price',\n",
    "                                                      covs = [col])#[0][0]\n",
    "    individual_press['base model'] = base_model\n",
    "    individual_press['PRESS_pct_diff'] =round(100*(1-individual_press['PRESS']/base_model),1)#[0]),1)\n",
    "    dict_list.append(individual_press)\n",
    "\n",
    "individual_press_final = pd.DataFrame(dict_list)\n",
    "\n",
    "\n",
    "top_features = individual_press_final.sort_values(by = [\"PRESS_pct_diff\"], ascending = [False])\n",
    "top_features = top_features.rename(columns = {'PRESS_pct_diff':'Prediction Power'})\n",
    "top_features"
   ]
  },
  {
   "cell_type": "markdown",
   "metadata": {},
   "source": [
    "<a class=\"anchor\" id=\"sixth-bullet\"></a>\n",
    "## Regresorul kNN - $k$-nearest neighbors"
   ]
  },
  {
   "cell_type": "code",
   "execution_count": 86,
   "metadata": {},
   "outputs": [
    {
     "data": {
      "text/html": [
       "<div>\n",
       "<style scoped>\n",
       "    .dataframe tbody tr th:only-of-type {\n",
       "        vertical-align: middle;\n",
       "    }\n",
       "\n",
       "    .dataframe tbody tr th {\n",
       "        vertical-align: top;\n",
       "    }\n",
       "\n",
       "    .dataframe thead th {\n",
       "        text-align: right;\n",
       "    }\n",
       "</style>\n",
       "<table border=\"1\" class=\"dataframe\">\n",
       "  <thead>\n",
       "    <tr style=\"text-align: right;\">\n",
       "      <th></th>\n",
       "      <th>name</th>\n",
       "      <th>mpg</th>\n",
       "      <th>cyl</th>\n",
       "      <th>disp</th>\n",
       "      <th>hp</th>\n",
       "      <th>drat</th>\n",
       "      <th>wt</th>\n",
       "      <th>qsec</th>\n",
       "      <th>vs</th>\n",
       "      <th>am</th>\n",
       "      <th>gear</th>\n",
       "      <th>carb</th>\n",
       "    </tr>\n",
       "  </thead>\n",
       "  <tbody>\n",
       "    <tr>\n",
       "      <th>0</th>\n",
       "      <td>Mazda RX4</td>\n",
       "      <td>21.0</td>\n",
       "      <td>6</td>\n",
       "      <td>160.0</td>\n",
       "      <td>110</td>\n",
       "      <td>3.90</td>\n",
       "      <td>2.620</td>\n",
       "      <td>16.46</td>\n",
       "      <td>0</td>\n",
       "      <td>1</td>\n",
       "      <td>4</td>\n",
       "      <td>4</td>\n",
       "    </tr>\n",
       "    <tr>\n",
       "      <th>1</th>\n",
       "      <td>Mazda RX4 Wag</td>\n",
       "      <td>21.0</td>\n",
       "      <td>6</td>\n",
       "      <td>160.0</td>\n",
       "      <td>110</td>\n",
       "      <td>3.90</td>\n",
       "      <td>2.875</td>\n",
       "      <td>17.02</td>\n",
       "      <td>0</td>\n",
       "      <td>1</td>\n",
       "      <td>4</td>\n",
       "      <td>4</td>\n",
       "    </tr>\n",
       "    <tr>\n",
       "      <th>2</th>\n",
       "      <td>Datsun 710</td>\n",
       "      <td>22.8</td>\n",
       "      <td>4</td>\n",
       "      <td>108.0</td>\n",
       "      <td>93</td>\n",
       "      <td>3.85</td>\n",
       "      <td>2.320</td>\n",
       "      <td>18.61</td>\n",
       "      <td>1</td>\n",
       "      <td>1</td>\n",
       "      <td>4</td>\n",
       "      <td>1</td>\n",
       "    </tr>\n",
       "    <tr>\n",
       "      <th>3</th>\n",
       "      <td>Hornet 4 Drive</td>\n",
       "      <td>21.4</td>\n",
       "      <td>6</td>\n",
       "      <td>258.0</td>\n",
       "      <td>110</td>\n",
       "      <td>3.08</td>\n",
       "      <td>3.215</td>\n",
       "      <td>19.44</td>\n",
       "      <td>1</td>\n",
       "      <td>0</td>\n",
       "      <td>3</td>\n",
       "      <td>1</td>\n",
       "    </tr>\n",
       "    <tr>\n",
       "      <th>4</th>\n",
       "      <td>Hornet Sportabout</td>\n",
       "      <td>18.7</td>\n",
       "      <td>8</td>\n",
       "      <td>360.0</td>\n",
       "      <td>175</td>\n",
       "      <td>3.15</td>\n",
       "      <td>3.440</td>\n",
       "      <td>17.02</td>\n",
       "      <td>0</td>\n",
       "      <td>0</td>\n",
       "      <td>3</td>\n",
       "      <td>2</td>\n",
       "    </tr>\n",
       "  </tbody>\n",
       "</table>\n",
       "</div>"
      ],
      "text/plain": [
       "                name   mpg  cyl   disp   hp  drat     wt   qsec  vs  am  gear  \\\n",
       "0          Mazda RX4  21.0    6  160.0  110  3.90  2.620  16.46   0   1     4   \n",
       "1      Mazda RX4 Wag  21.0    6  160.0  110  3.90  2.875  17.02   0   1     4   \n",
       "2         Datsun 710  22.8    4  108.0   93  3.85  2.320  18.61   1   1     4   \n",
       "3     Hornet 4 Drive  21.4    6  258.0  110  3.08  3.215  19.44   1   0     3   \n",
       "4  Hornet Sportabout  18.7    8  360.0  175  3.15  3.440  17.02   0   0     3   \n",
       "\n",
       "   carb  \n",
       "0     4  \n",
       "1     4  \n",
       "2     1  \n",
       "3     1  \n",
       "4     2  "
      ]
     },
     "execution_count": 86,
     "metadata": {},
     "output_type": "execute_result"
    }
   ],
   "source": [
    "from sklearn.model_selection import train_test_split\n",
    "from sklearn.metrics import mean_squared_error\n",
    "\n",
    "dfcars = pd.read_csv(\"mtcars.csv\")\n",
    "dfcars = dfcars.rename(columns={\"Unnamed: 0\":\"name\"})\n",
    "\n",
    "dfcars.head()"
   ]
  },
  {
   "cell_type": "code",
   "execution_count": 87,
   "metadata": {},
   "outputs": [],
   "source": [
    "traindf, testdf = train_test_split(dfcars, test_size=0.2, random_state=42)\n",
    "\n",
    "y_train = np.array(traindf.mpg)\n",
    "X_train = np.array(traindf.wt)\n",
    "X_train = X_train.reshape(X_train.shape[0], 1)"
   ]
  },
  {
   "cell_type": "code",
   "execution_count": 76,
   "metadata": {},
   "outputs": [],
   "source": [
    "y_test = np.array(testdf.mpg)\n",
    "X_test = np.array(testdf.wt)\n",
    "X_test = X_test.reshape(X_test.shape[0], 1)"
   ]
  },
  {
   "cell_type": "markdown",
   "metadata": {},
   "source": [
    "\n",
    "Acum, că ești familiarizat cu `sklearn`, ești gata să faci o regresie KNN.  \n",
    "\n",
    "Regresorul implementat Sklearn `sklearn.neighbors.KNeighborsRegressor`. Parametrul principal este `number of nearest neighbors - numărul vecinilor`. Există alți parametri, cum ar fi metrica distanței (implicită este distanța euclidiană). Pentru o listă cu toți parametrii, consultați fișierul [Sklearn kNN Regressor Documentation](https://scikit-learn.org/stable/modules/generated/sklearn.neighbors.KNeighborsRegressor.html).\n",
    "\n",
    "Să folosim $5$ vecini."
   ]
  },
  {
   "cell_type": "code",
   "execution_count": 88,
   "metadata": {},
   "outputs": [],
   "source": [
    "# Import the library\n",
    "from sklearn.neighbors import KNeighborsRegressor"
   ]
  },
  {
   "cell_type": "code",
   "execution_count": 89,
   "metadata": {},
   "outputs": [],
   "source": [
    "# Set number of neighbors\n",
    "k = 5\n",
    "knnreg = KNeighborsRegressor(n_neighbors=k)"
   ]
  },
  {
   "cell_type": "code",
   "execution_count": 90,
   "metadata": {},
   "outputs": [
    {
     "name": "stdout",
     "output_type": "stream",
     "text": [
      "kNN model with 5 neighbors gives R^2 on the train set: 0.87181\n"
     ]
    }
   ],
   "source": [
    "# Fit the regressor - make sure your numpy arrays are the right shape\n",
    "knnreg.fit(X_train, y_train)\n",
    "\n",
    "# Evaluate the outcome on the train set using R^2\n",
    "r2_train = knnreg.score(X_train, y_train)\n",
    "\n",
    "# Print results\n",
    "print(f'kNN model with {k} neighbors gives R^2 on the train set: {r2_train:.5}')"
   ]
  },
  {
   "cell_type": "code",
   "execution_count": 80,
   "metadata": {},
   "outputs": [
    {
     "data": {
      "text/plain": [
       "array([20.14, 14.  , 15.3 , 26.3 , 19.56, 17.06, 16.88])"
      ]
     },
     "execution_count": 80,
     "metadata": {},
     "output_type": "execute_result"
    }
   ],
   "source": [
    "knnreg.predict(X_test)"
   ]
  },
  {
   "cell_type": "markdown",
   "metadata": {},
   "source": [
    "<div class=\"exercise\"><b>Exercițiu</b></div>\n",
    "\n",
    "Calculați și afișați scorul $R^{2}$ pe datele de test.\n",
    "\n",
    "Calculați și afișați scorul $R^{2}$ pe datele de test și pentru un regresor liniar pe aceleași date."
   ]
  },
  {
   "cell_type": "code",
   "execution_count": 81,
   "metadata": {},
   "outputs": [],
   "source": [
    "# Your code here"
   ]
  },
  {
   "cell_type": "markdown",
   "metadata": {},
   "source": [
    "Nu prea e bun scorul? Să variem numărul de vecini și să vedem ce obținem."
   ]
  },
  {
   "cell_type": "code",
   "execution_count": 82,
   "metadata": {},
   "outputs": [
    {
     "data": {
      "text/plain": [
       "{1: KNeighborsRegressor(algorithm='auto', leaf_size=30, metric='minkowski',\n",
       "                     metric_params=None, n_jobs=None, n_neighbors=1, p=2,\n",
       "                     weights='uniform'),\n",
       " 2: KNeighborsRegressor(algorithm='auto', leaf_size=30, metric='minkowski',\n",
       "                     metric_params=None, n_jobs=None, n_neighbors=2, p=2,\n",
       "                     weights='uniform'),\n",
       " 4: KNeighborsRegressor(algorithm='auto', leaf_size=30, metric='minkowski',\n",
       "                     metric_params=None, n_jobs=None, n_neighbors=4, p=2,\n",
       "                     weights='uniform'),\n",
       " 15: KNeighborsRegressor(algorithm='auto', leaf_size=30, metric='minkowski',\n",
       "                     metric_params=None, n_jobs=None, n_neighbors=15, p=2,\n",
       "                     weights='uniform')}"
      ]
     },
     "execution_count": 82,
     "metadata": {},
     "output_type": "execute_result"
    }
   ],
   "source": [
    "# Make our lives easy by storing the different regressors in a dictionary\n",
    "regdict = {}\n",
    "\n",
    "# Make our lives easier by entering the k values from a list\n",
    "k_list = [1, 2, 4, 15]\n",
    "\n",
    "# Do a bunch of KNN regressions\n",
    "for k in k_list:\n",
    "    knnreg = KNeighborsRegressor(n_neighbors=k)\n",
    "    knnreg.fit(X_train, y_train)\n",
    "    # Store the regressors in a dictionary\n",
    "    regdict[k] = knnreg \n",
    "\n",
    "# Print the dictionary to see what we have\n",
    "regdict"
   ]
  },
  {
   "cell_type": "markdown",
   "metadata": {},
   "source": [
    "\n",
    "Acum să vizualizăm toate valorile k în același grafic."
   ]
  },
  {
   "cell_type": "code",
   "execution_count": 84,
   "metadata": {},
   "outputs": [
    {
     "data": {
      "image/png": "[encoded data removed]",
      "text/plain": [
       "<Figure size 720x432 with 1 Axes>"
      ]
     },
     "metadata": {},
     "output_type": "display_data"
    }
   ],
   "source": [
    "fig, ax = plt.subplots(1,1, figsize=(10,6))\n",
    "\n",
    "ax.plot(dfcars.wt, dfcars.mpg, 'o', label=\"data\")\n",
    "\n",
    "xgrid = np.linspace(np.min(dfcars.wt), np.max(dfcars.wt), 100)\n",
    "\n",
    "# let's unpack the dictionary to its elements (items) which is the k and Regressor\n",
    "for k, regressor in regdict.items():\n",
    "    predictions = regressor.predict(xgrid.reshape(-1,1)) \n",
    "    ax.plot(xgrid, predictions, label=\"{}-NN\".format(k))\n",
    "\n",
    "ax.legend();"
   ]
  },
  {
   "cell_type": "markdown",
   "metadata": {},
   "source": [
    "<div class=\"exercise\"><b>Exercițiu</b></div>\n",
    "\n",
    "\n",
    "Explicați ce vedeți în grafic. **Hint** Observați cum $1$-NN trece prin fiecare punct al setului de antrenament, dar eșuează cu totul în altă parte. "
   ]
  },
  {
   "cell_type": "markdown",
   "metadata": {},
   "source": [
    "\n",
    "Să vedem scorurile pe setul de antrenament."
   ]
  },
  {
   "cell_type": "code",
   "execution_count": 70,
   "metadata": {},
   "outputs": [
    {
     "data": {
      "text/plain": [
       "Text(0, 0.5, '$R^{2}$')"
      ]
     },
     "execution_count": 70,
     "metadata": {},
     "output_type": "execute_result"
    },
    {
     "data": {
      "image/png": "[encoded data removed]",
      "text/plain": [
       "<Figure size 864x576 with 1 Axes>"
      ]
     },
     "metadata": {},
     "output_type": "display_data"
    }
   ],
   "source": [
    "ks = range(1, 15) # Grid of k's\n",
    "scores_train = [] # R2 scores\n",
    "for k in ks:\n",
    "    # Create KNN model\n",
    "    knnreg = KNeighborsRegressor(n_neighbors=k) \n",
    "    \n",
    "    # Fit the model to training data\n",
    "    knnreg.fit(X_train, y_train) \n",
    "    \n",
    "    # Calculate R^2 score\n",
    "    score_train = knnreg.score(X_train, y_train) \n",
    "    scores_train.append(score_train)\n",
    "\n",
    "# Plot\n",
    "fig, ax = plt.subplots(1,1, figsize=(12,8))\n",
    "ax.plot(ks, scores_train,'o-')\n",
    "ax.set_xlabel(r'$k$')\n",
    "ax.set_ylabel(r'$R^{2}$')"
   ]
  },
  {
   "cell_type": "markdown",
   "metadata": {},
   "source": [
    "<div class=\"exercise\"><b>Exercițiu</b></div>\n",
    "\n",
    "* De ce obținem un scor $R^2$  perfect pentru k=1 pentru setul de date de test?\n",
    "* Faceți același grafic ca mai sus pe setul de date de *test*.\n",
    "* Care e cel mai bun $k$ in primul grafic? Dar in al doilea?"
   ]
  },
  {
   "cell_type": "code",
   "execution_count": 71,
   "metadata": {},
   "outputs": [],
   "source": [
    "# Your code here\n"
   ]
  },
  {
   "cell_type": "code",
   "execution_count": 72,
   "metadata": {
    "scrolled": false
   },
   "outputs": [],
   "source": [
    "# %load solutions/knn_regression.py"
   ]
  },
  {
   "cell_type": "code",
   "execution_count": null,
   "metadata": {},
   "outputs": [],
   "source": []
  }
 ],
 "metadata": {
  "hide_input": false,
  "kernelspec": {
   "display_name": "Python 3",
   "language": "python",
   "name": "python3"
  },
  "language_info": {
   "codemirror_mode": {
    "name": "ipython",
    "version": 3
   },
   "file_extension": ".py",
   "mimetype": "text/x-python",
   "name": "python",
   "nbconvert_exporter": "python",
   "pygments_lexer": "ipython3",
   "version": "3.7.6"
  }
 },
 "nbformat": 4,
 "nbformat_minor": 2
}
